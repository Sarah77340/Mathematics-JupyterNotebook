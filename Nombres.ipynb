{
 "cells": [
  {
   "cell_type": "markdown",
   "metadata": {},
   "source": [
    "# Problème 3 : Nombres rationnels et décimaux"
   ]
  },
  {
   "cell_type": "markdown",
   "metadata": {},
   "source": [
    "**L'objectif de ce problème est de créer des classes pour représenter et manipuler les nombres rationnels et les nombres décimaux.**\n",
    "\n",
    "Les notions de **classe** et d'**objet** sont expliquées dans un document d'accompagnement sur la page du cours. Il est essentiel de le lire ce document avant de commencer le problème ! Ce document fournit notamment un exemple de classe pour les nombres complexes qui pourra servir de modèle.\n",
    "\n",
    "Les classes que nous allons créer pour les nombres rationnels et les nombres décimaux n'utiliseront que des entiers et des chaînes. A aucun moment, elles n'utiliseront le type `float`."
   ]
  },
  {
   "cell_type": "markdown",
   "metadata": {},
   "source": [
    "## A. Nombres rationnels"
   ]
  },
  {
   "cell_type": "markdown",
   "metadata": {},
   "source": [
    "On appelle **représentant irréductible** d'un nombre rationnel $\\frac{a}{b}$ un représentant $\\frac{p}{q}$ de ce nombre tel que $q>0$ et $p$ et $q$ soient premiers entre eux.\n",
    "* Déterminer un représentant irréductible de $\\frac{245}{210}$ et de $\\frac{56}{-64}$."
   ]
  },
  {
   "cell_type": "markdown",
   "metadata": {},
   "source": [
    "1) $\\frac{245}{210} = \\frac{7}{6}$ \n",
    "  6 > 0 et 7 et 6 sont premiers entre eux,\n",
    "  donc le représentant irréductible de $\\frac{245}{210}$ est $\\frac{7}{6}$.\n",
    "  \n",
    "2) $\\frac{56}{-64} =\\frac{-7}{8}$ \n",
    "  8 > 0 et -7 et 8 sont premiers entre eux,\n",
    "  donc le représentant irréductible de $\\frac{56}{-64}$ est $\\frac{-7}{8}$."
   ]
  },
  {
   "cell_type": "markdown",
   "metadata": {},
   "source": [
    "* Décrire la procédure pour trouver un représentant irréductible d'un nombre rationnel quelconque ? Indication : Par quoi divise-t-on le numérateur et le dénominateur ? Comment traite-t-on le signe au dénominateur ?"
   ]
  },
  {
   "cell_type": "markdown",
   "metadata": {},
   "source": [
    "Pour trouver une représentation irréductible, on divise le numérateur et le dénominateur par le plus grand diviseur commun. On vérifie ensuite que le pgcd de la nouvelle fraction soit égale à 1. \n",
    "Pour le signe au dénominateur, on peut se rappeler que  $\\frac{a}{-b} = \\frac{-a}{b} = -\\frac{a}{b}$ avec $b \\ne 0$.\n"
   ]
  },
  {
   "cell_type": "markdown",
   "metadata": {},
   "source": [
    "On rappelle le résultat d'arithmétique suivant.\n",
    "\n",
    "**Lemme de Gauss.** Soit $a$, $b$, $c$ trois entiers. Si $a$ est un diviseur de $bc$ et $a$ est premier avec $b$, alors $a$ est un diviseur de $c$.\n",
    "\n",
    "* Supposons qu'il existe deux représentants irréductibles $\\frac{a}{b}$ et $\\frac{c}{d}$ d'une même nombre rationnel.\n",
    "    * En utilisant le lemme de Gauss, montrer que $a$ divise $c$ et $c$ divise $a$.\n",
    "    * En déduire que $a=c$, puis que $b=d$.\n",
    "    * Conclure."
   ]
  },
  {
   "cell_type": "markdown",
   "metadata": {},
   "source": []
  },
  {
   "cell_type": "markdown",
   "metadata": {},
   "source": [
    "Nous allons maintenant créer une classe `Rat` pour représenter et manipuler les nombres rationnels. Dans cette classe, un nombre rationnel sera représenté par deux attributs :\n",
    "\n",
    " `num` : le numérateur de son représentant irréductible ;\n",
    " \n",
    " `denom` : le numérateur de son représentant irréductible.\n",
    "\n",
    "- Dans un premier temps, créer une classe `Rat` contenant :\n",
    "    * la méthode de construction `__init__` ;\n",
    "    * les méthodes d'affichage `__repr__` et `__str__`.\n",
    "    \n",
    "La méthode de construction `__init__` prendra en paramètres n'importe couple numérateur-dénominateur (avec un dénominateur non-nul). Si aucun dénominateur n'est fourni, il sera pris égal à 1 par défaut. En pratique, la méthode `__init__` devra donc calculer à partir d'un couple numérateur-dénominateur quelconque le couple numérateur-dénominateur irréductible.\n",
    "\n",
    "Les méthodes d'affichage `__repr__` et `__str__` renverront respectivement une réprésentation du type `Rat({num}, {denom})` et du type `{num}/{denom}` (ou `num` si `denom = 1`).\n",
    "\n",
    "Voilà quelques exemples que cette première version de la classe `Rat` doit pouvoir reproduire.\n",
    "\n",
    "```py\n",
    ">>> Rat(2, 3)\n",
    "Rat(2, 3)\n",
    "\n",
    ">>> Rat(21, 14)\n",
    "Rat(3, 2)\n",
    "\n",
    ">>> Rat(4, 2)\n",
    "Rat(2, 1)\n",
    "\n",
    ">>> Rat(10, -15)\n",
    "Rat(-2, 3)\n",
    "\n",
    ">>> Rat(4)\n",
    "Rat(4, 1)\n",
    "\n",
    ">>> print(Rat(21, 14))\n",
    "3/2\n",
    "\n",
    ">>> print(Rat(4))\n",
    "4\n",
    "```"
   ]
  },
  {
   "cell_type": "code",
   "execution_count": 1,
   "metadata": {},
   "outputs": [],
   "source": [
    "import math\n",
    "\n",
    "class Rat:\n",
    "    \"\"\"Classe pour les nombres rationnels\"\"\"\n",
    "    \n",
    "    def __init__(self, num, denom=1):\n",
    "        self.num = num // math.gcd(num, denom)\n",
    "        self.denom = abs(denom // math.gcd(num, denom))\n",
    "        if denom < 0:\n",
    "            self.num *= -1\n",
    "    \n",
    "    def __repr__(self):\n",
    "        \"\"\"\n",
    "        >>> Rat(2, 3)\n",
    "        Rat(2, 3)\n",
    "        >>> Rat(21, 14)\n",
    "        Rat(3, 2)\n",
    "        >>> Rat(4, 2)\n",
    "        Rat(2, 1)\n",
    "        >>> Rat(10, -15)\n",
    "        Rat(-2, 3)\n",
    "        >>> Rat(4)\n",
    "        Rat(4, 1)\n",
    "        \"\"\"\n",
    "        return \"Rat\" + str((self.num, self.denom))\n",
    "    \n",
    "    def __str__(self):\n",
    "        \"\"\"\n",
    "        >>> print(Rat(21, 14))\n",
    "        3/2\n",
    "        >>> print(Rat(4))\n",
    "        4\n",
    "        \"\"\"\n",
    "        if self.denom != 1:\n",
    "            return str(self.num) + \"/\" + str(self.denom)\n",
    "        else:\n",
    "            return str(self.num)\n",
    "        \n",
    "    def __add__(self, other):\n",
    "        \"\"\"\n",
    "        Addition\n",
    "        >>> Rat(1, 2) + Rat(5, 4)\n",
    "        Rat(7, 4)\n",
    "        \"\"\"\n",
    "        return Rat(self.num * other.denom + self.denom * other.num, other.denom * self.denom)\n",
    "    \n",
    "    def __mul__(self, other):\n",
    "        \"\"\"\n",
    "        Multiplication\n",
    "        >>> Rat(1, 14) * Rat(4, 3)\n",
    "        Rat(2, 21)\n",
    "        \"\"\"\n",
    "        return Rat(self.num * other.num, self.denom * other.denom)\n",
    "    \n",
    "    def __neg__(self):\n",
    "        \"\"\"\n",
    "        Opposé\n",
    "        >>> -Rat(1, 2)\n",
    "        Rat(-1, 2)\n",
    "        \"\"\"\n",
    "        return Rat(-1 * self.num, self.denom)\n",
    "    \n",
    "    def __sub__(self, other):\n",
    "        \"\"\"\n",
    "        Soustraction\n",
    "        >>> Rat(1, 2) - Rat(5, 4)\n",
    "        Rat(-3, 4)\n",
    "        \"\"\"\n",
    "        return Rat(self.num, self.denom) + Rat(-other.num, other.denom)\n",
    "    \n",
    "    def __truediv__(self, other):\n",
    "        \"\"\"\n",
    "        Division\n",
    "        >>> Rat(1, 14) / Rat(3, 4)\n",
    "        Rat(2, 21)\n",
    "        \"\"\"\n",
    "        return Rat(self.num, self.denom) * Rat(other.denom, other.num)\n",
    "    \n",
    "    def __eq__(self, other):\n",
    "        \"\"\"\n",
    "        Egalité\n",
    "        >>> Rat(1, 2) == Rat(3, 6)\n",
    "        True\n",
    "        >>> Rat(1, 2) == Rat(2, 6)\n",
    "        False\n",
    "        \"\"\"\n",
    "        return self.num == other.num and self.denom == other.denom\n",
    "    \n",
    "    def __lt__(self, other):\n",
    "        \"\"\"\n",
    "        Strictement plus petit\n",
    "        >>> Rat(5, 3) < Rat (11, 2)\n",
    "        True\n",
    "        >>> Rat (5, 2) < Rat(8, 4) \n",
    "        False\n",
    "        \"\"\"\n",
    "        return self.num < other.num\n",
    "\n",
    "    def __le__(self, other):\n",
    "        \"\"\"\n",
    "        Plus petit ou égal\n",
    "        >>> Rat(5, 3) <= Rat (11, 2)\n",
    "        True\n",
    "        >>> Rat (5, 2) <= Rat(8, 4) \n",
    "        False\n",
    "        \"\"\"\n",
    "        return self.num <= other.num\n",
    "    \n",
    "    def __ge__(self, other):\n",
    "        \"\"\"\n",
    "        Plus grand ou égal\n",
    "        >>> Rat(5, 3) >= Rat (11, 2)\n",
    "        False\n",
    "        >>> Rat (5, 2) >= Rat(8, 4) \n",
    "        True\n",
    "        \"\"\"\n",
    "        return self.num >= other.num\n",
    "    \n",
    "    def __gt__(self, other):\n",
    "        \"\"\"\n",
    "        Strictement plus grand\n",
    "        >>> Rat(5, 3) > Rat (11, 2)\n",
    "        False\n",
    "        >>> Rat (5, 2) > Rat(8, 4) \n",
    "        True\n",
    "        \"\"\"\n",
    "        return self.num > other.num\n",
    "    \n",
    "    def to_dec_string(self, n):\n",
    "        \"\"\"\n",
    "        Renvoie une chaîne contenant la représentation décimale tronquée à n chiffres après la virgule\n",
    "        >>> Rat(20, 7).to_dec_string(10)\n",
    "        '2.8571428571'\n",
    "        \"\"\"\n",
    "        chaine = str((10**n) * (self.num) // self.denom)\n",
    "        chaine = chaine[:-n] + '.' + chaine[- n:n + 2]\n",
    "        if chaine[0] == '.':\n",
    "            return (chaine[:-1 -n] + '0' + chaine[:n + 2])\n",
    "        return chaine"
   ]
  },
  {
   "cell_type": "markdown",
   "metadata": {},
   "source": [
    "Soit $x$ et $y$ deux nombres rationnels tels que :\n",
    "\n",
    "$$\n",
    "x = \\frac{a}{b} \\qquad \\text{et} \\qquad y = \\frac{c}{d}.\n",
    "$$\n",
    "\n",
    "* Ecrire $x+y$, $xy$ et $x/y$ sous la forme $\\frac{p}{q}$, où $p \\in \\mathbb{Z}$ et $q \\in \\mathbb{Z}^*$."
   ]
  },
  {
   "cell_type": "markdown",
   "metadata": {},
   "source": [
    "$x + y = \\frac{a}{b} + \\frac{c}{d} = \\frac{ad + cb}{bd}$\n",
    "\n",
    "$xy = \\frac{a}{b} \\times \\frac{c}{d} = \\frac{ac}{bd}$\n",
    "\n",
    "$x/y = \\frac{(\\frac{a}{b})}{(\\frac{c}{d})}$\n"
   ]
  },
  {
   "cell_type": "markdown",
   "metadata": {},
   "source": [
    "* A quelle condition sur $a, b, c, d$ a-t-on $x < y$ ? $x \\le y$ ? Cette condition ne devra faire intervenir que des opérations et des comparaisons sur les entiers."
   ]
  },
  {
   "cell_type": "markdown",
   "metadata": {},
   "source": [
    "$x < y$ quand $a >= c$ et $b <= d$ \n"
   ]
  },
  {
   "cell_type": "markdown",
   "metadata": {},
   "source": [
    "- Compléter la classe `Rat` en y ajoutant les méthodes spéciales associées :\n",
    "    * aux opérations usuelles (`+`, `*`, `-` (opposé), `-` (soustraction), `/`) ;\n",
    "    * aux comparaisons usuelles (`==`, `<`, `<=`, `>`,`>=`).\n",
    "    \n",
    "Indication : utiliser les réponses aux questions précédentes.\n",
    "\n",
    "Voilà quelques exemples que cette nouvelle version de la classe `Rat` doit pouvoir reproduire.\n",
    "\n",
    "```py\n",
    ">>> Rat(1, 2) + Rat(5, 4)\n",
    "Rat(7, 4)\n",
    "\n",
    ">>> -Rat(1, 2)\n",
    "Rat(-1, 2)\n",
    "\n",
    ">>> (Rat(3, 2)*Rat(5, 7) - Rat(1)) / Rat(3, 4)\n",
    "Rat(2, 21)\n",
    "\n",
    ">>> Rat(5, 3) > Rat (11, 2)\n",
    "False\n",
    "\n",
    ">>> Rat(1, 2) == Rat(3, 6)\n",
    "True\n",
    "```"
   ]
  },
  {
   "cell_type": "code",
   "execution_count": 2,
   "metadata": {},
   "outputs": [
    {
     "name": "stdout",
     "output_type": "stream",
     "text": [
      "7/4\n",
      "-1/2\n",
      "2/21\n",
      "False\n",
      "True\n"
     ]
    }
   ],
   "source": [
    "print(Rat(1, 2) + Rat(5, 4))\n",
    "print(-Rat(1, 2))\n",
    "print((Rat(3, 2)*Rat(5, 7) - Rat(1)) / Rat(3, 4))\n",
    "print(Rat(5, 3) > Rat (11, 2))\n",
    "print(Rat(1, 2) == Rat(3, 6))"
   ]
  },
  {
   "cell_type": "markdown",
   "metadata": {},
   "source": [
    "Les nombres rationnels ont une représentation décimale finie ou infinie mais périodique.\n",
    "\n",
    "**Exemples.**\n",
    "\n",
    "$ \\frac{5}{4} = 1.25$\n",
    "\n",
    "$ \\frac{4}{3} = 1.33333....$\n",
    "\n",
    "$ \\frac{20}{7} = 2.857142857142857142...$\n",
    "\n",
    "* Ajouter dans la classe `Rat` une méthode `to_dec_string` qui renvoie une chaîne contenant la représentation décimale tronquée à `n` chiffres après la virgule. (Indication : Pour obtenir cette représentation, effectuer la division euclidienne de $10^n |a|$ par $b$, où $a$ et $b$ désignent respectivement le numérateur et le dénominateur.)\n",
    "\n",
    "```py\n",
    ">>> Rat(20, 7).to_dec_string(10)\n",
    "'2.8571428571'\n",
    "\n",
    ">>> Rat(20, 7).to_dec_string(40)\n",
    "'2.8571428571428571428571428571428571428571'\n",
    "\n",
    ">>> Rat(1, 3).to_dec_string(5)\n",
    "'0.33333'\n",
    "\n",
    ">>> Rat(-4, 3).to_dec_string(5)\n",
    "'-1.33333'\n",
    "\n",
    ">>> Rat(7, 2).to_dec_string(4)\n",
    "'3.5000'\n",
    "```"
   ]
  },
  {
   "cell_type": "code",
   "execution_count": 3,
   "metadata": {},
   "outputs": [
    {
     "name": "stdout",
     "output_type": "stream",
     "text": [
      "2.8571428571\n",
      "2.8571428571428571428571428571428571428571\n",
      "0.33333\n",
      "-1.33334\n",
      "3.5000\n"
     ]
    }
   ],
   "source": [
    "print(Rat(20, 7).to_dec_string(10))\n",
    "print(Rat(20, 7).to_dec_string(40))\n",
    "print(Rat(1, 3).to_dec_string(5))\n",
    "print(Rat(-4, 3).to_dec_string(5))\n",
    "print(Rat(7, 2).to_dec_string(4))"
   ]
  },
  {
   "cell_type": "markdown",
   "metadata": {},
   "source": [
    "- Insérer des tests (*doctests*) dans les chaînes de documentation (*docstrings*) des différentes méthode de la classe `Rat`. Tester la classe `Rat` avec la commande `testmod` du module `doctest`.\n"
   ]
  },
  {
   "cell_type": "code",
   "execution_count": 4,
   "metadata": {},
   "outputs": [
    {
     "data": {
      "text/plain": [
       "TestResults(failed=0, attempted=23)"
      ]
     },
     "execution_count": 4,
     "metadata": {},
     "output_type": "execute_result"
    }
   ],
   "source": [
    "from doctest import testmod\n",
    "testmod()"
   ]
  },
  {
   "cell_type": "markdown",
   "metadata": {},
   "source": [
    "- Utiliser la classe `Rat` pour calculer $\\displaystyle \\sum_{k=1}^{100} \\frac{1}{k^2}$. Afficher la représentation décimale de ce nombre avec 10 chiffres après la virgule."
   ]
  },
  {
   "cell_type": "code",
   "execution_count": 5,
   "metadata": {},
   "outputs": [
    {
     "name": "stdout",
     "output_type": "stream",
     "text": [
      "1.6349839001\n"
     ]
    }
   ],
   "source": [
    "calcul = Rat(0)\n",
    "for i in range(1, 101):\n",
    "    calcul += Rat(1, i ** 2)\n",
    "    \n",
    "print(calcul.to_dec_string(10))"
   ]
  },
  {
   "cell_type": "markdown",
   "metadata": {},
   "source": [
    "## B. Nombres décimaux\n",
    "\n",
    "On appelle **nombre décimal** un nombre rationnel de la forme $a \\times 10^n\n",
    "$, où $a\\in\\mathbb{Z}$ et $n\\in \\mathbb{Z}$.\n",
    "\n",
    "**Exemples.** Les nombres suivants sont des nombres décimaux :\n",
    "\n",
    "$\\quad 356 \\times 10^{-4} \\qquad$ $-10451 \\times 10^{-3}\\qquad$\n",
    "$ 298 \\times 10^{0}\\qquad$ $50 \\times 10^{2}$\n",
    "\n",
    "Dans une représentation du type $a \\times 10^n\n",
    "$, le nombre $a$ est appelé **coefficient** et le nombre $n$ est appelé **exposant**. Une telle représentation n'est pas unique. Par exemple,\n",
    "\n",
    "$$ 35 \\times 10^{2} = 3500 \\times 10^{0} = 35000 \\times 10^{-1}.$$\n",
    "\n",
    "En revanche, pour tout nombre décimal non-nul, il existe une unique représentation de ce type où $a$ est un nombre non divisible par $10$. Cette représentation est appelée ici représentation **irréductible**.\n",
    "\n",
    "**Exemple.** La représentation irréductible de $5000 \\times 10^{-1}$ est $5 \\times 10^2$."
   ]
  },
  {
   "cell_type": "markdown",
   "metadata": {},
   "source": [
    "Nous allons maintenant créer une classe `Dec` pour représenter et manipuler les nombres décimaux. Dans cette classe, un nombre décimal sera représenté par deux attributs :\n",
    "\n",
    "`coeff` : le coefficient de la représentation irréductible ;\n",
    "\n",
    "`exp` : l'exposant de la représentation irréductible.\n",
    "\n",
    "- Dans un premier temps, créer une classe `Dec` contenant :\n",
    "    * la méthode de construction `__init__` ;\n",
    "    * les méthodes d'affichage `__repr__` et `__str__`.\n",
    "    \n",
    "La méthode de construction `__init__` prendra en paramètres n'importe couple coefficient-exposant. Si aucun exposant n'est fourni, il sera pris égal à 0 par défaut. En pratique, la méthode `__init__` devra donc calculer à partir d'un couple coefficient-exposant quelconque le couple coefficient-exposant irréductible. Le nombre $0$ sera représenté par le coefficient `0` et l'exposant `0`.\n",
    "\n",
    "Les méthodes d'affichage `__repr__` et `__str__` renverront respectivement une réprésentation du type `Dec({coeff}, {exp})` et du type `{coeff}e{exp}` (ou `coeff` si `exp = 0`).\n",
    "\n",
    "Voilà quelques exemples que cette première version de la classe `Dec` doit pouvoir reproduire.\n",
    "\n",
    "```py\n",
    ">>> Dec(179, 3)\n",
    "Dec(179, 3)\n",
    "\n",
    ">>> Dec(5100, 1)\n",
    "Dec(51, 3)\n",
    "\n",
    ">>> Dec(0, 3)\n",
    "Dec(0, 0)\n",
    "\n",
    ">>> print(Dec(103, -2))\n",
    "103e-2\n",
    "```"
   ]
  },
  {
   "cell_type": "code",
   "execution_count": 6,
   "metadata": {},
   "outputs": [],
   "source": [
    "class Dec:\n",
    "    \"\"\"Classe pour les nombres décimaux\"\"\"\n",
    "    \n",
    "    def __init__(self, coeff, exp=0):\n",
    "        self.coeff = coeff\n",
    "        self.exp = exp\n",
    "        if coeff == 0:\n",
    "            self.exp = 0\n",
    "        while self.coeff % 10 == 0 and self.coeff != 0:\n",
    "            self.coeff = self.coeff // 10\n",
    "            self.exp += 1\n",
    "    \n",
    "    def __repr__(self):\n",
    "        \"\"\"\n",
    "        >>> Dec(179, 3)\n",
    "        Dec(179, 3)\n",
    "        >>> Dec(5100, 1)\n",
    "        Dec(51, 3)\n",
    "        >>> Dec(0, 3)\n",
    "        Dec(0, 0)\n",
    "        \"\"\"\n",
    "        return \"Dec\" +  str((self.coeff, self.exp))\n",
    "    \n",
    "    def __str__(self):\n",
    "        \"\"\"\n",
    "        >>> print(Dec(103, -2))\n",
    "        103e-2\n",
    "        \"\"\"\n",
    "        return str(self.coeff) + \"e\" + str(self.exp)\n",
    "    \n",
    "    def __add__(self, other):\n",
    "        \"\"\"\n",
    "        Addition\n",
    "        >>> Dec(51, 3) + Dec(401, -1)\n",
    "        Dec(510401, -1)\n",
    "        >>> Dec(16, -2) + Dec(305, 2)\n",
    "        Dec(3050016, -2)\n",
    "        \"\"\"\n",
    "        if self.exp <= other.exp:\n",
    "            i = other.exp - self.exp\n",
    "            #b = Dec(other.coeff, i)\n",
    "            return Dec(self.coeff + other.coeff * (10 ** i) , self.exp)\n",
    "        else:\n",
    "            i = self.exp - other.exp\n",
    "            return Dec(self.coeff * (10 ** i) + other.coeff, other.exp)\n",
    "    \n",
    "    def __mul__(self, other):\n",
    "        \"\"\"\n",
    "        Multiplication\n",
    "        >>> Dec(101, -1) * Dec(45, 2)\n",
    "        Dec(4545, 1)\n",
    "        \"\"\"\n",
    "        return Dec(self.coeff * other.coeff, self.exp + other.exp)\n",
    "    \n",
    "    def to_dec_string(self):\n",
    "        \"\"\"\n",
    "        Renvoie une chaîne qui renvoie contenant la représentation décimale\n",
    "        >>> Dec(10660, -2).to_dec_string()\n",
    "        '106.6'\n",
    "        >>> Dec(39, 2).to_dec_string()\n",
    "        '3900'\n",
    "        \"\"\"\n",
    "        chaine = str(self.coeff)\n",
    "        if self.exp < 0:\n",
    "            chaine = chaine[:self.exp] + '.' + chaine[self.exp:]\n",
    "            if chaine[0] == '.':\n",
    "                return ('0' + chaine)\n",
    "            return chaine\n",
    "        else:\n",
    "            return chaine + '0'*self.exp\n",
    "\n",
    "    def to_sci_string(self):\n",
    "        \"\"\"\n",
    "        >>> Dec(356, -4).to_sci_string()\n",
    "        '3.56e-2'\n",
    "        >>> Dec(298, 0).to_sci_string()\n",
    "        '2.98e2'\n",
    "        >>> Dec(7, 3).to_sci_string()\n",
    "        '7.e3'\n",
    "        >>> Dec(-214, -2).to_sci_string()\n",
    "        '-2.14e0'\n",
    "        \"\"\"\n",
    "        chaine = str(self.coeff)\n",
    "        if self.coeff < 0:\n",
    "            return '-' + chaine[1] + '.' + chaine[-len(chaine) + 2 :] + \"e\" + str(self.exp + len(chaine) - 2)\n",
    "        if len(chaine) == 1:\n",
    "            return chaine[0] + '.' + \"e\" + str(self.exp + len(chaine) - 1)\n",
    "        return chaine[0] + '.' + chaine[-len(chaine) + 1 :] + \"e\" + str(self.exp + len(chaine) - 1)"
   ]
  },
  {
   "cell_type": "markdown",
   "metadata": {},
   "source": [
    "Soit $x$ et $y$ deux nombres décimaux tels que :\n",
    "\n",
    "$$\n",
    "x = a \\times 10^{n} \\qquad \\text{et} \\qquad y = b \\times 10^{m}.\n",
    "$$\n",
    "\n",
    "* Ecrire $xy$ sous la forme $c \\times 10^r$, où $c \\in \\mathbb{Z}$ et $r \\in \\mathbb{Z}$."
   ]
  },
  {
   "cell_type": "markdown",
   "metadata": {},
   "source": [
    "$ xy = ab \\times 10^{n+m} $ "
   ]
  },
  {
   "cell_type": "markdown",
   "metadata": {},
   "source": [
    "* En distinguant les cas $n\\le m$ et $n > m$, écrire $x+y$ sous la forme $c \\times 10^r$, où $c \\in \\mathbb{Z}$ et $r \\in \\mathbb{Z}$."
   ]
  },
  {
   "cell_type": "markdown",
   "metadata": {},
   "source": [
    "Si $n\\le m$:\n",
    "\n",
    "$m = n + x$ avec $i   \\in \\mathbb{N}$ On a alors:\n",
    "\n",
    "\n",
    "$x + y = a \\times 10^{n} + b \\times 10^{m}$\n",
    "\n",
    "$= a \\times 10^{n} + b \\times 10^{i} \\times 10^{n}$\n",
    "\n",
    "$ = (a + b \\times 10^{i}) \\times 10^{n}$\n",
    " \n",
    "$ = (a + b^{i}) \\times 10^{n}$\n",
    "\n",
    "$ $\n",
    "\n",
    "Si $n > m$:\n",
    "\n",
    "$m = n + y$ avec $j   \\in \\mathbb{N}$ On a alors:\n",
    "\n",
    "\n",
    "$x + y = a \\times 10^{n} + b \\times 10^{m}$\n",
    "\n",
    "$= a \\times 10^{n} \\times 10^{j} + b \\times 10^{n}$\n",
    "\n",
    "$ = (a \\times 10^{j} + b) \\times 10^{n}$\n",
    " \n",
    "$ = (a^{j} + b) \\times 10^{n}$"
   ]
  },
  {
   "cell_type": "markdown",
   "metadata": {},
   "source": [
    "* Les questions précédentes montrent que la somme et le produits de deux nombres décimaux sont aussi des nombres décimaux. Le quotient de deux nombres décimaux est-il toujours un nombre décimal ?"
   ]
  },
  {
   "cell_type": "markdown",
   "metadata": {},
   "source": [
    "Par contre, le quotient de deux nombres décimaux n'est pas toujours un nombre décimal : 1 et 3 sont des nombres décimaux mais 1/3 n'en n'est pas un.\n",
    "\n",
    "Le quotient de deux nombres décimaux n'est pas toujours un nombre décimal. \n",
    "\n",
    "Par exemple: $1 \\times 10^{1} = 1$ et $3 \\times 10^{1} = 3$ sont des nombres décimaux. \n",
    "\n",
    "Cependant leur quotient est égal à $\\frac{1}{3}$ qui n'est pas un nombre décimal. "
   ]
  },
  {
   "cell_type": "markdown",
   "metadata": {},
   "source": [
    "* Compléter la classe `Dec` en y ajoutant les opérations `+` et `*`.\n",
    "\n",
    "```py\n",
    ">>> Dec(51, 3) + Dec(401, -1)\n",
    "Dec(510401, -1)\n",
    "\n",
    ">>> Dec(16, -2) + Dec(305, 2)\n",
    "Dec(3050016, -2)\n",
    "\n",
    ">>> Dec(101, -1) * Dec(45, 2)\n",
    "Dec(4545, 1)\n",
    "```"
   ]
  },
  {
   "cell_type": "code",
   "execution_count": 7,
   "metadata": {},
   "outputs": [
    {
     "name": "stdout",
     "output_type": "stream",
     "text": [
      "510401e-1\n",
      "3050016e-2\n",
      "4545e1\n"
     ]
    }
   ],
   "source": [
    "print(Dec(51, 3) + Dec(401, -1))\n",
    "print(Dec(16, -2) + Dec(305, 2))\n",
    "print(Dec(101, -1) * Dec(45, 2))"
   ]
  },
  {
   "cell_type": "markdown",
   "metadata": {},
   "source": [
    "Les nombres décimaux ont une représentation décimale finie. C'est d'ailleurs une caractérisation des nombres décimaux parmi les nombres rationnels.\n",
    "\n",
    "* Ajouter dans la classe `Dec` une méthode `to_dec_string` qui renvoie une chaîne contenant la représentation décimale.\n",
    "\n",
    "```py\n",
    ">>> Dec(10660, -2).to_dec_string()\n",
    "'106.6'\n",
    "\n",
    ">>> Dec(39, 2).to_dec_string()\n",
    "'3900'\n",
    "```"
   ]
  },
  {
   "cell_type": "code",
   "execution_count": 8,
   "metadata": {},
   "outputs": [
    {
     "name": "stdout",
     "output_type": "stream",
     "text": [
      "106.6\n",
      "3900\n"
     ]
    }
   ],
   "source": [
    "print(Dec(10660, -2).to_dec_string())\n",
    "print(Dec(39, 2).to_dec_string())"
   ]
  },
  {
   "cell_type": "markdown",
   "metadata": {},
   "source": [
    "Tout nombre décimal non-nul peut s'écrire de manière unique sous la forme\n",
    "\n",
    "$$\n",
    "\\pm\\ a_0.a_1a_2\\ldots a_k \\times 10^n\n",
    "$$\n",
    "\n",
    "où $a_0$ est un chiffre non-nul ; $a_1a_2\\ldots a_k$ est une suite de chiffres dont le dernier est non-nul; $n$ est un entier. Cette représentation est appelée **représentation scientique**.\n",
    "\n",
    "**Exemples.** Voilà les représentations scientifiques de quelques nombres décimaux :\n",
    "\n",
    "$ 0.0356 = 3.56 \\times 10^{-2} \\qquad$\n",
    "$ 10.451 = 1.0451 \\times 10^{1} \\qquad$\n",
    "$ 298 = 2.98 \\times 10^{2} \\qquad$\n",
    "$ 5000 = 5. \\times 10^{3} \\qquad$\n"
   ]
  },
  {
   "cell_type": "markdown",
   "metadata": {},
   "source": [
    "* Déterminer les représentations scientifiques des nombres décimaux suivants."
   ]
  },
  {
   "cell_type": "markdown",
   "metadata": {},
   "source": [
    "$ 3010 = 3.01 \\times 10^{3}$\n",
    "\n",
    "$ 156.07 = 1.5607 \\times 10^{2}$\n",
    "\n",
    "$ 0.0004 = 4 \\times 10^{4}$\n",
    "\n",
    "$ 236.9501 \\times 10^{2} = 2.369501 \\times 10^{2}$"
   ]
  },
  {
   "cell_type": "markdown",
   "metadata": {},
   "source": [
    "* Ajouter dans la classe `Dec` une méthode `to_sci_string` qui renvoie une chaîne contenant la représentation scientifique.\n",
    "\n",
    "```py\n",
    ">>> Dec(356, -4).to_sci_string()\n",
    "'3.56e-2'\n",
    ">>> Dec(298, 0).to_sci_string()\n",
    "'2.98e2'\n",
    ">>> Dec(7, 3).to_sci_string()\n",
    "'7.e3'\n",
    ">>> Dec(-214, -2).to_sci_string()\n",
    "'-2.14e0'\n",
    "```"
   ]
  },
  {
   "cell_type": "code",
   "execution_count": 9,
   "metadata": {},
   "outputs": [
    {
     "name": "stdout",
     "output_type": "stream",
     "text": [
      "3.56e-2\n",
      "2.98e2\n",
      "7.e3\n",
      "-2.14e0\n"
     ]
    }
   ],
   "source": [
    "print(Dec(356, -4).to_sci_string())\n",
    "print(Dec(298, 0).to_sci_string())\n",
    "print(Dec(7, 3).to_sci_string())\n",
    "print(Dec(-214, -2).to_sci_string())"
   ]
  },
  {
   "cell_type": "markdown",
   "metadata": {},
   "source": [
    "- Insérer des tests (*doctests*) dans les chaînes de documentation (*docstrings*) des différentes méthode de la classe `Dec`. Tester la classe `Dec` avec la commande `testmod` du module `doctest`."
   ]
  },
  {
   "cell_type": "code",
   "execution_count": 10,
   "metadata": {},
   "outputs": [
    {
     "data": {
      "text/plain": [
       "TestResults(failed=0, attempted=36)"
      ]
     },
     "execution_count": 10,
     "metadata": {},
     "output_type": "execute_result"
    }
   ],
   "source": [
    "testmod()"
   ]
  },
  {
   "cell_type": "markdown",
   "metadata": {},
   "source": [
    "* Ecrire une fonction `dec_from_string` qui renvoie un nombre décimal à partir d'une chaîne contenant une représentation du type :\n",
    "$$\n",
    "\\pm\\ a_0\\ldots a_l.a_{l+1}\\ldots a_k \\times 10^n\n",
    "$$\n",
    "```py\n",
    ">>> dec_from_string('29.45e3')\n",
    "Dec(2945, 1)\n",
    ">>> dec_from_string('-40e2')\n",
    "Dec(-4, 3)\n",
    ">>> dec_from_string('1.87')\n",
    "Dec(187, -2)\n",
    "```\n",
    "Indication : on pourra utiliser la méthode `split`."
   ]
  },
  {
   "cell_type": "code",
   "execution_count": 11,
   "metadata": {},
   "outputs": [],
   "source": [
    "def dec_from_string(chaine):\n",
    "    \"\"\"\n",
    "    Renvoie un nombre décimal à partir d'une chaîne\n",
    "    >>> dec_from_string('29.45e3')\n",
    "    Dec(2945, 1)\n",
    "    >>> dec_from_string('-40e2')\n",
    "    Dec(-4, 3)\n",
    "    >>> dec_from_string('1.87')\n",
    "    Dec(187, -2)\n",
    "    \"\"\"\n",
    "    if \"e\" in chaine:\n",
    "        coeff, exp = chaine.split(\"e\")\n",
    "    else:\n",
    "        coeff = chaine\n",
    "        exp = 0\n",
    "    exp = int(exp)\n",
    "    if \".\" in coeff:\n",
    "        coeff1, coeff2 = coeff.split(\".\")\n",
    "        coeff = int(coeff1 + coeff2)\n",
    "        exp -= len(coeff2)\n",
    "    else:\n",
    "        coeff = int(coeff)\n",
    "    \n",
    "    return Dec(coeff, exp)   "
   ]
  },
  {
   "cell_type": "code",
   "execution_count": 12,
   "metadata": {},
   "outputs": [
    {
     "name": "stdout",
     "output_type": "stream",
     "text": [
      "2945e1\n",
      "187e-2\n",
      "-4e3\n"
     ]
    }
   ],
   "source": [
    "testmod()       \n",
    "print(dec_from_string('29.45e3'))\n",
    "print(dec_from_string('1.87'))\n",
    "print(dec_from_string('-40e2'))"
   ]
  },
  {
   "cell_type": "code",
   "execution_count": null,
   "metadata": {},
   "outputs": [],
   "source": []
  }
 ],
 "metadata": {
  "kernelspec": {
   "display_name": "Python 3",
   "language": "python",
   "name": "python3"
  },
  "language_info": {
   "codemirror_mode": {
    "name": "ipython",
    "version": 3
   },
   "file_extension": ".py",
   "mimetype": "text/x-python",
   "name": "python",
   "nbconvert_exporter": "python",
   "pygments_lexer": "ipython3",
   "version": "3.8.5"
  }
 },
 "nbformat": 4,
 "nbformat_minor": 1
}
