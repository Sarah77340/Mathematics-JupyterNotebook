{
 "cells": [
  {
   "cell_type": "markdown",
   "metadata": {},
   "source": [
    "# Problème 8 : Calcul de $e$, $\\pi$ et $\\sqrt{a}$"
   ]
  },
  {
   "cell_type": "markdown",
   "metadata": {},
   "source": [
    "## A. Nombres flottants"
   ]
  },
  {
   "cell_type": "code",
   "execution_count": 1,
   "metadata": {},
   "outputs": [
    {
     "name": "stdout",
     "output_type": "stream",
     "text": [
      "2.718281828459045\n",
      "3.141592653589793\n"
     ]
    }
   ],
   "source": [
    "from math import e, pi\n",
    "print(e)\n",
    "print(pi)"
   ]
  },
  {
   "cell_type": "markdown",
   "metadata": {},
   "source": [
    "* Pourquoi les constantes `e` et `pi` du module `math` ne contiennent que 15 décimales ?"
   ]
  },
  {
   "cell_type": "markdown",
   "metadata": {},
   "source": [
    "<div style= \"color : blue\">\n",
    "\n",
    "Le type float en Python utilise une représentation binaire avec 52 chiffres significatifs correspondant à 16 chiffres significatifs en base 10. \n",
    "Sachant qu'ici un chiffre significatif est utilisé pour l'unité, il reste donc 15 chiffres significatifs pour les décimales.\n",
    "</div>"
   ]
  },
  {
   "cell_type": "markdown",
   "metadata": {},
   "source": [
    "* Expliquer pourquoi le nombre $0.25$ est représenté de façon exacte en `float` mais pas le nombre $0.2$."
   ]
  },
  {
   "cell_type": "code",
   "execution_count": 2,
   "metadata": {
    "scrolled": true
   },
   "outputs": [
    {
     "data": {
      "text/plain": [
       "'0.25'"
      ]
     },
     "execution_count": 2,
     "metadata": {},
     "output_type": "execute_result"
    }
   ],
   "source": [
    "format(0.25, '.40g')"
   ]
  },
  {
   "cell_type": "code",
   "execution_count": 122,
   "metadata": {},
   "outputs": [
    {
     "data": {
      "text/plain": [
       "'0.2000000000000000111022302462515654042363'"
      ]
     },
     "execution_count": 122,
     "metadata": {},
     "output_type": "execute_result"
    }
   ],
   "source": [
    "format(0.2, '.40g')"
   ]
  },
  {
   "cell_type": "markdown",
   "metadata": {},
   "source": [
    "<div style= \"color : blue\">\n",
    "    \n",
    "La différence s'explique par le fait que bien que le nombre $0.2$ ait un développement fini en base 10, il a cependant un développement infini périodique en base 2 comparé à $0.25$ qui a un développement fini en base 2 et en base 10.\n",
    "    \n",
    "</div>"
   ]
  },
  {
   "cell_type": "markdown",
   "metadata": {},
   "source": [
    "* La fonction suivante est conçue pour déterminer si une matrice $2 \\times 2$ est inversible. Pourquoi donne-t-elle un résultat incorrect pour la matrice $\\begin{pmatrix} 0.3 & 1 \\\\ 0.9 & 3 \\end{pmatrix}$ ?"
   ]
  },
  {
   "cell_type": "code",
   "execution_count": 4,
   "metadata": {},
   "outputs": [
    {
     "name": "stdout",
     "output_type": "stream",
     "text": [
      "0.8999999999999999\n",
      "0.9\n"
     ]
    }
   ],
   "source": [
    "def mat_inversible(M):\n",
    "    a, b = M[0]\n",
    "    c, d = M[1]\n",
    "    return a*d - b*c != 0\n",
    "\n",
    "mat_inversible([[0.3, 1], [0.9, 3]])\n",
    "\n",
    "print(0.3*3)\n",
    "print(0.9*1)"
   ]
  },
  {
   "cell_type": "markdown",
   "metadata": {},
   "source": [
    "<div style= \"color : blue\">\n",
    "Elle affiche un résultat incorrect puisqu'il y a une erreur d'arrondi. En effet, pour $0.3 \\times 3$ la fonction affiche $0.8999999999$ et pas $0.9$.\n",
    "    \n",
    "Donc $0.3 \\times 3 - 0.9 \\times 3 \t\\neq 0$\n",
    "</div>"
   ]
  },
  {
   "cell_type": "markdown",
   "metadata": {},
   "source": [
    "* On calcule la somme $\\displaystyle \\sum_{k=1}^n \\frac{1}{k^4}$ pour différentes valeurs de $n$. Pourquoi le résultat est-il le même pour $n = 10 000$ et $n= 1 000 000$ ?"
   ]
  },
  {
   "cell_type": "code",
   "execution_count": 5,
   "metadata": {},
   "outputs": [
    {
     "name": "stdout",
     "output_type": "stream",
     "text": [
      "1.0823229053444727\n",
      "1.082323233710861\n",
      "1.082323233710861\n"
     ]
    }
   ],
   "source": [
    "for n in [100, 10000, 1000000]:\n",
    "    s = 0\n",
    "    for k in range(1, n+1):\n",
    "        s += 1/k**4\n",
    "    print(s)"
   ]
  },
  {
   "cell_type": "markdown",
   "metadata": {},
   "source": [
    "<div style= \"color : blue\">\n",
    "    \n",
    "Le résultat affiché pour 10000 et 1000000 sont les mêmes puisque Python ne permet pas d'afficher assez de décimale pour que le résultat de la somme soit assez précise ce qui influt donc sur les résultats finaux des deux nombres.\n",
    "    \n",
    "</div>"
   ]
  },
  {
   "cell_type": "markdown",
   "metadata": {},
   "source": [
    "* Proposer une façon de calculer la somme qui évite ce problème (toujours en utilisant des `float`)."
   ]
  },
  {
   "cell_type": "code",
   "execution_count": 6,
   "metadata": {},
   "outputs": [
    {
     "name": "stdout",
     "output_type": "stream",
     "text": [
      "1.082322905344473190660828962\n",
      "1.082323233710804907546335935\n",
      "1.082323233711138190549669866\n"
     ]
    }
   ],
   "source": [
    "from decimal import Decimal\n",
    "\n",
    "for n in [100, 10000, 1000000]:\n",
    "    s = 0\n",
    "    for k in range(1, n+1):\n",
    "        s += Decimal(1/k**4 )\n",
    "    print(s)"
   ]
  },
  {
   "cell_type": "markdown",
   "metadata": {},
   "source": [
    "## B. Calcul des décimales de $e$ et $\\pi$"
   ]
  },
  {
   "cell_type": "markdown",
   "metadata": {},
   "source": [
    "Depuis l'introduction de ces constantes (dans l'antiquité pour $\\pi$ et au XVIIe siècle pour $e$), les mathématiciens ont cherché à calculer leurs **décimales**, c'est-à-dire leurs chiffres après la virgule, le plus loin possible. De nombreuses méthodes, plus ou moins performantes, ont été développés. Avant l'apparition de l'ordinateur, les calculs étaient naturellement effectués à la main, ce qui n'a pas permis d'aller au-delà de quelques centaines de décimales. Avec l'ordinateur, les calculs ont pu être menée jusqu'à une précision infiniment plus grande.\n",
    "\n",
    "Nous allons ici calculer les décimales de $e$ et de $\\pi$ par des **développements en série** (de la fonction exponentielle pour $e$ et de la fonction $\\arctan$ pour $\\pi$).\n",
    "\n",
    "Ces méthodes fournissent des approximations de $e$ et $\\pi$ sous forme de nombres rationnels. Nous allons donc utiliser la classe `Rat` programmée dans le Problème 3 plutôt que le type `float`. La classe `Rat` représente un nombre rationnel par un couple d'entiers (le numérateur et le dénominateur). Puisque le type `int` permet de représenter des entiers de taille illimitée (c'est une spécificité de Python), la classe `Rat` permet de représenter tous les rationnels et donc de mener les calculs sans limitation sur la précision."
   ]
  },
  {
   "cell_type": "markdown",
   "metadata": {},
   "source": [
    "* Reprendre la classe `Rat` utilisée dans le Problème 3."
   ]
  },
  {
   "cell_type": "code",
   "execution_count": 7,
   "metadata": {},
   "outputs": [],
   "source": [
    "import math\n",
    "\n",
    "class Rat:\n",
    "    \"\"\"Classe pour les nombres rationnels\"\"\"\n",
    "    \n",
    "    def __init__(self, num, denom=1):\n",
    "        self.num = num #// math.gcd(num, denom)\n",
    "        self.denom = denom #abs(denom // math.gcd(num, denom))\n",
    "        if denom < 0:\n",
    "            self.num *= -1\n",
    "    \n",
    "    def __repr__(self):\n",
    "        \"\"\"\n",
    "        >>> Rat(2, 3)\n",
    "        Rat(2, 3)\n",
    "        >>> Rat(21, 14)\n",
    "        Rat(3, 2)\n",
    "        >>> Rat(4, 2)\n",
    "        Rat(2, 1)\n",
    "        >>> Rat(10, -15)\n",
    "        Rat(-2, 3)\n",
    "        >>> Rat(4)\n",
    "        Rat(4, 1)\n",
    "        \"\"\"\n",
    "        return \"Rat\" + str((self.num, self.denom))\n",
    "    \n",
    "    def __str__(self):\n",
    "        \"\"\"\n",
    "        >>> print(Rat(21, 14))\n",
    "        3/2\n",
    "        >>> print(Rat(4))\n",
    "        4\n",
    "        \"\"\"\n",
    "        if self.denom != 1:\n",
    "            return str(self.num) + \"/\" + str(self.denom)\n",
    "        else:\n",
    "            return str(self.num)\n",
    "        \n",
    "    def __add__(self, other):\n",
    "        \"\"\"\n",
    "        Addition\n",
    "        >>> Rat(1, 2) + Rat(5, 4)\n",
    "        Rat(7, 4)\n",
    "        \"\"\"\n",
    "        return Rat(self.num * other.denom + self.denom * other.num, other.denom * self.denom)\n",
    "    \n",
    "    def __mul__(self, other):\n",
    "        \"\"\"\n",
    "        Multiplication\n",
    "        >>> Rat(1, 14) * Rat(4, 3)\n",
    "        Rat(2, 21)\n",
    "        \"\"\"\n",
    "        return Rat(self.num * other.num, self.denom * other.denom)\n",
    "    \n",
    "    def __neg__(self):\n",
    "        \"\"\"\n",
    "        Opposé\n",
    "        >>> -Rat(1, 2)\n",
    "        Rat(-1, 2)\n",
    "        \"\"\"\n",
    "        return Rat(-1 * self.num, self.denom)\n",
    "    \n",
    "    def __sub__(self, other):\n",
    "        \"\"\"\n",
    "        Soustraction\n",
    "        >>> Rat(1, 2) - Rat(5, 4)\n",
    "        Rat(-3, 4)\n",
    "        \"\"\"\n",
    "        return Rat(self.num, self.denom) + Rat(-other.num, other.denom)\n",
    "    \n",
    "    def __truediv__(self, other):\n",
    "        \"\"\"\n",
    "        Division\n",
    "        >>> Rat(1, 14) / Rat(3, 4)\n",
    "        Rat(2, 21)\n",
    "        \"\"\"\n",
    "        return Rat(self.num, self.denom) * Rat(other.denom, other.num)\n",
    "    \n",
    "    def __eq__(self, other):\n",
    "        \"\"\"\n",
    "        Egalité\n",
    "        >>> Rat(1, 2) == Rat(3, 6)\n",
    "        True\n",
    "        >>> Rat(1, 2) == Rat(2, 6)\n",
    "        False\n",
    "        \"\"\"\n",
    "        return self.num == other.num and self.denom == other.denom\n",
    "    \n",
    "    def __lt__(self, other):\n",
    "        \"\"\"\n",
    "        Strictement plus petit\n",
    "        >>> Rat(5, 3) < Rat (11, 2)\n",
    "        True\n",
    "        >>> Rat (5, 2) < Rat(8, 4) \n",
    "        False\n",
    "        \"\"\"\n",
    "        return self.num < other.num\n",
    "\n",
    "    def __le__(self, other):\n",
    "        \"\"\"\n",
    "        Plus petit ou égal\n",
    "        >>> Rat(5, 3) <= Rat (11, 2)\n",
    "        True\n",
    "        >>> Rat (5, 2) <= Rat(8, 4) \n",
    "        False\n",
    "        \"\"\"\n",
    "        return self.num <= other.num\n",
    "    \n",
    "    def __ge__(self, other):\n",
    "        \"\"\"\n",
    "        Plus grand ou égal\n",
    "        >>> Rat(5, 3) >= Rat (11, 2)\n",
    "        False\n",
    "        >>> Rat (5, 2) >= Rat(8, 4) \n",
    "        True\n",
    "        \"\"\"\n",
    "        return self.num >= other.num\n",
    "    \n",
    "    def __gt__(self, other):\n",
    "        \"\"\"\n",
    "        Strictement plus grand\n",
    "        >>> Rat(5, 3) > Rat (11, 2)\n",
    "        False\n",
    "        >>> Rat (5, 2) > Rat(8, 4) \n",
    "        True\n",
    "        \"\"\"\n",
    "        return self.num > other.num\n",
    "    \n",
    "    def to_dec_string(self, n):\n",
    "        \"\"\"\n",
    "        Renvoie une chaîne contenant la représentation décimale tronquée à n chiffres après la virgule\n",
    "        >>> Rat(20, 7).to_dec_string(10)\n",
    "        '2.8571428571'\n",
    "        \"\"\"\n",
    "        chaine = str((10**n) * (self.num) // self.denom)\n",
    "        chaine = chaine[:-n] + '.' + chaine[- n:n + 2]\n",
    "        if chaine[0] == '.':\n",
    "            return (chaine[:-1 -n] + '0' + chaine[:n + 2])\n",
    "        return chaine"
   ]
  },
  {
   "cell_type": "markdown",
   "metadata": {},
   "source": [
    "### B.1. Approximation de $e$\n",
    "\n",
    "On rappelle la formule du **développement de Taylor-Lagrange**.\n",
    "\n",
    "**Théorème**. Soit $f : \\mathbb{R} \\to \\mathbb{R}$ une fonction de classe $\\mathcal{C}^{n+1}$, où $n\\in \\mathbb{N}$. Soit $a,x \\in \\mathbb{R}$. Alors il existe un réel $c$ entre $a$ et $x$ tel que :\n",
    "$$\n",
    "f(x)=f(a)+f'(a)(x-a)+\\frac{f''(a)}{2!}(x-a)^2+\\cdots +\\frac{f^{(n)}(a)}{n!}(x-a)^n +\\frac{f^{(n+1)}(c)}{(n+1)!}\n",
    "(x-a)^{n+1}.\n",
    "$$"
   ]
  },
  {
   "cell_type": "markdown",
   "metadata": {},
   "source": [
    "* Ecrire le développement de Taylor-Lagrange de la fonction exponentielle à l'ordre $n$ pour $a=0$ et $x=1$."
   ]
  },
  {
   "cell_type": "markdown",
   "metadata": {},
   "source": [
    "<div style= \"color : blue\">\n",
    "$$\n",
    "f(1)=f(0)+\\frac{f'(0)}{1!}(1-0)+\\frac{f''(0)}{2!}(1-0)^2+\\cdots +\\frac{f^{(n)}(0)}{n!}(1-0)^n +\\frac{f^{(n+1)}(c)}{(n+1)!}\n",
    "(x-a)^{n+1}\n",
    "$$\n",
    "$$ \n",
    "f(1) = e^{0} + \\frac{e^{0}}{1!} +  \\frac{e^{0}}{2!} + \\cdots + \\frac{e^{0}}{n!} + \\frac{e^{c}}{n+1!}\n",
    "$$\n",
    "$$\n",
    "f(1) = 1 + \\frac{1}{1!} + \\frac{1}{2!} + \\cdots + \\frac{1}{n!} + \\frac{e^{c}}{n+1!}\n",
    "$$\n",
    "</div>"
   ]
  },
  {
   "cell_type": "markdown",
   "metadata": {},
   "source": [
    "* En déduire que, pour tout $n\\in \\mathbb{N}$,\n",
    "\n",
    "$$\n",
    "\\left| e -  \\left( 1+\\frac{1}{1!} +\\frac{1}{2!} + \\cdots + \\frac{1}{n!} \\right) \\right| \\leq \\frac{e}{(n+1)!} \\leq \\frac{3}{(n+1)!}. \\qquad(\\star)\n",
    "$$"
   ]
  },
  {
   "cell_type": "markdown",
   "metadata": {},
   "source": [
    "<div style= \"color : blue\">\n",
    "On sait que\n",
    "$f(1) = 1 + \\frac{1}{1!} + \\frac{1}{2!} + \\cdots + \\frac{1}{n!} + \\frac{e^{c}}{n+1!}$\n",
    "\n",
    "De plus, $f(1) = e^{1} = e$\n",
    "\n",
    "Donc \n",
    "$ e = 1 + \\frac{1}{1!} + \\frac{1}{2!} + \\cdots + \\frac{1}{n!} + \\frac{e^{c}}{n+1!} $\n",
    "\n",
    "$\\Leftrightarrow e - (1 + \\frac{1}{1!} + \\frac{1}{2!} + \\cdots + \\frac{1}{n!}) = \\frac{e^{c}}{n+1!}$\n",
    "\n",
    "$n\\in \\mathbb{N}$, $e^{c} \\geqslant 0$ et $n+1! \\geqslant 0$\n",
    "\n",
    "$ \\Leftrightarrow \\left| e - (1 + \\frac{1}{1!} + \\frac{1}{2!} + \\cdots + \\frac{1}{n!})  \\right| \\leq \\frac{e^{c}}{n+1!}$\n",
    "\n",
    "De plus $e < 3$,\n",
    "\n",
    "Donc \n",
    "\n",
    "$ \\Leftrightarrow \\left| e - (1 + \\frac{1}{1!} + \\frac{1}{2!} + \\cdots + \\frac{1}{n!})  \\right| \\leq \\frac{e}{n+1!} \\leq \\frac{3}{n+1!}$\n",
    "    \n",
    "</div>"
   ]
  },
  {
   "cell_type": "markdown",
   "metadata": {},
   "source": [
    "L'estimation $(\\star)$ montre qu'on peut approcher $e$ par la somme $\\displaystyle \\sum_{k=0}^n \\frac{1}{k!}$. On commet alors une **erreur** inférieure à $\\displaystyle \\frac{3}{(n+1)!}$, erreur qui devient d'autant plus petite que $n$ est grand.\n",
    "\n",
    "Grossièrement, si l'erreur commise par une approximation est $< 10^{-(d+1)}$, cette approximation fournit les $d$ premières décimales correctes de la constante approchée. \n",
    "\n",
    "* A l'aide d'un script Python, déterminer la plus petite valeur de $n$ qui garantit que $\\displaystyle \\frac{3}{(n+1)!} < 10^{-101}$."
   ]
  },
  {
   "cell_type": "code",
   "execution_count": 8,
   "metadata": {},
   "outputs": [
    {
     "name": "stdout",
     "output_type": "stream",
     "text": [
      "70\n"
     ]
    }
   ],
   "source": [
    "def fa(n):\n",
    "    if n == 0:\n",
    "        return 1\n",
    "    else:\n",
    "        F = 1\n",
    "        for k in range(2,n+1):\n",
    "             F = F * k\n",
    "    return F\n",
    "\n",
    "n = 0\n",
    "while(3/fa(n+1) > 10**(-101)):\n",
    "    n += 1\n",
    "print(n)"
   ]
  },
  {
   "cell_type": "markdown",
   "metadata": {},
   "source": [
    "* Ecrire une fonction `approx_e` qui prend en paramètre un entier naturel `n` et renvoie $\\displaystyle \\sum_{k=0}^n \\frac{1}{k!}$ sous forme d'un nombre de type `Rat`. (Indication : quand on a déjà calculé $k !$, il est facile de calculer $(k+1)!$)"
   ]
  },
  {
   "cell_type": "code",
   "execution_count": 9,
   "metadata": {},
   "outputs": [
    {
     "data": {
      "text/plain": [
       "Rat(93888, 34560)"
      ]
     },
     "execution_count": 9,
     "metadata": {},
     "output_type": "execute_result"
    }
   ],
   "source": [
    "def approx_e(n):\n",
    "    somme = Rat(0, 1)\n",
    "    for k in range(n+1):\n",
    "        somme += Rat(1, fa(k)) \n",
    "    return somme\n",
    "approx_e(5)"
   ]
  },
  {
   "cell_type": "markdown",
   "metadata": {},
   "source": [
    "* En utilisant `approx_e`, calculer une approximation de $e$ avec une erreur $<10^{-101}$. Afficher les 100 premières décimales de cette approximation."
   ]
  },
  {
   "cell_type": "code",
   "execution_count": 10,
   "metadata": {
    "scrolled": false
   },
   "outputs": [
    {
     "data": {
      "text/plain": [
       "'2.7182818284590452353602874713526624977572470936999595749669676277240766303535475945713821785251664274'"
      ]
     },
     "execution_count": 10,
     "metadata": {},
     "output_type": "execute_result"
    }
   ],
   "source": [
    "a = approx_e(100)\n",
    "a.to_dec_string(100)"
   ]
  },
  {
   "cell_type": "markdown",
   "metadata": {},
   "source": [
    "* Vérifier (en cherchant sur internet) que ces 100 premières décimales sont bien les 100 premières décimales de $e$."
   ]
  },
  {
   "cell_type": "markdown",
   "metadata": {},
   "source": [
    "<div style= \"color : blue\">\n",
    "On retrouve bien les 100 premières décimales de $e =  2,7182818284 5904523536 0287471352 6624977572 47093699959574966967 6277240766 3035354759 4571382178 5251664274$. \n",
    "</div>"
   ]
  },
  {
   "cell_type": "markdown",
   "metadata": {},
   "source": [
    "### B.2. Approximation de $\\arctan (x)$"
   ]
  },
  {
   "cell_type": "markdown",
   "metadata": {},
   "source": [
    "* Rappeler la définition de la fonction $\\arctan$."
   ]
  },
  {
   "cell_type": "markdown",
   "metadata": {},
   "source": [
    "<div style= \"color : blue\">\n",
    "$ f:  \\mathbb{R} \\to ]- \\frac{\\pi}{2}, \\frac{\\pi}{2}[ $\n",
    "\n",
    "$ x \\longmapsto arctan \\quad x $\n",
    "</div>"
   ]
  },
  {
   "cell_type": "markdown",
   "metadata": {},
   "source": [
    "* Montrer que $\\displaystyle \\arctan(1)= \\frac \\pi 4$."
   ]
  },
  {
   "cell_type": "markdown",
   "metadata": {},
   "source": [
    "<div style= \"color : blue\">\n",
    "    \n",
    "$ f^{-1}:  ]- \\frac{\\pi}{2}, \\frac{\\pi}{2}[ \\to \\mathbb{R} $\n",
    "\n",
    "$ x \\longmapsto tan \\quad x $\n",
    "\n",
    "\n",
    "$tan(\\frac{\\pi}{4}) = \\frac{sin(\\frac{\\pi}{4})}{cos(\\frac{\\pi}{4})} = \\frac{  \\frac{\\sqrt{2}}{2}  }{  \\frac{\\sqrt{2}}{2}   } = 1 $\n",
    "</div>"
   ]
  },
  {
   "cell_type": "markdown",
   "metadata": {},
   "source": [
    "On admet l'estimation suivante pour tout $x\\in[0,1]$ et pour tout $n \\in \\mathbb{N}$ :\n",
    "\n",
    "$$\n",
    "\\left|\\arctan(x) - \\sum_{k=0}^{n-1} (-1)^k \\frac{x^{2k+1}} {2 k + 1} \\right| \\leq \\frac{x^{2n+1}} {2 n + 1}. \\qquad (\\star \\star)\n",
    "$$"
   ]
  },
  {
   "cell_type": "markdown",
   "metadata": {},
   "source": [
    "L'estimation $(\\star \\star)$ montre qu'on peut approcher $\\arctan(x)$ par la somme $\\displaystyle \\sum_{k=0}^{n-1} (-1)^k \\frac{x^{2k+1}} {2 k + 1}$. On commet alors une erreur inférieure à $\\displaystyle \\frac{x^{2n+1}} {2 n + 1}$, erreur qui devient d'autant plus petite que $n$ est grand."
   ]
  },
  {
   "cell_type": "markdown",
   "metadata": {},
   "source": [
    "- Ecrire une fonction `approx_arctan` qui prend en paramètres un nombre `R` de type `Rat` et un entier `n`, et qui renvoie $\\displaystyle \\sum_{k=0}^{n-1} (-1)^k \\frac{x^{2k+1}} {2 k + 1}$ sous forme d'un nombre de type `Rat`."
   ]
  },
  {
   "cell_type": "code",
   "execution_count": 11,
   "metadata": {},
   "outputs": [],
   "source": [
    "def approx_arctan(R, n):\n",
    "    somme = Rat(0, 1)\n",
    "    for k in range(n):\n",
    "        numerateur = R.num**(2*k + 1)\n",
    "        denominateur = R.denom**(2*k + 1)\n",
    "        somme +=  Rat((-1)**k) * Rat(numerateur, denominateur) * Rat(1, 2*k+1) \n",
    "    return somme"
   ]
  },
  {
   "cell_type": "code",
   "execution_count": 12,
   "metadata": {},
   "outputs": [
    {
     "data": {
      "text/plain": [
       "'0.7729059516'"
      ]
     },
     "execution_count": 12,
     "metadata": {},
     "output_type": "execute_result"
    }
   ],
   "source": [
    "z = approx_arctan(Rat(1), 20)\n",
    "z.to_dec_string(10)"
   ]
  },
  {
   "cell_type": "markdown",
   "metadata": {},
   "source": [
    "### B.3. Approximation de $\\pi$"
   ]
  },
  {
   "cell_type": "markdown",
   "metadata": {},
   "source": [
    "#### Formule de Leibniz\n",
    "\n",
    "Puisque $\\displaystyle \\arctan(1)= \\frac \\pi 4$, la fonction `approx_arctan` permet de calculer une approximation de $\\pi$ (c'est la formule de Leibniz).\n",
    "\n",
    "* Quelle est (au pire), l'erreur commise quand on approche $\\pi$ par `4 * arctan(Rat(1), n)` ?"
   ]
  },
  {
   "cell_type": "markdown",
   "metadata": {},
   "source": [
    "*-- Entrer la réponse ici. --*"
   ]
  },
  {
   "cell_type": "markdown",
   "metadata": {},
   "source": [
    "* Si l'on veut garantir une erreur $<10^{-101}$, quelle valeur de `n` faut-il prendre ? (Indication : pas besoin de script, un calcul théorique suffit.)"
   ]
  },
  {
   "cell_type": "markdown",
   "metadata": {},
   "source": [
    "*-- Entrer la réponse ici. --*"
   ]
  },
  {
   "cell_type": "markdown",
   "metadata": {},
   "source": [
    "La formule de Leibniz n'est en fait pas très efficace. Il faut calculer beaucoup de termes de la série pour gagner chaque nouvelle décimale (la série converge lentement). C'est pourquoi d'autres formules basées sur le développement en série de $\\arctan$ ont été conçues."
   ]
  },
  {
   "cell_type": "markdown",
   "metadata": {},
   "source": [
    "#### Formule de Machin"
   ]
  },
  {
   "cell_type": "markdown",
   "metadata": {},
   "source": [
    "On rappelle la formule suivante (valide pour tous les réels $x$ et $y$  tels que $\\tan(x), \\tan(y), \\tan(x+y)$ soient bien définis) :\n",
    "\n",
    "$$\n",
    "\\tan(x+y) = \\frac{\\tan(x)+\\tan(y)}{1-\\tan(x)\\tan(y)}.\n",
    "$$"
   ]
  },
  {
   "cell_type": "markdown",
   "metadata": {},
   "source": [
    "* Calculer (sous forme d'un nombre rationnel)\n",
    "$$ A = \\tan\\left(2 \\arctan\\left(\\frac{1}{5}\\right)\\right)$$\n",
    "puis\n",
    "$$B = \\tan\\left(4 \\arctan\\left(\\frac{1}{5}\\right)\\right).$$ \n",
    "\n",
    "* Calculer (sous forme d'un nombre rationnel)\n",
    "\n",
    "$$C = \\tan\\left(4 \\arctan\\left(\\frac 1 5 \\right)− \\frac \\pi 4\\right)$$ \n",
    "\n",
    "* En deduire la formule de Machin :\n",
    "\n",
    "$$\n",
    "\\frac{\\pi}{4} = 4\\arctan\\left(\\frac 1 5\\right) - \\arctan\\left(\\frac 1 {239}\\right).\n",
    "$$"
   ]
  },
  {
   "cell_type": "markdown",
   "metadata": {},
   "source": [
    "<div style= \"color : blue\">\n",
    "    \n",
    "* $\\displaystyle A = \\tan\\left(2 \\arctan\\left(\\frac{1}{5}\\right)\\right) \\Longleftrightarrow A = \\frac{\\tan(\\arctan(\\frac{1}{5}))+\\tan(\\arctan(\\frac{1}{5}))}{1-\\tan(\\arctan(\\frac{1}{5}))\\tan(\\arctan(\\frac{1}{5}))} $\n",
    "\n",
    "$\\Longrightarrow A = \\frac{\\frac{1}{5}+\\frac{1}{5}}{1-(\\frac{1}{5})^2} \\Longrightarrow A = \\frac{\\frac{2}{25}}{\\frac{24}{25}} \\Longrightarrow A = \\frac{5}{12}$\n",
    "\n",
    "$\\quad$\n",
    "\n",
    "* $\\displaystyle B = \\tan\\left(4 \\arctan\\left(\\frac{1}{5}\\right)\\right) \\Longleftrightarrow B = \\frac{\\tan(2\\arctan(\\frac{1}{5}))+\\tan(2\\arctan(\\frac{1}{5}))}{1-(\\tan(\\arctan(\\frac{1}{5})))^2}$\n",
    "\n",
    "$\\Longrightarrow B = \\frac{2.A}{1-A^2)} \\Longrightarrow B = \\frac{2.\\frac{5}{12}}{1-(\\frac{5}{12}^2)} \\Longrightarrow B = \\frac{\\frac{5}{6}}{\\frac{119}{144}}  \\Longrightarrow B = \\frac{120}{119}$\n",
    "    \n",
    "$\\quad$\n",
    "    \n",
    "* $\\displaystyle C = \\tan\\left(4 \\arctan\\left(\\frac 1 5 \\right)− \\frac \\pi 4\\right) \\Longleftrightarrow C = \\frac{\\tan(4\\arctan(\\frac{1}{5}))+\\tan(\\frac{\\pi}{4})}{1-\\tan(4\\arctan(\\frac{1}{4})).\\tan(\\frac{\\pi}{4})} $\n",
    "\n",
    "$\\Longrightarrow C = \\frac{B-\\tan(\\frac{\\pi}{4})}{1-B.\\tan(\\frac{\\pi}{4})} \\Longrightarrow C = \\frac{\\frac{120}{119}-1}   {1+\\frac{120}{119}} \\Longrightarrow C = \\frac{\\frac{1}{119}}{\\frac{239}{119}} \\Longrightarrow C = \\frac{1}{239}$\n",
    "\n",
    "$\\quad$\n",
    "    \n",
    "* Donc on a $\\displaystyle \\frac{\\pi}{4} = 4\\arctan\\left(\\frac 1 5\\right) - \\arctan\\left(\\frac 1 {239}\\right).$\n",
    "\n",
    "$\\displaystyle \\arctan(C) = \\arctan\\left(\\frac 1 {239}\\right)  \\Longleftrightarrow \\displaystyle \\arctan\\left(\\tan\\left(4 \\arctan\\left(\\frac 1 5 \\right)− \\frac \\pi 4\\right)\\right) = \\arctan\\left(\\frac{1}{239}\\right)$\n",
    "\n",
    "$\\Longrightarrow 4 \\arctan\\left(\\frac{1}{5}\\right)-\\frac{\\pi}{4}  = \\arctan\\left(\\frac 1 {239}\\right)$\n",
    "\n",
    "$\\Longrightarrow \\frac{\\pi}{4} = 4 \\arctan\\left(\\frac{1}{5}\\right)-\\arctan\\left(\\frac 1 {239}\\right) $\n",
    "    \n",
    "</div>"
   ]
  },
  {
   "cell_type": "markdown",
   "metadata": {},
   "source": [
    " * A l'aide d'un script Python, déterminer la plus petite valeur de `n` qui garantit que l'erreur commise par `approx_arctan(Rat(1, 5), n)` soit $<10^{-103}$."
   ]
  },
  {
   "cell_type": "code",
   "execution_count": 117,
   "metadata": {},
   "outputs": [],
   "source": [
    "#n = 1\n",
    "#while (approx_arctan(Rat(1, 5), n) >= Rat(1, 10**(103))):\n",
    "#    n += 1\n",
    "#print(n)"
   ]
  },
  {
   "cell_type": "markdown",
   "metadata": {},
   "source": [
    " * A l'aide d'un script Python, déterminer la plus petite valeur de `n` qui garantit que l'erreur commise par `approx_arctan(Rat(1, 239), n)` soit $<10^{-103}$."
   ]
  },
  {
   "cell_type": "code",
   "execution_count": 116,
   "metadata": {},
   "outputs": [],
   "source": [
    "#n = 1\n",
    "#while (approx_arctan(Rat(1, 239), n) >= Rat(1, 10**(103))):\n",
    "#    n += 1\n",
    "#print(n)"
   ]
  },
  {
   "cell_type": "markdown",
   "metadata": {},
   "source": [
    "* En utilisant `approx_arctan(Rat(1, 5), n)` et `approx_arctan(Rat(1, 239), n)` avec les valeurs de `n` précédemment déterminées, calculer une approximation de $\\pi$. Afficher les 100 premières décimales de cette approximation."
   ]
  },
  {
   "cell_type": "code",
   "execution_count": null,
   "metadata": {
    "scrolled": true
   },
   "outputs": [],
   "source": []
  },
  {
   "cell_type": "markdown",
   "metadata": {},
   "source": [
    "* Vérifier (en cherchant sur internet) que ces 100 premières décimales sont bien les 100 premières décimales de $\\pi$."
   ]
  },
  {
   "cell_type": "markdown",
   "metadata": {},
   "source": [
    "*-- Entrer la réponse ici. --*"
   ]
  },
  {
   "cell_type": "markdown",
   "metadata": {},
   "source": [
    "* Sur votre ordinateur personnel, combien de décimales de $\\pi$ réussissez-vous à calculer en moins de 1 minute avec la formule de Machin ?"
   ]
  },
  {
   "cell_type": "code",
   "execution_count": null,
   "metadata": {},
   "outputs": [],
   "source": []
  },
  {
   "cell_type": "markdown",
   "metadata": {},
   "source": [
    "* Combien de décimales de $\\pi$ sont connues actuellement ?"
   ]
  },
  {
   "cell_type": "markdown",
   "metadata": {},
   "source": [
    "<div style= \"color : blue\">\n",
    "\n",
    "Actuellement, le record est de 31 mille milliards de chiffres connues pour $\\pi$ .\n",
    "    \n",
    "</div>"
   ]
  },
  {
   "cell_type": "markdown",
   "metadata": {},
   "source": [
    "## C. Calcul des racines carrées"
   ]
  },
  {
   "cell_type": "markdown",
   "metadata": {},
   "source": [
    "Pour calculer la racine carrée d'un nombre, nous allons utiliser la **méthode de Newton**. Il s'agit d'une **méthode itérative** d'approximation des solutions d'une équation du type $f(x)=0$, où $f$ est une fonction réelle de classe $C^1$. Elle consiste, en partant d'une valeur $x_0$, à calculer les termes de la suite récurrente définie par la relation\n",
    "\\begin{equation*}\n",
    "\\tag{$\\star$}\n",
    "x_{k+1}=x_{k}-\\frac{f(x_{k})}{f'(x_{k})}.\n",
    "\\end{equation*}\n",
    "\n",
    "Si la valeur $x_0$ est bien choisie, la suite $(x_k)_{k\\in\\mathbb{N}}$ converge vers une solution de l'équation $f(x)=0$. En pratique, on arrête le calcul de la suite dès que l'écart entre $x_k$ et $x_{k+1}$ est devenu suffisamment faible.\n",
    "\n",
    "Soit $a$ est un réel strictement positif. La quantité $\\sqrt{a}$ est solution de l'équation $x^2-a = 0$. Pour cette équation, la relation de récurrence de la méthode de Newton s'écrit :\n",
    "\\begin{equation*}\n",
    "\\tag{$\\star \\star$}\n",
    "x_{k+1} = \\frac{1}{2}\\left(x_{k}+\\frac{a}{x_{k}}\\right).\n",
    "\\end{equation*}"
   ]
  },
  {
   "cell_type": "markdown",
   "metadata": {},
   "source": [
    "* Vérifier que la relation ($\\star\\star$) est bien la relation de récurrence de la méthode de Newton pour l'équation $x^2-a = 0$."
   ]
  },
  {
   "cell_type": "markdown",
   "metadata": {},
   "source": [
    "<div style= \"color : blue\">\n",
    "    \n",
    "Soit $f(x_{k}) = x_{k}^2-a$\n",
    "\n",
    "D'après ($\\star$):\n",
    "\n",
    "$x_{k+1}=x_{k}-\\frac{f(x_{k})}{f'(x_{k})}$\n",
    "\n",
    "$x_{k+1}=x_{k}-(\\frac{x_{k}^2-a}{2 x_{k}})$\n",
    "\n",
    "$x_{k+1}=x_{k}- \\frac{1}{2} (\\frac{x_{k}^2-a}{x_{k}})$\n",
    "\n",
    "$x_{k+1}=x_{k}- \\frac{1}{2}x_{k} + \\frac{1}{2} \\frac{a}{x_{k}}$\n",
    "\n",
    "$x_{k+1}= \\frac{1}{2}x_{k} + \\frac{1}{2} \\frac{a}{x_{k}}$\n",
    "\n",
    "$x_{k+1}= \\frac{1}{2} (x_{k} + \\frac{a}{x_{k}})$\n",
    "    \n",
    "</div>"
   ]
  },
  {
   "cell_type": "markdown",
   "metadata": {},
   "source": [
    "### C.1. Implémentation de la méthode"
   ]
  },
  {
   "cell_type": "markdown",
   "metadata": {},
   "source": [
    "Contrairement à la partie précédente, nous allons ici utiliser des `float`. Nous cherchons pas à obtenir une précision supérieure à celle fournie par les `float`.\n",
    "\n",
    "* Ecrire une fonction `ceilsqrt` qui calcule le plus petit entier naturel supérieur à la racine carrée d'un nombre donné (autrement dit, le plus petit entier naturel dont le carré est supérieur à un nombre donné). Cette fonction ne devra pas utiliser la fonction `sqrt` du module `math`."
   ]
  },
  {
   "cell_type": "code",
   "execution_count": 15,
   "metadata": {},
   "outputs": [],
   "source": [
    "def ceilsqrt(nb):\n",
    "    x = 0\n",
    "    while nb > x**2:\n",
    "        x += 1\n",
    "    return x"
   ]
  },
  {
   "cell_type": "markdown",
   "metadata": {},
   "source": [
    "- Ecrire une fonction `mysqrt` qui calcule la racine carrée d'un nombre flottant positif `x` en utilisant la méthode de Newton. On choisira comme valeur initiale `ceilsqrt(x)`. On arrêtera les itérations dès qu'on dépassera 100 itérations ou dès que l'erreur relative entre les valeurs de deux itérations successives sera inférieure à $2 \\times 10^{-16}$ (autrement dit, dès que $|x_{k+1}-x_k|<2 \\times 10^{-16} |x_{k+1}|$)."
   ]
  },
  {
   "cell_type": "code",
   "execution_count": 36,
   "metadata": {},
   "outputs": [],
   "source": [
    "def mysqrt(x):\n",
    "    x1 = ceilsqrt(x)\n",
    "    x2 = 1/2 * (x1 + x/x1)\n",
    "    cmpt = 0\n",
    "    while (cmpt > 100 or abs(x2 - x1) >= 2 * 10**(-16) * abs(x2)):\n",
    "        x1 = x2\n",
    "        x2 = 1/2 * (x1 + x/x1)\n",
    "    return x2"
   ]
  },
  {
   "cell_type": "markdown",
   "metadata": {},
   "source": [
    "- Calculer l'erreur relative entre la valeur calculée par cette fonction `mysqrt` et la fonction `sqrt` du module `math` pour $\\sqrt{5},\\sqrt{10},\\ldots,\\sqrt{100}$."
   ]
  },
  {
   "cell_type": "code",
   "execution_count": 37,
   "metadata": {
    "scrolled": true
   },
   "outputs": [
    {
     "name": "stdout",
     "output_type": "stream",
     "text": [
      "fonction sqrt: 2.23606797749979\n",
      "fonction mysqrt: 2.23606797749979\n",
      "L'écart relative est de 0.0\n"
     ]
    }
   ],
   "source": [
    "a = math.sqrt(5)\n",
    "b = mysqrt(5)\n",
    "print(\"fonction sqrt:\", a)\n",
    "print(\"fonction mysqrt:\", b)\n",
    "print(\"L'écart relative est de\", (a- b)/b * 100)"
   ]
  },
  {
   "cell_type": "code",
   "execution_count": 38,
   "metadata": {},
   "outputs": [
    {
     "name": "stdout",
     "output_type": "stream",
     "text": [
      "fonction sqrt: 3.1622776601683795\n",
      "fonction mysqrt: 3.162277660168379\n",
      "L'écart relative est de 1.4043333874306804e-14\n"
     ]
    }
   ],
   "source": [
    "a = math.sqrt(10)\n",
    "b = mysqrt(10)\n",
    "print(\"fonction sqrt:\", a)\n",
    "print(\"fonction mysqrt:\", b)\n",
    "print(\"L'écart relative est de\", (a- b)/b * 100)"
   ]
  },
  {
   "cell_type": "code",
   "execution_count": 39,
   "metadata": {},
   "outputs": [
    {
     "name": "stdout",
     "output_type": "stream",
     "text": [
      "fonction sqrt: 10.0\n",
      "fonction mysqrt: 10.0\n",
      "L'écart relative est de 0.0\n"
     ]
    }
   ],
   "source": [
    "a = math.sqrt(100)\n",
    "b = mysqrt(100)\n",
    "print(\"fonction sqrt:\", a)\n",
    "print(\"fonction mysqrt:\", b)\n",
    "print(\"L'écart relative est de\", (a- b)/b * 100)"
   ]
  },
  {
   "cell_type": "markdown",
   "metadata": {},
   "source": [
    "- Ecrire une variante de la fonction `mysqrt` qui affiche la valeur calculée à chaque itération. Tester cette fonction sur le calcul de $\\sqrt{2}$. Combien de décimales correctes (par rapport à la valeur exacte de $\\sqrt{2}$) possède la valeur approchée fournie par la méthode à chaque itération ? Comment évolue ce nombre de décimales correctes entre deux itérations ?"
   ]
  },
  {
   "cell_type": "code",
   "execution_count": 88,
   "metadata": {},
   "outputs": [],
   "source": [
    "def mysqrt2(x):\n",
    "    x1 = ceilsqrt(x)\n",
    "    x2 = 1/2 * (x1 + x/x1)\n",
    "    cmpt = 0\n",
    "    print(\"itération:\", cmpt, \"valeur:\",x2)\n",
    "    while (cmpt > 100 or abs(x2 - x1) >= 2 * 10**(-16) * abs(x2)):\n",
    "        x1 = x2\n",
    "        x2 = 1/2 * (x1 + x/x1)\n",
    "        cmpt += 1\n",
    "        print(\"itération:\", cmpt, \"valeur:\",x2)\n",
    "       \n",
    "    return x2"
   ]
  },
  {
   "cell_type": "code",
   "execution_count": 89,
   "metadata": {},
   "outputs": [
    {
     "name": "stdout",
     "output_type": "stream",
     "text": [
      "itération: 0 valeur: 1.5\n",
      "itération: 1 valeur: 1.4166666666666665\n",
      "itération: 2 valeur: 1.4142156862745097\n",
      "itération: 3 valeur: 1.4142135623746899\n",
      "itération: 4 valeur: 1.414213562373095\n",
      "itération: 5 valeur: 1.414213562373095\n",
      "fonction sqrt: 1.4142135623730951\n",
      "fonction mysqrt: 1.414213562373095\n"
     ]
    }
   ],
   "source": [
    "a = math.sqrt(2)\n",
    "b = mysqrt2(2)\n",
    "print(\"fonction sqrt:\", a)\n",
    "print(\"fonction mysqrt:\", b)"
   ]
  },
  {
   "cell_type": "markdown",
   "metadata": {},
   "source": [
    "<div style= \"color : blue\">\n",
    "\n",
    "itération 1: 2 décimales correctes\n",
    "\n",
    "itération 2: 5 décimales correctes\n",
    "\n",
    "itération 3: 11 décimales correctes etc...\n",
    "\n",
    "Le nombre de décimal correcte évolue donc de la forme:\n",
    "\n",
    "$x_{k+1} = (x_{k} \\times 2) + 1$\n",
    "\n",
    "Avec $k$ la $k$-ième itération et $x_{1} = 2$\n",
    "    \n",
    "</div>"
   ]
  },
  {
   "cell_type": "markdown",
   "metadata": {},
   "source": [
    "### C.2. Extension au calcul des racines n-ièmes"
   ]
  },
  {
   "cell_type": "markdown",
   "metadata": {},
   "source": [
    "- En s'inspirant de ce qui a été fait pour le calcul de la racine carrée, écrire une fonction `nthroot` qui calcule la racine n-ième en utilisant la méthode de Newton."
   ]
  },
  {
   "cell_type": "code",
   "execution_count": 123,
   "metadata": {},
   "outputs": [],
   "source": [
    "def nthroot(x, n):\n",
    "    x1 = ceilsqrt(x)\n",
    "    x2 = x1 - 1/n * (((x1**n) - x)/x**(n-1))\n",
    "    cmpt = 0\n",
    "    while (cmpt > 100 or abs(x2 - x1) >= 2 * 10**(-16) * abs(x2)):\n",
    "        x1 = x2\n",
    "        x2 = x1 - 1/n * (((x1**n) - x)/x**(n-1))\n",
    "    return x2"
   ]
  },
  {
   "cell_type": "markdown",
   "metadata": {},
   "source": [
    "- Calculer l'erreur relative entre la valeur calculée par cette fonction `nthroot` et celle calculée à l'aide de la fonction `pow` du module `math` pour $\\sqrt[3]{5},\\sqrt[3]{10},\\ldots,\\sqrt[3]{100}$."
   ]
  },
  {
   "cell_type": "code",
   "execution_count": 124,
   "metadata": {
    "scrolled": true
   },
   "outputs": [
    {
     "name": "stdout",
     "output_type": "stream",
     "text": [
      "fonction pow: 1.7099759466766968\n",
      "fonction nthroot: 1.7099759466766995\n",
      "L'écart relative est de -1.5582296723406204e-13\n"
     ]
    }
   ],
   "source": [
    "a = math.pow(5 ,1/3)\n",
    "b = nthroot(5, 3)\n",
    "print(\"fonction pow:\", a)\n",
    "print(\"fonction nthroot:\", b)\n",
    "print(\"L'écart relative est de\", (a- b)/b * 100)"
   ]
  },
  {
   "cell_type": "code",
   "execution_count": 125,
   "metadata": {},
   "outputs": [
    {
     "name": "stdout",
     "output_type": "stream",
     "text": [
      "fonction pow: 2.154434690031884\n",
      "fonction nthroot: 2.1544346900318883\n",
      "L'écart relative est de -2.0612795175679685e-13\n"
     ]
    }
   ],
   "source": [
    "a = math.pow(10 ,1/3)\n",
    "b = nthroot(10, 3)\n",
    "print(\"fonction pow:\", a)\n",
    "print(\"fonction nthroot:\", b)\n",
    "print(\"L'écart relative est de\", (a- b)/b * 100)"
   ]
  },
  {
   "cell_type": "code",
   "execution_count": 126,
   "metadata": {},
   "outputs": [
    {
     "name": "stdout",
     "output_type": "stream",
     "text": [
      "fonction pow: 4.641588833612778\n",
      "fonction nthroot: 4.641588833613395\n",
      "L'écart relative est de -1.3279845444475393e-11\n"
     ]
    }
   ],
   "source": [
    "a = math.pow(100 ,1/3)\n",
    "b = nthroot(100, 3)\n",
    "print(\"fonction pow:\", a)\n",
    "print(\"fonction nthroot:\", b)\n",
    "print(\"L'écart relative est de\", (a- b)/b * 100)"
   ]
  },
  {
   "cell_type": "markdown",
   "metadata": {},
   "source": [
    "### C.3. Analyse théorique"
   ]
  },
  {
   "cell_type": "markdown",
   "metadata": {},
   "source": [
    "Soit $a>0$. Soit $x_0 \\ge \\sqrt{a}$. On note $(x_k)_{k\\in\\mathbb{N}}$ la suite définie par la relation ($\\star\\star$) en partant de $x_0$.\n",
    "\n",
    "* Justifier brièvement que les termes de la suite $(x_k)_{k\\in\\mathbb{N}}$ sont strictement positifs."
   ]
  },
  {
   "cell_type": "markdown",
   "metadata": {},
   "source": [
    "*-- Entrer la réponse ici. --*"
   ]
  },
  {
   "cell_type": "markdown",
   "metadata": {},
   "source": [
    "* Exprimer $x_{k+1} - \\sqrt{a}$ en fonction de $\\left(x_{k} - \\sqrt{a}\\right)^2$ pour tout $k\\in \\mathbb{N}$."
   ]
  },
  {
   "cell_type": "markdown",
   "metadata": {},
   "source": [
    "*-- Entrer la réponse ici. --*"
   ]
  },
  {
   "cell_type": "markdown",
   "metadata": {},
   "source": [
    "* Montrer que $x_k \\geq \\sqrt{a}$ pour tout $k\\in \\mathbb{N}$.\n",
    "* Montrer que la suite $(x_k)_{k\\in\\mathbb{N}}$ est décroissante.\n",
    "* En déduire qu'elle converge vers $\\sqrt{a}$."
   ]
  },
  {
   "cell_type": "markdown",
   "metadata": {},
   "source": [
    "*-- Entrer la réponse ici. --*"
   ]
  },
  {
   "cell_type": "markdown",
   "metadata": {},
   "source": [
    " * Soit $k\\in \\mathbb{N}^*$. On suppose que $|x_{k}-\\sqrt{a}|\\leq 10^{-n}$, où $n \\in \\mathbb{N}^*$. Montrer que \n",
    " $$ |x_{k+1}-\\sqrt{a}| \\leq \\frac{10^{-2n}}{2 \\sqrt{a}}.$$"
   ]
  },
  {
   "cell_type": "markdown",
   "metadata": {},
   "source": [
    "*-- Entrer la réponse ici. --*"
   ]
  }
 ],
 "metadata": {
  "kernelspec": {
   "display_name": "Python 3",
   "language": "python",
   "name": "python3"
  },
  "language_info": {
   "codemirror_mode": {
    "name": "ipython",
    "version": 3
   },
   "file_extension": ".py",
   "mimetype": "text/x-python",
   "name": "python",
   "nbconvert_exporter": "python",
   "pygments_lexer": "ipython3",
   "version": "3.8.5"
  }
 },
 "nbformat": 4,
 "nbformat_minor": 1
}
