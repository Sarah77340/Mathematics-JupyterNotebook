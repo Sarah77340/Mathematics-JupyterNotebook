{
 "cells": [
  {
   "cell_type": "markdown",
   "metadata": {},
   "source": [
    "# Problème 1 : Suites complexes"
   ]
  },
  {
   "cell_type": "markdown",
   "metadata": {},
   "source": [
    "On appelle **suites complexes** des suites dont les valeurs sont des nombres complexes. Tout comme les suites réelles, les suites complexes peuvent **converger** vers une limite ou ne pas converger. \n",
    "\n",
    "La définition de la convergence pour les suites complexes est la même que pour les suites réelles, au remplacement près de la notion de valeur absolue par celle de **module**. On dit qu'une suite complexe $(u_n)_{n\\in \\mathbb{N}}$ converge vers une limite $l \\in \\mathbb{C}$ si pour tout $\\epsilon > 0$, il existe un rang $N$ tel que :\n",
    "$$\n",
    "\\forall n \\ge N,\\quad |u_n - l | \\le \\epsilon,\n",
    "$$\n",
    "où $|\\cdot|$ désigne le module.\n",
    "\n",
    "**L'objectif de ce problème est d'explorer la convergence de quelques suites complexes (définies par des relations de récurrence) à l'aide de l'outil informatique.**\n",
    "\n",
    "Dans ce problème, nous serons évidemment amenés à faire des calculs sur des nombres complexes. Pour cela, nous utiliserons le type natif `complex` qui permet de représenter et de manipuler les nombres complexes (voir le document d'accompagnement correspondant sur la page du cours).\n",
    "\n",
    "Nous serons également amenés à produire des représentations graphiques de nombres complexes dans le **plan complexe**. On rappelle qu'un nombre complexe est représenté graphiquement dans le plan complexe par un point dont l'abscisse est sa partie réelle et l'ordonnée sa partie imaginaire. Pour dessiner des points dans un plan, nous utiliserons le module `pyplot` de la bibliothèque `Matplotlib` (voir le document d'accompagnement correspondant sur la page du cours)."
   ]
  },
  {
   "cell_type": "markdown",
   "metadata": {},
   "source": [
    "## A. Une première famille de suites complexes"
   ]
  },
  {
   "cell_type": "markdown",
   "metadata": {},
   "source": [
    "Nous considérons les suites complexes $(z_n)_{n\\in\\mathbb{N}}$ vérifiant la relation de récurrence\n",
    "$$\n",
    "z_{n+1}=z_n-\\frac{z_n^3 - 1}{3 z_n^2}. \\qquad(A)\n",
    "$$\n",
    "\n",
    "Nous souhaitons étudier la convergence de ces suites en fonction de la valeur initiale choisie.\n",
    "\n",
    "**Remarque.** Il n'est pas garanti que ces suites soient bien définies pour n'importe quelle valeur initiale. En effet, la définition de $z_{n+1}$ implique une division par $3 z_n^2$. Donc si une telle suite prend la valeur $0$ à un rang donné, elle n'est plus définie pour les rangs suivants. Toutefois, en pratique, ces suites sont bien définies pour la plupart des valeurs initiales."
   ]
  },
  {
   "cell_type": "markdown",
   "metadata": {},
   "source": [
    "### A.1. Limites possibles"
   ]
  },
  {
   "cell_type": "markdown",
   "metadata": {},
   "source": [
    "- Ecrire une fonction `suite` qui prend en paramètres un nombre entier `n` et un nombre complexe `z0` et renvoie la valeur au rang `n` de la suite récurrente de type $(A)$ initialisée avec la valeur `z0`."
   ]
  },
  {
   "cell_type": "code",
   "execution_count": 1,
   "metadata": {},
   "outputs": [],
   "source": [
    "def suite(n, z0):\n",
    "    if n == 0:\n",
    "        return z0\n",
    "    else:\n",
    "        return suite(n - 1, z0 - ((z0 ** 3) - 1) / (3 * z0 ** 2))"
   ]
  },
  {
   "cell_type": "markdown",
   "metadata": {},
   "source": [
    "- A l'aide de la fonction `suite`, calculer $z_{5}$ pour la suite $(z_n)_{n\\in\\mathbb{N}}$ de type $(A)$ initialisée avec $z_0 = 1 + 2i$."
   ]
  },
  {
   "cell_type": "code",
   "execution_count": 2,
   "metadata": {},
   "outputs": [
    {
     "data": {
      "text/plain": [
       "(3.356632969269531+6.405690179474357j)"
      ]
     },
     "execution_count": 2,
     "metadata": {},
     "output_type": "execute_result"
    }
   ],
   "source": [
    "suite(5, complex(1, 2))"
   ]
  },
  {
   "cell_type": "markdown",
   "metadata": {},
   "source": [
    "* En expérimentant avec la fonction `suite`, conjecturer les limites possibles pour les suites de type $(A)$. Indication : il y a 3 limites possibles (qu'on désignera par la suite comme $\\alpha_1$, $\\alpha_2$, $\\alpha_3$)."
   ]
  },
  {
   "cell_type": "code",
   "execution_count": 3,
   "metadata": {},
   "outputs": [
    {
     "data": {
      "text/plain": [
       "(-0.5-0.8660254037844386j)"
      ]
     },
     "execution_count": 3,
     "metadata": {},
     "output_type": "execute_result"
    }
   ],
   "source": [
    "suite(100, 2)\n",
    "suite(100, complex(1, 2))\n",
    "suite(100, complex(1, -2))\n",
    "suite(100, complex(-1, 2))\n",
    "suite(100, complex(-1, -2))"
   ]
  },
  {
   "cell_type": "markdown",
   "metadata": {},
   "source": [
    "$\\alpha_1 \\approx 1$\n",
    "\n",
    "$\\alpha_2 \\approx -0.5 + 0.8i $\n",
    "\n",
    "$\\alpha_3 \\approx -0.5 - 0.8i $"
   ]
  },
  {
   "cell_type": "markdown",
   "metadata": {},
   "source": [
    "* Calculer le module des valeurs trouvées pour $\\alpha_1$, $\\alpha_2$, $\\alpha_3$."
   ]
  },
  {
   "cell_type": "code",
   "execution_count": 4,
   "metadata": {},
   "outputs": [
    {
     "name": "stdout",
     "output_type": "stream",
     "text": [
      "1\n",
      "0.9433981132056605\n",
      "0.9433981132056605\n"
     ]
    }
   ],
   "source": [
    "alpha1 = 1\n",
    "alpha2 = complex(-0.5, 0.8)\n",
    "alpha3 = complex(-0.5, -0.8)\n",
    "\n",
    "print(abs(alpha1))\n",
    "print(abs(alpha2))\n",
    "print(abs(alpha3))"
   ]
  },
  {
   "cell_type": "markdown",
   "metadata": {},
   "source": [
    "* Représenter les nombres $0$, $\\alpha_1$, $\\alpha_2$, $\\alpha_3$ dans le plan complexe (avec un repère orthonormé) en utilisant le module `pyplot`."
   ]
  },
  {
   "cell_type": "code",
   "execution_count": 5,
   "metadata": {},
   "outputs": [
    {
     "data": {
      "image/png": "[encoded data removed]",
      "text/plain": [
       "<Figure size 432x288 with 1 Axes>"
      ]
     },
     "metadata": {
      "needs_background": "light"
     },
     "output_type": "display_data"
    }
   ],
   "source": [
    "import matplotlib.pyplot as plt\n",
    "\n",
    "x = [0, 1, -0.5, -0.5]\n",
    "y = [0, 0, 0.8, -0.8]\n",
    "plt.plot(x, y, marker='o', linestyle='')\n",
    "plt.axis('equal')\n",
    "plt.show()"
   ]
  },
  {
   "cell_type": "markdown",
   "metadata": {},
   "source": [
    "* On note respectivement $0$, $M_1$, $M_2$, $M_3$ les points d'affixe $0$, $\\alpha_1$, $\\alpha_2$, $\\alpha_3$. Au vu de la représentation graphique, quelle semble être la mesure des angles $\\widehat{M_1OM_2}$, $\\widehat{M_1OM_3}$, $\\widehat{M_2OM_3}$ ?"
   ]
  },
  {
   "cell_type": "markdown",
   "metadata": {},
   "source": [
    "$\\widehat{M_1OM_2}$ = 120°,\n",
    "$\\widehat{M_1OM_3}$ = 120°,\n",
    "$\\widehat{M_2OM_3}$ = 120° "
   ]
  },
  {
   "cell_type": "markdown",
   "metadata": {},
   "source": [
    "* Au vu des éléments précédents, conjecturer les valeurs exactes de $\\alpha_1$, $\\alpha_2$, $\\alpha_3$ (sous forme cartésienne et exponentielle)."
   ]
  },
  {
   "cell_type": "markdown",
   "metadata": {},
   "source": [
    "$\\alpha_1 = e^0 = 1$\n",
    "\n",
    "$\\alpha_2 = e^{i2/3\\Pi} = -\\sqrt{1}/2 + i\\sqrt{3}/2 $\n",
    "\n",
    "$\\alpha_3 = e^{i4/3\\Pi} = -\\sqrt{1}/2 - i\\sqrt{3}/2  $"
   ]
  },
  {
   "cell_type": "markdown",
   "metadata": {},
   "source": [
    "### A.2. Algorithme pour déterminer la limite d'une suite de type $(A)$"
   ]
  },
  {
   "cell_type": "markdown",
   "metadata": {},
   "source": [
    "Nous proposons l'algorithme suivant pour déterminer la limite d'une suite $(z_n)_{n\\in\\mathbb{N}}$ de type $(A)$.\n",
    "\n",
    "\n",
    "*On calcule successivement les termes de la suite à partir de la valeur initiale.\n",
    "Pour chaque nouveau terme, on calcule l'écart en module entre ce terme et les limites possibles $\\alpha_1$, $\\alpha_2$, $\\alpha_3$.\n",
    "Si l'écart avec une de ces limites est inférieur à une certaine tolérance (fixée à l'avance), on considère que la suite converge vers cette limite et on renvoie l'indice de cette limite (1, 2 ou 3).\n",
    "Si, arrivée à un certain rang (fixé à l'avance), la suite ne s'est jamais approchée suffisamment d'une des limites possibles, on considère que la suite ne converge pas et on renvoie `None`. Si la suite s'avère non définie à partir d'un certain rang (voir remarque au tout début de cette partie), on renvoie également `None`.*\n",
    "\n",
    "Notons que cet algorithme ne fournit pas à coup sûr le bon résultat. Mais, en choisissant une tolérance suffisamment petite et un rang d'arrêt suffisamment grand, on peut espérer qu'il fournisse le bon résultat dans la plupart des cas."
   ]
  },
  {
   "cell_type": "markdown",
   "metadata": {},
   "source": [
    "- Ecrire une fonction `limite` qui détermine la limite d'une suite $(z_n)_{n\\in\\mathbb{N}}$ de type $(A)$ en utilisant l'algorithme décrit ci-dessus. Cette fonction prendra les paramètres suivants : `z0`, la valeur initiale de la suite ; `tol`, la tolérance pour décider de la convergence ; `nmax`, le rang d'arrêt.\n",
    "\n",
    "Pour traiter le cas où la suite n'est pas définie, on pourra utiliser une instruction `try` au moment du calcul du nouveau terme de la suite.\n",
    "\n",
    "```py\n",
    "try:\n",
    "    z = z - (z**3 - 1)/(3*z**2)\n",
    "except:\n",
    "    return None\n",
    "```\n",
    "\n",
    "Avec le code ci-dessus, l'interpréteur Python effectue l'instruction `z = z - (z**3 - 1)/(3*z**2)`. Si cette instruction déclenche une erreur (une division par zéro par exemple), la fonction renvoie `None`. Sinon, l'exécution poursuit son cours."
   ]
  },
  {
   "cell_type": "code",
   "execution_count": 6,
   "metadata": {},
   "outputs": [],
   "source": [
    "import math\n",
    "alpha1 = 1\n",
    "alpha2 = complex(- math.sqrt(1) / 2, math.sqrt(3) / 2)\n",
    "alpha3 = complex(- math.sqrt(1) / 2, - math.sqrt(3) / 2)\n",
    "\n",
    "def limite(z0, tol, nmax):\n",
    "    for i in range(nmax):\n",
    "        try:\n",
    "            z0 = z0 - (z0 ** 3 - 1) / (3 * z0 ** 2)\n",
    "        except:\n",
    "            return None\n",
    "        if abs(alpha1 - z0) <= tol:\n",
    "            return 1\n",
    "        elif abs(alpha2 - z0) <= tol:\n",
    "            return 2\n",
    "        elif abs(alpha3 - z0) <= tol:\n",
    "            return 3\n",
    "    return None"
   ]
  },
  {
   "cell_type": "markdown",
   "metadata": {},
   "source": [
    "* Tester la fonction `limite` sur quelques exemples."
   ]
  },
  {
   "cell_type": "code",
   "execution_count": 7,
   "metadata": {},
   "outputs": [
    {
     "name": "stdout",
     "output_type": "stream",
     "text": [
      "None\n",
      "1\n",
      "2\n",
      "3\n"
     ]
    }
   ],
   "source": [
    "print(limite(0, 0.001, 100))\n",
    "print(limite(complex(1, 2), 0.001, 100))\n",
    "print(limite(complex(-1, 2), 0.001, 100))\n",
    "print(limite(complex(-1, -2), 0.001, 100))"
   ]
  },
  {
   "cell_type": "markdown",
   "metadata": {},
   "source": [
    "### A.3. Représentation graphique des bassins d'attraction"
   ]
  },
  {
   "cell_type": "markdown",
   "metadata": {},
   "source": [
    "On appelle **bassin d'attraction** de la limite $\\alpha_i$ l'ensemble des valeurs initiales pour lesquelles les suites de type $(A)$ convergent vers $\\alpha_i$.\n",
    "\n",
    "Nous souhaitons obtenir une représentation graphique (dans le plan complexe) des bassins d'attraction des limites $\\alpha_1$, $\\alpha_2$, $\\alpha_3$. Pour cela, nous proposons la méthode suivante.\n",
    "\n",
    "*On choisit une fenêtre rectangulaire du plan complexe. On parcourt l'ensemble de points d'une grille (suffisamment fine) couvrant cette fenêtre. Pour chacun de ces points, on détermine la limite de la suite de type $(A)$ initialisée avec le nombre complexe associé. Enfin, on affiche les points de la grille avec une couleur différente selon le bassin d'attraction auquel appartiennent les nombres complexes associés.*"
   ]
  },
  {
   "attachments": {
    "grille.png": {
     "image/png": "[encoded data removed]"
    }
   },
   "cell_type": "markdown",
   "metadata": {},
   "source": [
    "- Pour commencer, écrire une fonction `grille` qui trace une grille de points couvrant une fenêtre rectangulaire du plan (avec un repère orthonormé). Cette fonction prendra les paramètres suivants :\n",
    "    * `xmin` et `ymin`, les coordonnées du point en bas à gauche de la fenêtre ;\n",
    "    * `xmax` et `ymax`, les coordonnées du point en haut à droite de la fenêtre ;\n",
    "    * `Nx` et `Ny`, le nombre de points dans chaque direction de la grille.\n",
    "le nombre de points dans chaque direction de la grille. Pour ce tracé, on utilisera le module `pyplot`(voir le document d'accompagnement sur la page du cours).\n",
    "\n",
    "Voilà par exemple la grille attendue lorsqu'on exécute `grille(-1, -2, 3, 2, 10, 20)`.\n",
    "\n",
    "![grille.png](attachment:grille.png)\n",
    "\n",
    "Indication : lire le document d'accompagnement sur les grilles 1D."
   ]
  },
  {
   "cell_type": "code",
   "execution_count": 8,
   "metadata": {},
   "outputs": [],
   "source": [
    "def grille(xmin, ymin, xmax, ymax, Nx, Ny):\n",
    "    lst_x = []\n",
    "    lst_y = []\n",
    "    hx = (xmax - xmin) / (Nx - 1)\n",
    "    hy = (ymax - ymin) / (Ny - 1)\n",
    "    \n",
    "    for i in range(Nx):\n",
    "        for j in range(Ny):\n",
    "            lst_x.append(xmin + i * hx)\n",
    "            lst_y.append(ymin + j * hy)\n",
    "\n",
    "    plt.plot(lst_x, lst_y, marker='+', linestyle='', color='blue')\n",
    "    plt.axis('equal')\n",
    "    plt.show()"
   ]
  },
  {
   "cell_type": "markdown",
   "metadata": {},
   "source": [
    "* Tester la fonction `grille`. "
   ]
  },
  {
   "cell_type": "code",
   "execution_count": 9,
   "metadata": {},
   "outputs": [
    {
     "data": {
      "image/png": "[encoded data removed]",
      "text/plain": [
       "<Figure size 432x288 with 1 Axes>"
      ]
     },
     "metadata": {
      "needs_background": "light"
     },
     "output_type": "display_data"
    }
   ],
   "source": [
    "grille(-1, -2, 3, 2, 10, 20)"
   ]
  },
  {
   "cell_type": "markdown",
   "metadata": {},
   "source": [
    "- En reprenant la structure de la fonction `grille`, écrire une fonction `bassins` qui trace une représentation graphique des bassins d'attraction (selon la méthode de parcours d'une grille décrite plus haut). Cette fonction prendra comme paramètres les mêmes que la fonction `grille`, ainsi qu'une tolérance et un rang d'arrêt pour déterminer les limites. Indication : pour le tracé des points, utiliser la marque pixel (`marker=','`) afin d'éviter les chevauchements entre les marques des points ."
   ]
  },
  {
   "cell_type": "code",
   "execution_count": 10,
   "metadata": {},
   "outputs": [],
   "source": [
    "def bassins(xmin, ymin, xmax, ymax, Nx, Ny, tol, rang):\n",
    "    lst_colors = ['purple', 'blue', 'red']\n",
    "    lst_x = [[], [], []]\n",
    "    lst_y = [[], [], []]\n",
    "    hx = (xmax - xmin) / (Nx - 1)\n",
    "    hy = (ymax - ymin) / (Ny - 1)\n",
    "    \n",
    "    for i in range(Nx):\n",
    "        for j in range(Ny):   \n",
    "            lim = limite(complex(xmin + i * hx, ymin + j * hy), tol, rang)\n",
    "            if lim != None:\n",
    "                lst_x[lim - 1].append(xmin + i * hx)\n",
    "                lst_y[lim - 1].append(ymin + j * hy)\n",
    "            \n",
    "    for k in range(len(lst_colors)):\n",
    "        plt.plot(lst_x[k], lst_y[k], marker=',', linestyle='', color=lst_colors[k])\n",
    "        \n",
    "    plt.axis('equal')\n",
    "    plt.show()"
   ]
  },
  {
   "cell_type": "markdown",
   "metadata": {},
   "source": [
    "* Tracer une représentation (la plus précise possible) des bassins d'attraction sur la fenêtre $(-2, -2)$-$(2, 2)$, c'est-à-dire la fenêtre dont le point en bas à gauche est $(-2, -2)$ et le point en haut à droite est $(2, 2)$."
   ]
  },
  {
   "cell_type": "code",
   "execution_count": 11,
   "metadata": {},
   "outputs": [
    {
     "data": {
      "image/png": "[encoded data removed]",
      "text/plain": [
       "<Figure size 432x288 with 1 Axes>"
      ]
     },
     "metadata": {
      "needs_background": "light"
     },
     "output_type": "display_data"
    }
   ],
   "source": [
    "bassins(-2, -2, 2, 2, 350, 350, 0.001, 100)"
   ]
  },
  {
   "cell_type": "markdown",
   "metadata": {},
   "source": [
    "* Tracer une représentation (la plus précise possible) des bassins d'attraction sur la fenêtre $(0.06, 0.46)$-$(0.11, 0.51)$."
   ]
  },
  {
   "cell_type": "code",
   "execution_count": 12,
   "metadata": {},
   "outputs": [
    {
     "data": {
      "image/png": "[encoded data removed]",
      "text/plain": [
       "<Figure size 432x288 with 1 Axes>"
      ]
     },
     "metadata": {
      "needs_background": "light"
     },
     "output_type": "display_data"
    }
   ],
   "source": [
    "bassins(0.06, 0.46, 0.11, 0.51, 350, 350, 0.001, 100)"
   ]
  },
  {
   "cell_type": "markdown",
   "metadata": {},
   "source": [
    "* Commenter l'aspect des bassins d'attraction."
   ]
  },
  {
   "cell_type": "markdown",
   "metadata": {},
   "source": [
    "La première représentation est un fractal: montrant une répartition en trois \"régions\" en fonction de la limite $\\alpha_1$, $\\alpha_2$ ou $\\alpha_3$ en laquelle la suite converge.\n",
    "\n",
    "La deuxième représentation permet de voir le fractal de plus près."
   ]
  },
  {
   "cell_type": "markdown",
   "metadata": {},
   "source": [
    "### A.4. Limites possibles (approche théorique)"
   ]
  },
  {
   "cell_type": "markdown",
   "metadata": {},
   "source": [
    "Dans la section A.1, nous avons conjecturé les limites possibles des suites de type $(A)$ grâce à des expérimentations numériques. Nous proposons ici une approche théorique pour déterminer ces limites. "
   ]
  },
  {
   "cell_type": "markdown",
   "metadata": {},
   "source": [
    "On suppose qu'une suite de type $(A)$ converge vers une limite $l$ (on admet que cette limite ne peut pas être nulle).\n",
    "\n",
    "Alors il est évident que $\\displaystyle \\lim_{n \\rightarrow + \\infty} z_{n+1} = l$.\n",
    "\n",
    "Et de la relation de récurrence des suites de type $(A)$, on tire l'égalité $\\displaystyle \n",
    "\\lim_{n \\rightarrow + \\infty} z_{n+1} = \\lim_{n \\rightarrow + \\infty} \\left( z_n-\\frac{z_n^3 - 1}{3 z_n^2} \\right).\n",
    "$\n",
    "\n",
    "Or $\\displaystyle \\lim_{n \\rightarrow + \\infty} \\left( z_n - \\frac{z_n^3 - 1}{3 z_n^2} \\right)  =  l - \\frac{l^3-1}{3l^2}.$\n",
    "\n",
    "D'où : $\\displaystyle l = l - \\frac{l^3-1}{2l^2}.$\n",
    "\n",
    "\n",
    "* En utilisant les propriétés des limites de suites (qui sont les mêmes pour les suites complexes que pour les suites réelles), justifier que $\\displaystyle \\lim_{n \\rightarrow + \\infty} \\left( z_n-\\frac{z_n^3 - 1}{3 z_n^2} \\right)  =  l - \\frac{l^3-1}{3l^2}.$\n",
    "\n"
   ]
  },
  {
   "cell_type": "markdown",
   "metadata": {},
   "source": [
    "$\\lim_{n \\rightarrow + \\infty} z_{n+1} = l$ donc $\\lim_{n \\rightarrow + \\infty} z_n = l$ à partir d'un certain rang\n",
    "\n",
    "De plus, $\\displaystyle \n",
    "\\lim_{n \\rightarrow + \\infty} z_{n+1} = \\lim_{n \\rightarrow + \\infty} \\left( z_n-\\frac{z_n^3 - 1}{3 z_n^2} \\right)$\n",
    "\n",
    "Donc \n",
    "\n",
    "$\\lim_{n \\rightarrow + \\infty} z_{n+1} = \\lim_{n \\rightarrow + \\infty} z_n - \\frac{\\lim_{n \\rightarrow + \\infty} z_n^3 -1}{\\lim_{n \\rightarrow + \\infty} 3 z_n^2} \n",
    "\\Leftrightarrow \\lim_{n \\rightarrow + \\infty} z_{n+1} = \\lim_{n \\rightarrow + \\infty} z_n - \\frac{\\lim_{n \\rightarrow + \\infty} z_n^3 -1}{\\lim_{n \\rightarrow + \\infty} 3 z_n^2} $\n",
    "\n",
    "De plus, $\\displaystyle l = l - \\frac{l^3-1}{2l^2}$\n",
    "\n",
    "On a donc $\\lim_{n \\rightarrow + \\infty} z_n - \\frac{\\lim_{n \\rightarrow + \\infty} z_n^3 -1}{\\lim_{n \\rightarrow + \\infty} 3 z_n^2} = l - \\frac{l^3-1}{2l^2}$\n",
    "\n",
    "Ainsi, on a bien $\\displaystyle \\lim_{n \\rightarrow + \\infty} \\left( z_n-\\frac{z_n^3 - 1}{3 z_n^2} \\right)  =  l - \\frac{l^3-1}{3l^2}.$"
   ]
  },
  {
   "cell_type": "markdown",
   "metadata": {},
   "source": [
    "* De la relation $\\displaystyle l = l - \\frac{l^3-1}{2l^2}$, déduire les limites possibles des suites de type $(A)$."
   ]
  },
  {
   "cell_type": "markdown",
   "metadata": {},
   "source": [
    "$\\frac{l^3-1}{2l^2} = 0$\n",
    "\n",
    "avec $l$ différent de 0, $l^3 - 1 = 0 \\Leftrightarrow l^3 = 1$\n",
    "\n",
    "De plus, pour k appartenant à {0, 1, ..., n-1}, $e^{2k\\pi/n} z_n$ avec n = 3.\n",
    "\n",
    "Donc les limites sont: $e^0 = 1, e^{2i\\pi/3}$ et $e^{4i\\pi/3}$."
   ]
  },
  {
   "cell_type": "markdown",
   "metadata": {},
   "source": [
    "### A.5. Symétries entre bassins d'attraction"
   ]
  },
  {
   "cell_type": "markdown",
   "metadata": {},
   "source": [
    "Nous observons que les bassins d'attraction ont la même forme à une rotation près. Chaque bassin est l'image d'un autre bassin par une rotation d'angle $2\\pi/3$ ou $-2\\pi/3$ (autour de l'origine).\n",
    "\n",
    "Dans cette section, nous allons démontrer (partiellement) ce résultat.\n",
    "\n",
    "On rappelle que l'image d'un point d'affixe $z$ par la rotation d'angle $\\theta$ (autour de l'origine) est le point d'affixe $e^{i\\theta}z$."
   ]
  },
  {
   "cell_type": "markdown",
   "metadata": {},
   "source": [
    "Soit $(z_n)_{n\\in\\mathbb{N}}$ une suite de type $(A)$.\n",
    "Soit $(w_n)_{n\\in\\mathbb{N}}$ la suite de type $(A)$ initialisée avec la valeur $e^{2i\\pi/3} z_0$.\n",
    "\n",
    "* Montrer par récurrence que, pour tout $n\\in \\mathbb{N}$, $w_n = e^{2i\\pi/3} z_n$."
   ]
  },
  {
   "cell_type": "markdown",
   "metadata": {},
   "source": [
    "Par récurrence, montrons que $n\\in \\mathbb{N}$, $w_n = e^{2i\\pi/3} z_n$:\n",
    "\n",
    "- Initialisation: On sait que $w_0 =  e^{2i\\pi/3} z_0$ d'après l'énoncé\n",
    "    \n",
    "    \n",
    "- Hérédité:On suppose que $w_n = e^{2i\\pi/3} z_n$ est vrai. Montrons que $w_{n+1} = e^{2i\\pi/3} z_{n+1}$:\n",
    "\n",
    "    $w_n = e^{2i\\pi/3} z_n$\n",
    "    \n",
    "    $ \\Leftrightarrow w_n - \\frac{w_n^3 - 1}{3 w_n^2} = e^{2i\\pi/3} z_n - \\frac{w_n^3 - 1}{3 w_n^2}$\n",
    "    \n",
    "    $ \\Leftrightarrow w_{n+1} = e^{2i\\pi/3} z_n - \\frac{{(e^{2i\\pi/3}z_n)}^3 -1}{3 {(e^{2i\\pi/3}z_n})^2}$\n",
    "    \n",
    "    $ \\Leftrightarrow w_{n+1} = e^{2i\\pi/3} z_n - e^{2i\\pi/3} \\frac{z_n^3}{3 z_n^2} - \\frac{(e^{2i\\pi/3})^{-2}}{3 z_n^2}$\n",
    "    \n",
    "    $ \\Leftrightarrow w_{n+1} = e^{2i\\pi/3} z_n - e^{2i\\pi/3} \\frac{z_n^3}{3 z_n^2} - \\frac{(e^{2i\\pi/3})(e^{-6i\\pi/3})}{3 z_n^2}$\n",
    "    \n",
    "    $ \\Leftrightarrow w_{n+1} = e^{2i\\pi/3} z_n - e^{2i\\pi/3} \\frac{z_n^3}{3 z_n^2} - \\frac{(e^{2i\\pi/3})1}{3 z_n^2}$\n",
    "    \n",
    "    $\\Leftrightarrow w_{n+1} = e^{2i\\pi/3} z_n - e^{2i\\pi/3} \\frac{z_n^3}{3 z_n^2} - \\frac{e^{2i\\pi/3}}{3 z_n^2}$\n",
    "    \n",
    "    $\\Leftrightarrow w_{n+1} = (e^{2i\\pi/3}) (z_n - \\frac{z_n^3 - 1}{3 z_n^2})$\n",
    "    \n",
    "    $\\Leftrightarrow w_{n+1} = (e^{2i\\pi/3}) z_{n+1}$       \n",
    "    \n",
    "    Donc $w_{n+1} = e^{2i\\pi/3} z_{n+1}$\n",
    "    \n",
    "Finalement, $w_n = e^{2i\\pi/3} z_n$.\n",
    "    \n"
   ]
  },
  {
   "cell_type": "markdown",
   "metadata": {},
   "source": [
    "* On suppose que $(z_n)_{n\\in\\mathbb{N}}$ converge vers $\\alpha_1$ et donc que $z_0$ appartient au bassin d'attraction de $\\alpha_1$. A quel bassin d'attraction appartient $e^{2i\\pi/3} z_0$ ?"
   ]
  },
  {
   "cell_type": "markdown",
   "metadata": {},
   "source": [
    "On sait que:\n",
    "\n",
    "$\\alpha_1 = e^0 = 1$\n",
    "\n",
    "$\\alpha_2 = e^{i2/3\\Pi} = -\\sqrt{1}/2 + i\\sqrt{3}/2 $\n",
    "\n",
    "$\\alpha_3 = e^{i4/3\\Pi} = -\\sqrt{1}/2 - i\\sqrt{3}/2  $\n",
    "\n",
    "$\\displaystyle \\lim_{n \\rightarrow + \\infty} z_n = \\alpha_1$ donc $z_0\\in\\alpha_1$\n",
    "\n",
    "$w_n = e^{i2/3\\Pi} z_n$\n",
    "\n",
    "Donc:\n",
    "\n",
    "$w_0 = e^{i2/3\\Pi} z_0$\n",
    "\n",
    "$ \\Leftrightarrow w_0 = e^{i2/3\\Pi} * 1 = e^{i2/3\\Pi} = \\alpha_2$\n",
    "\n",
    "Donc $e^{i2/3\\Pi} z_0$ appartient à $\\alpha_2$.\n"
   ]
  },
  {
   "cell_type": "markdown",
   "metadata": {},
   "source": [
    "* Conclure. (Qu'avons nous démontré ?)"
   ]
  },
  {
   "cell_type": "markdown",
   "metadata": {},
   "source": [
    "On a bien démontré que chaque bassin est l'image d'un autre bassin par une rotation d'angle  2𝜋/3  ou  −2𝜋/3."
   ]
  },
  {
   "cell_type": "markdown",
   "metadata": {},
   "source": [
    "## B. Une autre famille de suites complexes\n",
    "\n",
    "Nous considérons maintenant les suites complexes $(z_n)_{n\\in\\mathbb{N}}$ vérifiant la relation de récurrence\n",
    "$$\n",
    "z_{n+1}=z_n - \\frac{a z_n^2 + bz_n +c}{2 a z_n + b}, \\qquad(B)\n",
    "$$\n",
    "où $a$, $b$ et $c$ sont des nombres complexes donnés."
   ]
  },
  {
   "cell_type": "markdown",
   "metadata": {},
   "source": [
    "### B.1. Un premier cas particulier\n",
    "\n",
    "Nous considérons d'abord le cas particulier suivant : les suites complexes $(z_n)_{n\\in\\mathbb{N}}$ vérifiant la relation de récurrence\n",
    "$$\n",
    "z_{n+1}=z_n - \\frac{z_n^2 - 2i}{2 z_n}. \\qquad(B_1)\n",
    "$$"
   ]
  },
  {
   "cell_type": "markdown",
   "metadata": {},
   "source": [
    "* En reprenant l'approche théorique de la section A.4, déterminer les limites possibles des suites de type $(B_1)$. Indication : pour la résolution d'équations du second degré à coefficients complexes, voir cours de L1 ou document d'accompagnement sur les nombres complexes."
   ]
  },
  {
   "cell_type": "markdown",
   "metadata": {},
   "source": [
    "$\\beta_1 = 1 + i$\n",
    "\n",
    "$\\beta_2 = -1 - i$"
   ]
  },
  {
   "cell_type": "markdown",
   "metadata": {},
   "source": [
    "* En reprenant l'approche des sections A.2 et A.3, représenter les bassins d'attraction. Ajouter sur cette représentation des bassins, la représentation des points correspondant aux limites possibles."
   ]
  },
  {
   "cell_type": "code",
   "execution_count": 13,
   "metadata": {},
   "outputs": [
    {
     "name": "stdout",
     "output_type": "stream",
     "text": [
      "None\n",
      "1\n",
      "2\n"
     ]
    },
    {
     "data": {
      "image/png": "[encoded data removed]",
      "text/plain": [
       "<Figure size 432x288 with 1 Axes>"
      ]
     },
     "metadata": {
      "needs_background": "light"
     },
     "output_type": "display_data"
    }
   ],
   "source": [
    "beta1 = complex(1, 1)\n",
    "beta2 = complex(-1, -1)\n",
    "\n",
    "def limite2(z0, tol, nmax):\n",
    "    for i in range(nmax):\n",
    "        try:\n",
    "            z0 = z0 - (z0 ** 2 - complex(0,2)) / (2 * (z0))\n",
    "        except:\n",
    "            return None\n",
    "        if abs(beta1 - z0) <= tol:\n",
    "            return 1\n",
    "        elif abs(beta2 - z0) <= tol:\n",
    "            return 2\n",
    "    return None\n",
    "\n",
    "def bassins2(xmin, ymin, xmax, ymax, Nx, Ny, tol, rang):\n",
    "    lst_colors = ['purple', 'blue']\n",
    "    lst_x = [[], []]\n",
    "    lst_y = [[], []]\n",
    "    hx = (xmax - xmin) / (Nx - 1)\n",
    "    hy = (ymax - ymin) / (Ny - 1)\n",
    "    \n",
    "    for i in range(Nx):\n",
    "        for j in range(Ny):   \n",
    "            lim = limite2(complex(xmin + i * hx, ymin + j * hy), tol, rang)\n",
    "            if lim != None:\n",
    "                lst_x[lim - 1].append(xmin + i * hx)\n",
    "                lst_y[lim - 1].append(ymin + j * hy)\n",
    "\n",
    "    for k in range(len(lst_colors)):\n",
    "        plt.plot(lst_x[k], lst_y[k], marker=',', linestyle='', color=lst_colors[k])\n",
    "        \n",
    "    plt.plot(1, 1, marker='+', linestyle='', color=\"black\")\n",
    "    plt.plot(-1, -1, marker='+', linestyle='', color=\"black\")\n",
    "    plt.axis('equal')\n",
    "    plt.show()\n",
    "\n",
    "print(limite2(0, 1, 10))\n",
    "print(limite2(complex(1, 2), 0.001, 100))\n",
    "print(limite2(complex(-1, -2), 0.001, 100))\n",
    "bassins2(-2, -2, 2, 2, 350, 350, 0.001, 100)"
   ]
  },
  {
   "cell_type": "markdown",
   "metadata": {},
   "source": [
    "### B.2. Un deuxième cas particulier\n",
    "\n",
    "Nous considérons maintenant le cas des suites complexes $(z_n)_{n\\in\\mathbb{N}}$ vérifiant la relation de récurrence\n",
    "$$\n",
    "z_{n+1}=z_n - \\frac{z_n^2 - z + 1 +i}{2 z_n - 1}. \\qquad(B_2)\n",
    "$$"
   ]
  },
  {
   "cell_type": "markdown",
   "metadata": {},
   "source": [
    "* Mêmes questions que dans la section B.1."
   ]
  },
  {
   "cell_type": "markdown",
   "metadata": {},
   "source": [
    "$\\gamma_1 = 1 - i$\n",
    "\n",
    "$\\gamma_2 = i$"
   ]
  },
  {
   "cell_type": "code",
   "execution_count": 14,
   "metadata": {},
   "outputs": [
    {
     "name": "stdout",
     "output_type": "stream",
     "text": [
      "2\n",
      "1\n"
     ]
    },
    {
     "data": {
      "image/png": "[encoded data removed]",
      "text/plain": [
       "<Figure size 432x288 with 1 Axes>"
      ]
     },
     "metadata": {
      "needs_background": "light"
     },
     "output_type": "display_data"
    }
   ],
   "source": [
    "gamma1 = complex(1, -1)\n",
    "gamma2 = complex(0, 1)\n",
    "\n",
    "def limite3(z0, tol, nmax):\n",
    "    for i in range(nmax):\n",
    "        try:\n",
    "            z0 = z0 - (z0 ** 2 - z0 + complex(1, 1)) / (2 * z0 - 1)\n",
    "        except:\n",
    "            return None\n",
    "        if abs(gamma1 - z0) <= tol:\n",
    "            return 1\n",
    "        elif abs(gamma2 - z0) <= tol:\n",
    "            return 2\n",
    "    return None\n",
    "\n",
    "def bassins3(xmin, ymin, xmax, ymax, Nx, Ny, tol, rang):\n",
    "    lst_colors = ['purple', 'blue']\n",
    "    lst_x = [[], []]\n",
    "    lst_y = [[], []]\n",
    "    hx = (xmax - xmin) / (Nx - 1)\n",
    "    hy = (ymax - ymin) / (Ny - 1)\n",
    "    \n",
    "    for i in range(Nx):\n",
    "        for j in range(Ny):   \n",
    "            lim = limite3(complex(xmin + i * hx, ymin + j * hy), tol, rang)\n",
    "            if lim != None:\n",
    "                lst_x[lim - 1].append(xmin + i * hx)\n",
    "                lst_y[lim - 1].append(ymin + j * hy)\n",
    "\n",
    "    for k in range(len(lst_colors)):\n",
    "        plt.plot(lst_x[k], lst_y[k], marker=',', linestyle='', color=lst_colors[k])\n",
    "        \n",
    "    plt.plot(1, -1, marker='+', linestyle='', color=\"black\")\n",
    "    plt.plot(0, 1, marker='+', linestyle='', color=\"black\")\n",
    "    plt.axis('equal')\n",
    "    plt.show()\n",
    "\n",
    "print(limite3(complex(-1, 2), 0.001, 100))\n",
    "print(limite3(complex(-1, -2), 0.001, 100))\n",
    "bassins3(-2, -2, 2, 2, 350, 350, 0.001, 100)"
   ]
  },
  {
   "cell_type": "markdown",
   "metadata": {},
   "source": [
    "### B.3. Cas général\n",
    "\n",
    "* Au vu des deux cas particuliers précédents, conjecturer la forme des bassins d'attraction des suites de type $(B)$."
   ]
  },
  {
   "cell_type": "markdown",
   "metadata": {},
   "source": [
    "On peut conjecturer que la représentation ressemblera à une croix répartie en 4 \"régions\" en fonction de la limite $\\beta_1, \\beta_2, \\gamma_1$ ou $\\gamma_2$ en laquelle la suite converge."
   ]
  },
  {
   "cell_type": "code",
   "execution_count": null,
   "metadata": {},
   "outputs": [
    {
     "data": {
      "image/png": "[encoded data removed]",
      "text/plain": [
       "<Figure size 432x288 with 1 Axes>"
      ]
     },
     "metadata": {
      "needs_background": "light"
     },
     "output_type": "display_data"
    }
   ],
   "source": [
    "def bassins4(xmin, ymin, xmax, ymax, Nx, Ny, tol, rang):\n",
    "    lst_colors = ['purple', 'blue', 'red', 'green']\n",
    "    lst_betax = [[], []]\n",
    "    lst_betay = [[], []]\n",
    "    lst_gammax = [[], []]\n",
    "    lst_gammay = [[], []]\n",
    "    hx = (xmax - xmin) / (Nx - 1)\n",
    "    hy = (ymax - ymin) / (Ny - 1)\n",
    "    \n",
    "    for i in range(Nx):\n",
    "        for j in range(Ny):   \n",
    "            lim1 = limite2(complex(xmin + i * hx, ymin + j * hy), tol, rang)\n",
    "            lim2 = limite3(complex(xmin + i * hx, ymin + j * hy), tol, rang)\n",
    "            if lim1 != None:\n",
    "                lst_betax[lim1 - 1].append(xmin + i * hx)\n",
    "                lst_betay[lim1 - 1].append(ymin + j * hy)\n",
    "            if lim2 != None:\n",
    "                lst_gammax[lim2 - 1].append(xmin + i * hx)\n",
    "                lst_gammay[lim2 - 1].append(ymin + j * hy)\n",
    "\n",
    "    for k in range(len(lst_colors)//2):\n",
    "        plt.plot(lst_betax[k], lst_betay[k], marker=',', linestyle='', color=lst_colors[k])\n",
    "        plt.plot(lst_gammax[k], lst_gammay[k], marker=',', linestyle='', color=lst_colors[k + 2])\n",
    "\n",
    "    plt.axis('equal')\n",
    "    plt.show()\n",
    "    \n",
    "bassins4(-2, -2, 2, 2, 350, 350, 0.001, 100)"
   ]
  },
  {
   "cell_type": "code",
   "execution_count": null,
   "metadata": {},
   "outputs": [],
   "source": []
  }
 ],
 "metadata": {
  "kernelspec": {
   "display_name": "Python 3",
   "language": "python",
   "name": "python3"
  },
  "language_info": {
   "codemirror_mode": {
    "name": "ipython",
    "version": 3
   },
   "file_extension": ".py",
   "mimetype": "text/x-python",
   "name": "python",
   "nbconvert_exporter": "python",
   "pygments_lexer": "ipython3",
   "version": "3.8.5"
  }
 },
 "nbformat": 4,
 "nbformat_minor": 1
}
