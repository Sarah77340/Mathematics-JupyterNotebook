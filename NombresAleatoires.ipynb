{
 "cells": [
  {
   "cell_type": "markdown",
   "metadata": {},
   "source": [
    "# Problème 4 : Générateurs de nombres pseudo-aléatoires"
   ]
  },
  {
   "cell_type": "markdown",
   "metadata": {},
   "source": [
    "Une procédure **déterministe** ne permet pas de produire des nombres réellement **aléatoires**. En revanche, elle peut produire des nombres qui y ressemblent, des **nombres pseudo-aléatoires**.\n",
    "\n",
    "Un **générateur de nombres pseudo-aléatoires** fonctionne en général de la manière suivante. On commence par l'initialiser avec une valeur : la **graine** (**seed** en anglais). Cette graine peut-être fournie par l'utilisateur ou produite automatiquement à partir de données aléatoires du système (l'heure en millisecondes ou la température du processeur par exemple). Ensuite, à chaque fois qu'un nouveau nombre pseudo-aléatoire est demandé, le générateur applique une certaine fonction $\\varphi$ à sa valeur courante et renvoie cette nouvelle valeur. En termes mathématiques, les nombres pseudo-aléatoires produits par le générateur sont les nombres de la suite\n",
    "\n",
    "\\begin{equation}\n",
    "\\begin{cases}\n",
    "x_0=d\\\\\n",
    "x_{n+1}=\\varphi(x_n)\n",
    "\\end{cases}\n",
    "\\tag{$\\star$}\n",
    "\\end{equation}\n",
    "où $d$ est la graine.\n",
    "\n",
    "**L'objectif principal de ce problème est de programmer et d'étudier un certain type de générateurs : les générateurs à congruence linéaire.**"
   ]
  },
  {
   "cell_type": "markdown",
   "metadata": {},
   "source": [
    "## A. Générateurs à congruence linéaire\n",
    "\n",
    "Dans les générateurs **à congruence linéaire**, la fonction $\\varphi$  utilisée est de la forme :\n",
    "\n",
    "\\begin{equation}\n",
    "\\tag{$\\star\\star$}\n",
    "\\varphi : x \\mapsto ax+c \\ \\operatorname{mod} m\n",
    "\\end{equation}\n",
    "\n",
    "où $m \\in \\mathbb{N}^*$, $a\\in\\{1,\\ldots,m-1\\}$, $c\\in\\{0,\\ldots,m-1\\}$ et $\\operatorname{mod} m$ désigne le reste modulo $m$. \n",
    "\n",
    "Les nombres $a$, $c$, $m$ sont appelés les **paramètres** du générateur.\n",
    "\n",
    "### A.1. Classe `GCL`"
   ]
  },
  {
   "cell_type": "markdown",
   "metadata": {},
   "source": [
    "Nous allons d'abord écrire une classe `GCL` pour créer et utiliser des générateurs à congruence linéaire. Un générateur à congruence linéaire sera représenté par les attributs suivants :\n",
    "\n",
    " `a`, `c` et `m` : les paramètres du générateur ;\n",
    " \n",
    " `value` : la valeur *courante* du générateur (c'est-à-dire la dernière valeur calculée dans la suite associée au générateur).\n",
    " \n",
    "- Créer une classe `GCL` contenant :\n",
    "    * la méthode de construction `__init__` ;\n",
    "    * une méthode `random` :\n",
    "    * une méthode `seed`.\n",
    "\n",
    "La méthode `__init__` de cette classe prendra en paramètres les paramètres du générateur. Par défaut, la valeur initiale (la graine) du générateur sera produite en utilisant la fonction `time` du module `time`.\n",
    "\n",
    "La méthode `random` appliquera la fontion $\\varphi$ à la valeur courante et renverra cette nouvelle valeur.\n",
    "\n",
    "La méthode `seed` prendra en paramètre une valeur entière et réinitialisera le générateur avec cette valeur entière comme graine (autrement dit, elle remplacera la valeur courante par la valeur fournie).\n",
    "        \n",
    "Avec cette classe, voilà par exemple comment créer un générateur de paramètres $(5,1,16)$ et afficher les 2 premiers nombres pseudo-aléatoires produits par ce générateur\n",
    "```python\n",
    "\n",
    "rd = GCL(5, 1, 16)\n",
    "print(rd.random())\n",
    "print(rd.random())\n",
    "```"
   ]
  },
  {
   "cell_type": "code",
   "execution_count": 112,
   "metadata": {},
   "outputs": [],
   "source": [
    "import time\n",
    "\n",
    "class GCL:\n",
    "    def __init__(self, a, c, m):\n",
    "        self.value = int(time.time())\n",
    "        self.a = a\n",
    "        self.c = c\n",
    "        self.m = m\n",
    "        \n",
    "    def random(self):\n",
    "        self.value = (self.a * self.value + self.c) % self.m\n",
    "        return self.value\n",
    "    \n",
    "    def seed(self, entier):\n",
    "        self.value = entier\n",
    "        return self.value\n",
    "    \n",
    "    def uniform(self, a, b):\n",
    "        x = rd.random() / self.m \n",
    "        return a + (b - a)* x\n",
    "    \n",
    "    def randint(self, a, b):\n",
    "        return int(rd.uniform(a, b))\n",
    "    \n",
    "    def choice(self, lst):\n",
    "        indice = rd.randint(0, len(lst))\n",
    "        return lst[indice]"
   ]
  },
  {
   "cell_type": "markdown",
   "metadata": {},
   "source": [
    "- Créer un générateur `rd` de paramètres $(5,1,16)$ et afficher les 20 premiers nombres pseudo-aléatoires produits par ce générateur."
   ]
  },
  {
   "cell_type": "code",
   "execution_count": 114,
   "metadata": {},
   "outputs": [
    {
     "name": "stdout",
     "output_type": "stream",
     "text": [
      "15 12 13 2 11 8 9 14 7 4 5 10 3 0 1 6 15 12 13 2 "
     ]
    }
   ],
   "source": [
    "rd = GCL(5, 1, 16)\n",
    "for i in range(20):\n",
    "    print(rd.random(), end=\" \")"
   ]
  },
  {
   "cell_type": "markdown",
   "metadata": {},
   "source": [
    "- Fixer la graine du générateur à 10. Afficher les 20 premiers nombres pseudo-aléatoires produits par ce générateur avec cette graine."
   ]
  },
  {
   "cell_type": "code",
   "execution_count": 105,
   "metadata": {},
   "outputs": [
    {
     "name": "stdout",
     "output_type": "stream",
     "text": [
      "3 0 1 6 15 12 13 2 11 8 9 14 7 4 5 10 3 0 1 6 "
     ]
    }
   ],
   "source": [
    "rd.seed(10)\n",
    "for i in range(20):\n",
    "    print(rd.random(), end=\" \")"
   ]
  },
  {
   "cell_type": "markdown",
   "metadata": {},
   "source": [
    "### A.2. Période des suites générées"
   ]
  },
  {
   "cell_type": "markdown",
   "metadata": {},
   "source": [
    "* Rappeler la définition d'une suite **périodique** et la définition de la **période** d'une suite périodique."
   ]
  },
  {
   "cell_type": "markdown",
   "metadata": {},
   "source": [
    "La suite est dite périodique (de période p) s'il existe $p \\in\\mathbb{N}$ non nul tel que pour tout $n \\in\\mathbb{N}$, $U_{n} = U_{n + p}$."
   ]
  },
  {
   "cell_type": "markdown",
   "metadata": {},
   "source": [
    "* Montrer qu'une suite récurrente qui prend la même valeur à deux rangs distincts $n_1$ et $n_2$ est nécessairement périodique (à partir du rang $n_1$). Que peut-on dire de sa période ?"
   ]
  },
  {
   "cell_type": "markdown",
   "metadata": {},
   "source": [
    "Par récurrence, montrons que $\\forall n \\in \\mathbb{N}$, $u_{n} = u_{n+p}$:\n",
    "\n",
    "* Initialisation: On sait que $u_{n1} = u_{n2}$.\n",
    "\n",
    "On pose $n_{1} = n$ et $n_{2} = n + p$\n",
    "\n",
    "$u_{n1} = u_{n2} \\Leftrightarrow u_{n1} = u_{n2}$\n",
    "\n",
    "\n",
    "* Hérédité: On suppose que $u_{n} = u_{n+p}$ est vrai. Montrons alors $u_{n+1} = u_{n+p+1}$ .\n",
    "\n",
    "On sait que $\\forall n \\in \\mathbb{N}, u_{n+1} = f(u_n)$\n",
    "\n",
    "Donc $u_{n} = u_{n+p} \\Leftrightarrow f(u_n) = f(u_{n+p}) \\Leftrightarrow u_{n+1} = u_{n+p+1}$\n",
    "\n",
    "Finalement, $u_{n} = u_{n+p}$, donc elle est nécessairement périodique en $p$."
   ]
  },
  {
   "cell_type": "markdown",
   "metadata": {},
   "source": [
    "Le **principe des tiroirs** énonce que si l'on range $n$ chaussettes dans $m$ tiroirs (avec $n>m$), alors il y au moins un tiroir contenant plus d'une chaussette.\n",
    "\n",
    "Par exemple, si l'on considère $n$ nombres ne pouvant prendre que $m$ valeurs différentes (avec $n>m$), alors, d'après le principe des tiroirs, il y a nécessairement deux nombres ayant la même valeur. "
   ]
  },
  {
   "cell_type": "markdown",
   "metadata": {},
   "source": [
    "* Soit $(x_n)_{n\\in\\mathbb{N}}$ une suite du type $(\\star)$. En appliquant le principe de tiroirs aux nombres $x_0, x_1, \\ldots, x_m$, montrer que la suite $(x_n)_{n\\in\\mathbb{N}}$ est périodique (à partir d'un certain rang). Que peut-on dire de sa période ?"
   ]
  },
  {
   "cell_type": "markdown",
   "metadata": {},
   "source": [
    "La suite $(x_n)_{n\\in\\mathbb{N}}$ est de type $(\\star)$: $x_{n + 1} = \\varphi x_n $ donc c'est une suite récurrente.\n",
    "\n",
    "Ainsi, $ \\forall n \\in \\mathbb{N}, x_{n + 1} = \\varphi x_n$\n",
    "\n",
    "$\\varphi x_n  = a \\times x_n + c \\qquad mod(m) \\qquad \\qquad a \\in${$1,...,m-1$} et $c \\in${$1,...,m-1$}\n",
    "\n",
    "Donc on a $m$ valeurs possibles.\n",
    "\n",
    "Les valeurs $x_0, x_1, \\ldots, x_m$ sont des valeurs possibles de $X_{n}$, et comme $X_{m}$ n'est pas le dernier terme de la suite $X_{n}$, on a $m < n$.\n",
    "\n",
    "Les valeurs comprises entre $x_{m}$ et $x_{n}$ appartiennent bien à la suite $(x_n)_{n\\in\\mathbb{N}}$. Donc d'après le principe des tiroirs, il existe au moins un nombre compris entre $x_{m+1}$ et $x_{n}$ et un nombre entre $x_{0}$ et $x_{m}$ tel qu'ils auront la même valeur.\n",
    "\n",
    "On en conclut que la suite $(x_n)_{n\\in\\mathbb{N}}$ est donc périodique, de période p."
   ]
  },
  {
   "cell_type": "markdown",
   "metadata": {},
   "source": [
    "Il est préférable d'utiliser un générateur qui produit des suites de périodes les plus longues possibles. On dit qu'un générateur de paramètres $(a,c,m)$ est de **période maximale** s'il produit des suites de période $m$ pour toutes les graines.\n",
    "\n",
    "On peut démontrer que si un générateur produit une suite de période $m$ pour une graine particulière, alors il produit des suites de période $m$ pour toutes les graines."
   ]
  },
  {
   "cell_type": "markdown",
   "metadata": {},
   "source": [
    "- Pour chacun des paramètres ci-dessous, déterminer (expérimentalement) si le générateur à congruence linéaire associé est de période maximale.\n",
    "    - $(5, 4, 8)$\n",
    "    - $(5, 5, 8)$\n",
    "    - $(5, 1, 16)$\n",
    "    - $(7, 1, 16)$"
   ]
  },
  {
   "cell_type": "code",
   "execution_count": 4,
   "metadata": {},
   "outputs": [
    {
     "name": "stdout",
     "output_type": "stream",
     "text": [
      "11 14 3 6 11 14 3 6 11 14 3 6 11 14 3 6 11 14 3 6 "
     ]
    }
   ],
   "source": [
    "#rd = GCL(5, 4, 8)\n",
    "#rd = GCL(5, 5, 8)\n",
    "#rd = GCL(5, 1, 16)\n",
    "rd = GCL(7, 1, 16)\n",
    "\n",
    "rd.seed(6)\n",
    "for i in range(20):   \n",
    "    print(rd.random(), end=\" \")"
   ]
  },
  {
   "cell_type": "markdown",
   "metadata": {},
   "source": [
    "$(5, 4, 8)$ le générateur à congruence linéaire associé n'est pas de période maximale.\n",
    "\n",
    "\n",
    "$(5, 5, 8)$ le générateur à congruence linéaire associé est de période maximale.\n",
    "\n",
    "\n",
    "$(5, 1, 16)$ le générateur à congruence linéaire associé est de période maximale.\n",
    "\n",
    "\n",
    "$(7, 1, 16)$ le générateur à congruence linéaire associé n'est pas de période maximale."
   ]
  },
  {
   "cell_type": "markdown",
   "metadata": {},
   "source": [
    "On dispose du théorème suivant pour déterminer si un générateur est de période maximale.\n",
    "\n",
    "**Théorème.** Dans le cas où $m=2^e$, un générateur est de période maximale si et seulement si $c$ est impair et $a \\equiv 1 [4]$. \n",
    "\n",
    "* Vérifier qu'en appliquant ce théorème aux 4 générateurs précédents, on retrouve les résultats déterminés expérimentalement."
   ]
  },
  {
   "cell_type": "markdown",
   "metadata": {},
   "source": [
    "Pour $(5, 4, 8)$ on a $c=4$, $c$ est impair donc ce n'est pas un générateur de période maximale.\n",
    "\n",
    "Pour $(5, 5, 8)$ on a $c=5$, $c$ est bien impair, de plus $a=5$ avec $a \\equiv 1 [4]$ donc c'est bien un générateur de période maximale.\n",
    "\n",
    "Pour $(5, 1, 16)$ on a $c=1$, $c$ est bien impair, de plus $a=5$ avec $a \\equiv 1 [4]$ donc c'est bien un générateur de période maximale.\n",
    "\n",
    "Pour $(7, 1, 16)$ on a $a=7$ cependant $7$ n'est pas congrus 1 modulo 4."
   ]
  },
  {
   "cell_type": "markdown",
   "metadata": {},
   "source": [
    "### A.3. Tests de quelques générateurs à congruence linéaire"
   ]
  },
  {
   "cell_type": "markdown",
   "metadata": {},
   "source": [
    "- Créer les générateurs à congruence linéaire de paramètres suivants :\n",
    "    - `rd1` : $(9,5,2^{31})$\n",
    "    - `rd2` : $(11,5,2^{31})$\n",
    "    - `rd3` : $(1664523,1013904223,2^{31})$\n",
    "    - `rd4` : $(1664525,1013904223,2^{31})$"
   ]
  },
  {
   "cell_type": "code",
   "execution_count": 5,
   "metadata": {
    "scrolled": true
   },
   "outputs": [
    {
     "name": "stdout",
     "output_type": "stream",
     "text": [
      "1\n",
      "3\n",
      "3\n",
      "1\n"
     ]
    }
   ],
   "source": [
    "print(9 % 4)\n",
    "print(11 % 4)\n",
    "print(1664523 % 4)\n",
    "print(1664525 % 4)"
   ]
  },
  {
   "cell_type": "markdown",
   "metadata": {},
   "source": [
    "* Ces générateurs sont-ils de période maximale ?"
   ]
  },
  {
   "cell_type": "markdown",
   "metadata": {},
   "source": [
    " `rd1` : $(9,5,2^{31})$ oui\n",
    " \n",
    " `rd2` : $(11,5,2^{31})$ non \n",
    " \n",
    " `rd3` : $(1664523,1013904223,2^{31})$ non\n",
    " \n",
    " `rd4` : $(1664525,1013904223,2^{31})$ oui"
   ]
  },
  {
   "cell_type": "markdown",
   "metadata": {},
   "source": [
    "**Premier test.** Soit $n$ un entier fixé et $m$ un entier grand devant $n$. Si l'on tire aléatoirement un nombre $x$ dans $\\{0,\\ldots,m-1\\}$ suivant une loi uniforme, il y a (à peu près) autant de chance que $x \\equiv 0 \\pmod n$ ou que $x \\equiv 1 \\pmod n$ ou que $x \\equiv 2 \\pmod n$, etc. On aimerait donc que les nombres pseudo-aléatoires produits par nos générateurs vérifient aussi cette propriété."
   ]
  },
  {
   "cell_type": "markdown",
   "metadata": {},
   "source": [
    "- Ecrire une fonction `test_modulo` qui tire un échantillon de nombres pseudo-aléatoires produits par un générateur, calcule les congruences modulo $n$ (où $n$ est donné) et affiche la répartition des congruences sous forme d'histogramme. Cette fonction prendra comme paramètres : `rd`, le générateur de nombres pseudo-aléatoires, `nbsample`, la taille de l'échantillon, et `n`, le nombre modulo lequel on calcule les congruences. Indication : Pour tracer l'histogramme, on pourra utiliser la commande `bar` du module `matplotlib.pyplot`."
   ]
  },
  {
   "cell_type": "code",
   "execution_count": 6,
   "metadata": {},
   "outputs": [],
   "source": [
    "import matplotlib.pyplot as plt\n",
    "\n",
    "def test_modulo(rd, nbsample, n):\n",
    "    lst_x, lst_y = [], []\n",
    "    \n",
    "    for i in range(n):\n",
    "        lst_x.append(i)        \n",
    "        lst_y.append(0)\n",
    "        \n",
    "    for _ in range (nbsample):\n",
    "        indice = rd.random() % n\n",
    "        if indice in lst_x :\n",
    "            lst_y[indice] += 1\n",
    "            \n",
    "    plt.bar(lst_x, lst_y)\n",
    "    plt.show()"
   ]
  },
  {
   "cell_type": "markdown",
   "metadata": {},
   "source": [
    "- Tester les différents générateurs pour des congruences modulo 10 avec des échantillons de 10 000 nombres."
   ]
  },
  {
   "cell_type": "code",
   "execution_count": 7,
   "metadata": {},
   "outputs": [
    {
     "data": {
      "image/png": "[encoded data removed]",
      "text/plain": [
       "<Figure size 432x288 with 1 Axes>"
      ]
     },
     "metadata": {
      "needs_background": "light"
     },
     "output_type": "display_data"
    },
    {
     "data": {
      "image/png": "[encoded data removed]",
      "text/plain": [
       "<Figure size 432x288 with 1 Axes>"
      ]
     },
     "metadata": {
      "needs_background": "light"
     },
     "output_type": "display_data"
    },
    {
     "data": {
      "image/png": "[encoded data removed]",
      "text/plain": [
       "<Figure size 432x288 with 1 Axes>"
      ]
     },
     "metadata": {
      "needs_background": "light"
     },
     "output_type": "display_data"
    },
    {
     "data": {
      "image/png": "[encoded data removed]",
      "text/plain": [
       "<Figure size 432x288 with 1 Axes>"
      ]
     },
     "metadata": {
      "needs_background": "light"
     },
     "output_type": "display_data"
    }
   ],
   "source": [
    "test_modulo(GCL(9, 5, 2**31), 10000, 10)\n",
    "test_modulo(GCL(11, 5, 2**31), 10000, 10)\n",
    "test_modulo(GCL(1664523, 1013904223, 2**31), 10000, 10)\n",
    "test_modulo(GCL(1664525, 1013904223, 2**31), 10000, 10)"
   ]
  },
  {
   "cell_type": "markdown",
   "metadata": {},
   "source": [
    "- Tester les différents générateurs pour des congruences modulo 4 avec des échantillons de 4 000 nombres."
   ]
  },
  {
   "cell_type": "code",
   "execution_count": 8,
   "metadata": {},
   "outputs": [
    {
     "data": {
      "image/png": "[encoded data removed]",
      "text/plain": [
       "<Figure size 432x288 with 1 Axes>"
      ]
     },
     "metadata": {
      "needs_background": "light"
     },
     "output_type": "display_data"
    },
    {
     "data": {
      "image/png": "[encoded data removed]",
      "text/plain": [
       "<Figure size 432x288 with 1 Axes>"
      ]
     },
     "metadata": {
      "needs_background": "light"
     },
     "output_type": "display_data"
    },
    {
     "data": {
      "image/png": "[encoded data removed]",
      "text/plain": [
       "<Figure size 432x288 with 1 Axes>"
      ]
     },
     "metadata": {
      "needs_background": "light"
     },
     "output_type": "display_data"
    },
    {
     "data": {
      "image/png": "[encoded data removed]",
      "text/plain": [
       "<Figure size 432x288 with 1 Axes>"
      ]
     },
     "metadata": {
      "needs_background": "light"
     },
     "output_type": "display_data"
    }
   ],
   "source": [
    "test_modulo(GCL(9, 5, 2**31), 4000, 4)\n",
    "test_modulo(GCL(11, 5, 2**31), 4000, 4)\n",
    "test_modulo(GCL(1664523, 1013904223, 2**31), 4000, 4)\n",
    "test_modulo(GCL(1664525, 1013904223, 2**31), 4000, 4)"
   ]
  },
  {
   "cell_type": "markdown",
   "metadata": {},
   "source": [
    "- Parmi les générateurs, lesquels réussissent ce premier test ?"
   ]
  },
  {
   "cell_type": "markdown",
   "metadata": {},
   "source": [
    "Les générateurs $(9,5,2^{31})$ et $(1664525,1013904223,2^{31})$ réussissent le premier test."
   ]
  },
  {
   "cell_type": "markdown",
   "metadata": {},
   "source": [
    "**Deuxième test.** Si l'on tire aléatoirement trois nombres $x_1,x_2,x_3$ de façon indépendante, suivant une même loi, il y autant de chance que $x_1<x_2<x_3$ ou que $x_1<x_3<x_2$ ou que $x_2<x_1<x_3$, etc. On aimerait donc que les nombres pseudo-aléatoires produits par nos générateurs vérifient aussi cette propriété.\n",
    "\n",
    "- Ecrire une fonction `test_ordre` qui tire un échantillon de triplets de nombres pseudo-aléatoires produits par un générateur, détermine l'ordre de ces triplets et affiche la répartition des ordres trouvés dans l'échantillon sous forme d'histogramme. Cette fonction prendra comme paramètres : `rd`, le générateur de nombres pseudo-aléatoires, et `nbsample`, la taille de l'échantillon."
   ]
  },
  {
   "cell_type": "code",
   "execution_count": 110,
   "metadata": {},
   "outputs": [],
   "source": [
    "def test_ordre(rd, nbsample):\n",
    "    lst_x, lst_y = [\"x1 < x2 < x3\", \"x1 < x3 < x2\", \"x2 < x1 < x3\", \"x2 < x3 < x1\", \"x3 < x1 < x2\", \"x3 < x2 < x1\"], []\n",
    "    for i in range(6):        \n",
    "        lst_y.append(0)\n",
    "        \n",
    "    for _ in range(nbsample):\n",
    "        lst = []\n",
    "        for j in range(3):\n",
    "            lst.append(rd.random())\n",
    "            \n",
    "        if lst[0] < lst[1] and lst[1] < lst[2]: #x1 < x2 < x3\n",
    "            lst_y[0] += 1\n",
    "        elif lst[0] < lst[2] and lst[2] < lst[1]: #x1 < x3 < x2\n",
    "            lst_y[1] += 1\n",
    "        elif lst[1] < lst[0] and lst[0] < lst[2]: #x2 < x1 < x3\n",
    "            lst_y[2] += 1   \n",
    "        elif lst[1] < lst[2] and lst[2] < lst[0]: #x2 < x3 < x1\n",
    "            lst_y[3] += 1 \n",
    "        elif lst[2] < lst[0] and lst[0] < lst[1]: #x3 < x1 < x2\n",
    "            lst_y[4] += 1 \n",
    "        elif lst[2] < lst[1] and lst[1] < lst[0]: #x3 < x2 < x1\n",
    "            lst_y[5] += 1 \n",
    "    \n",
    "    plt.figure(figsize=(9,5))\n",
    "    plt.bar(lst_x,lst_y)\n",
    "    plt.show()"
   ]
  },
  {
   "cell_type": "markdown",
   "metadata": {},
   "source": [
    "* Tester avec un échantillon de 60 000 triplets de nombres"
   ]
  },
  {
   "cell_type": "code",
   "execution_count": 111,
   "metadata": {
    "scrolled": true
   },
   "outputs": [
    {
     "data": {
      "image/png": "[encoded data removed]",
      "text/plain": [
       "<Figure size 648x360 with 1 Axes>"
      ]
     },
     "metadata": {
      "needs_background": "light"
     },
     "output_type": "display_data"
    },
    {
     "data": {
      "image/png": "[encoded data removed]",
      "text/plain": [
       "<Figure size 648x360 with 1 Axes>"
      ]
     },
     "metadata": {
      "needs_background": "light"
     },
     "output_type": "display_data"
    },
    {
     "data": {
      "image/png": "[encoded data removed]",
      "text/plain": [
       "<Figure size 648x360 with 1 Axes>"
      ]
     },
     "metadata": {
      "needs_background": "light"
     },
     "output_type": "display_data"
    },
    {
     "data": {
      "image/png": "[encoded data removed]",
      "text/plain": [
       "<Figure size 648x360 with 1 Axes>"
      ]
     },
     "metadata": {
      "needs_background": "light"
     },
     "output_type": "display_data"
    }
   ],
   "source": [
    "test_ordre(GCL(9, 5, 2**31), 60000)\n",
    "test_ordre(GCL(11, 5, 2**31), 60000)\n",
    "test_ordre(GCL(1664523, 1013904223, 2**31), 60000)\n",
    "test_ordre(GCL(1664525, 1013904223, 2**31), 60000)"
   ]
  },
  {
   "cell_type": "markdown",
   "metadata": {},
   "source": [
    "* Parmi les générateurs, lesquels réussissent ce deuxième test ?"
   ]
  },
  {
   "cell_type": "markdown",
   "metadata": {},
   "source": [
    "Les générateurs réussissant le deuxième test sont $(1664523,1013904223,2^{31})$ et $(1664525,1013904223,2^{31})$."
   ]
  },
  {
   "cell_type": "markdown",
   "metadata": {},
   "source": [
    "* Finalement, au vu de ces deux tests, quels générateurs semblent être de bons générateurs."
   ]
  },
  {
   "cell_type": "markdown",
   "metadata": {},
   "source": [
    "Seul $(1664525,1013904223,2^{31})$ semble être un bon générateur."
   ]
  },
  {
   "cell_type": "markdown",
   "metadata": {},
   "source": [
    "### A.4. Fonctions aléatoires complémentaires"
   ]
  },
  {
   "cell_type": "markdown",
   "metadata": {},
   "source": [
    "* Compléter la classe `GCL` avec les méthodes suivantes.\n",
    "    * `uniform` prend en paramètres deux réels `a` et `b` et renvoie un nombre réel tiré selon une loi uniforme sur l'intervalle $[a, b]$.\n",
    "    * `randint`prend en paramètres deux entiers `a` et `b` renvoie un nombre entier tiré selon une loi uniforme entre `a` et `b-1`. Indication : \n",
    "    * `choice` prend en paramètre une liste et renvoie un élément de la liste tiré aléatoirement.\n",
    "    \n",
    "Indication pour la méthode `uniform` : En divisant par $m$ le nombre entier pseudo-aléatoire fourni par la méthode `random`, on obtient un nombre réel pseudo-aléatoire entre $0$ et $1$ ($1$ exclu). Il suffit ensuite d'appliquer une certaine transformation affine pour obtenir un nombre réel pseudo-aléatoire entre $a$ et $b$ ($b$ exclu).\n",
    "\n",
    "Indication pour la méthode `randint` : Arrondir (inférieurement) le nombre réel pseudo-aléatoire fourni par l'appel à la méthode `uniform` sur l'intervalle $[a, b]$.\n",
    "\n",
    "Indication pour la méthode `choice` : Utiliser la méthode `randint`.\n",
    "    \n",
    "```py\n",
    ">>> rd = GCL(1664525, 1013904223, 2**31)\n",
    "\n",
    ">>> rd.uniform(1.5, 3.5)\n",
    "3.185575816487498\n",
    ">>> rd.uniform(1.5, 3.5)\n",
    "2.972734514132826\n",
    "\n",
    ">>> rd.randint(10, 15)\n",
    "10\n",
    ">>> rd.randint(10, 15)\n",
    "13\n",
    "\n",
    ">>> lst = ['A', 'B', 'C', 'D']\n",
    ">>> rd.choice(lst)\n",
    "'C'\n",
    ">>> rd.choice(lst)\n",
    "'A'\n",
    "```"
   ]
  },
  {
   "cell_type": "code",
   "execution_count": 83,
   "metadata": {},
   "outputs": [
    {
     "name": "stdout",
     "output_type": "stream",
     "text": [
      "2.7927888073027134\n",
      "1.7337474403902888\n"
     ]
    }
   ],
   "source": [
    "rd = GCL(1664525, 1013904223, 2**31)\n",
    "print(rd.uniform(1.5, 3.5))\n",
    "print(rd.uniform(1.5, 3.5))"
   ]
  },
  {
   "cell_type": "code",
   "execution_count": 84,
   "metadata": {},
   "outputs": [
    {
     "name": "stdout",
     "output_type": "stream",
     "text": [
      "13\n",
      "11\n"
     ]
    }
   ],
   "source": [
    "print(rd.randint(10, 15))\n",
    "print(rd.randint(10, 15))"
   ]
  },
  {
   "cell_type": "code",
   "execution_count": 85,
   "metadata": {},
   "outputs": [
    {
     "name": "stdout",
     "output_type": "stream",
     "text": [
      "C\n",
      "B\n"
     ]
    }
   ],
   "source": [
    "lst = ['A', 'B', 'C', 'D']\n",
    "print(rd.choice(lst))\n",
    "print(rd.choice(lst))"
   ]
  },
  {
   "cell_type": "markdown",
   "metadata": {},
   "source": [
    "## B. Applications"
   ]
  },
  {
   "cell_type": "markdown",
   "metadata": {},
   "source": [
    "### B.1. Simulation de la marche d'un ivrogne\n",
    "\n",
    "On considère un ivrogne qui se déplace dans le plan. Il part du point de coordonnées $(0,0)$. A chaque étape, il fait un déplacement de longueur 1, aléatoirement dans l'une des quatre directions (vers le haut, vers le bas, à gauche ou à droite).\n",
    "\n",
    "Voilà un exemple d'une telle marche d'ivrogne :\n",
    "```\n",
    "(0, 0)\n",
    "(-1, 0)\n",
    "(-1, -1)\n",
    "(-1, 0)\n",
    "(-2, 0)\n",
    "(-2, 1)\n",
    "(-3, 1)\n",
    "(-3, 0)\n",
    "etc.\n",
    "```\n",
    "\n",
    "* Ecrire une fonction `trace_marche` qui prend en paramètres un générateur aléatoire `rd` et un nombre d'étapes `n`, et qui simule une marche d'ivrogne à `n` étapes et l'affiche dans une fenêtre graphique."
   ]
  },
  {
   "cell_type": "code",
   "execution_count": 81,
   "metadata": {},
   "outputs": [],
   "source": [
    "def trace_marche(rd, n):\n",
    "    coord = [0, 0]\n",
    "    lst = [-1, 1]\n",
    "    for _ in range(n):\n",
    "        indice_aleatoire = rd.randint(0, 2)\n",
    "        pas_aleatoire = rd.choice(lst)\n",
    "        coord[indice_aleatoire] += pas_aleatoire\n",
    "        plt.plot(coord[0], coord[1] ,marker='.',linestyle='', color='blue')\n",
    "    plt.axis('equal')\n",
    "    plt.show"
   ]
  },
  {
   "cell_type": "markdown",
   "metadata": {},
   "source": [
    "* Tracer trois marches d'ivrogne à  10 000 étapes (en utilisant un bon générateur à congruence linéaire)."
   ]
  },
  {
   "cell_type": "code",
   "execution_count": 82,
   "metadata": {},
   "outputs": [
    {
     "data": {
      "image/png": "[encoded data removed]",
      "text/plain": [
       "<Figure size 432x288 with 1 Axes>"
      ]
     },
     "metadata": {
      "needs_background": "light"
     },
     "output_type": "display_data"
    }
   ],
   "source": [
    "trace_marche(GCL(1664525, 1013904223, 2**31), 10000)"
   ]
  },
  {
   "attachments": {
    "montecarlo.png": {
     "image/png": "[encoded data removed]"
    }
   },
   "cell_type": "markdown",
   "metadata": {},
   "source": [
    "### B.2. Calcul de $\\pi$ par une méthode aléatoire\n",
    "\n",
    "En considère un carré de côté 1 et un quart de disque inscrit dans ce carré comme dans la figure ci-dessous.\n",
    "\n",
    "![montecarlo.png](attachment:montecarlo.png)\n",
    "\n",
    "Si l'on tire un point au hasard dans ce carré, la probabilité que ce point soit dans le quart de disque est :\n",
    "\n",
    "$$\n",
    "\\frac{\\textrm{aire du quart de disque}}{\\textrm{aire du carré}}.\n",
    "$$\n",
    "\n",
    "Ce rapport vaut $\\displaystyle \\frac{\\pi}{4}$. Une façon de calculer $\\pi$ consiste donc à tirer beaucoup de points au hasard dans le carré et de calculer la proportion de points qui tombent dans le quart de disque. Cette proportion multipliée par 4 donne une approximation de $\\pi$."
   ]
  },
  {
   "cell_type": "markdown",
   "metadata": {},
   "source": [
    "* Ecrire une fonction `montecarlo` qui prend en paramètres un générateur aléatoire `rd` et un entier `n`, et calcule une approximation de $\\pi$ selon la méthode décrite plus haut en utilisant `n` points. Cette fonction affichera également une représentation graphique des points tirés (avec une couleur différente selon qu'ils sont ou non dans le quart de disque)."
   ]
  },
  {
   "cell_type": "code",
   "execution_count": 16,
   "metadata": {},
   "outputs": [],
   "source": [
    "import math\n",
    "\n",
    "def montecarlo(rd, n):\n",
    "    cmpt = 0\n",
    "    for _ in range(n):\n",
    "        x = rd.uniform(0, 1)\n",
    "        y =  rd.uniform(0, 1)\n",
    "        distance = math.sqrt(x**2 + y**2)\n",
    "        if distance <= 1:\n",
    "            cmpt += 1\n",
    "            plt.plot(x, y, marker='o', linestyle='', color='blue')\n",
    "        else:\n",
    "            plt.plot(x, y, marker='o', linestyle='', color='red')   \n",
    "    \n",
    "    plt.axis('equal')\n",
    "    plt.show()\n",
    "    return (cmpt/n)*4  "
   ]
  },
  {
   "cell_type": "markdown",
   "metadata": {},
   "source": [
    "* Calculer une approximation de $\\pi$ avec 10 000 points (en utilisant un bon générateur à congruence linéaire)."
   ]
  },
  {
   "cell_type": "code",
   "execution_count": 17,
   "metadata": {},
   "outputs": [
    {
     "data": {
      "image/png": "[encoded data removed]",
      "text/plain": [
       "<Figure size 432x288 with 1 Axes>"
      ]
     },
     "metadata": {
      "needs_background": "light"
     },
     "output_type": "display_data"
    },
    {
     "data": {
      "text/plain": [
       "3.146"
      ]
     },
     "execution_count": 17,
     "metadata": {},
     "output_type": "execute_result"
    }
   ],
   "source": [
    "rd = GCL(1664525, 1013904223, 2**31)\n",
    "montecarlo(rd, 10000)"
   ]
  },
  {
   "cell_type": "markdown",
   "metadata": {},
   "source": [
    "* Combien de décimales correctes de $\\pi$ retrouve-t-on dans cette approximation ? Cette méthode vous semble-t-elle efficace ?"
   ]
  },
  {
   "cell_type": "markdown",
   "metadata": {},
   "source": [
    "On retrouve une décimale correcte dans cette approximation, cette méthode n'est donc pas très efficace."
   ]
  },
  {
   "cell_type": "markdown",
   "metadata": {},
   "source": [
    "## C. Générateur de Von Neumann"
   ]
  },
  {
   "cell_type": "markdown",
   "metadata": {},
   "source": [
    "Un des premiers générateurs de nombres pseudo-aléatoires a été proposé par le mathématicien [John Von Neumann](https://fr.wikipedia.org/wiki/John_von_Neumann) dans les années 40. Il génère des nombres entiers compris entre 0 et 9999 de la façon suivante : si le dernier nombre généré est $x$, alors on calcule $x^2$, on rajoute éventuellement des $0$ en tête pour avoir 8 chiffres en base 10 et on prend les 4 chiffres du milieu comme nouveau nombre pseudo-aléatoire. Le générateur est initialisé avec une valeur initiale entre 0 et 9999 (la graine).\n",
    "\n",
    "Par exemple si l'on initialise le générateur avec 1230, la première fois qu'on demande un nombre au générateur cela donne $5129$ car\n",
    "$$1230^2 = 01\\underline{5129}00 \\rightarrow 5129.$$\n",
    "Si on demande un nouveau nombre on aura $3066$ car\n",
    "$$5129^2 = 26\\underline{3066}41 \\rightarrow 3066.$$"
   ]
  },
  {
   "cell_type": "markdown",
   "metadata": {},
   "source": [
    "- Ecrire une classe `VN` pour représenter le générateur de Von Neumann sur le modèle de la classe écrite précédemment pour les générateurs à congruence linéaire."
   ]
  },
  {
   "cell_type": "code",
   "execution_count": 43,
   "metadata": {},
   "outputs": [],
   "source": [
    "class VN:\n",
    "    def __init__(self):\n",
    "        self.x = str(int(time.time()))\n",
    "        self.x = self.x[:4]\n",
    "        \n",
    "    def random(self):\n",
    "        self.x = str(int(self.x) ** 2)\n",
    "        self.x = \"0\" * (8 - len(self.x)) + self.x\n",
    "        self.x = self.x[2:6]\n",
    "        return self.x\n",
    "    \n",
    "    def seed(self, entier):\n",
    "        self.x = entier\n",
    "        return self.x\n",
    "    "
   ]
  },
  {
   "cell_type": "markdown",
   "metadata": {},
   "source": [
    "- Fixer la graine à 3674. Afficher les 20 premiers nombres produits par le générateur de Von Neumann."
   ]
  },
  {
   "cell_type": "code",
   "execution_count": 65,
   "metadata": {},
   "outputs": [
    {
     "name": "stdout",
     "output_type": "stream",
     "text": [
      "4982 8203 2892 3636 2204 8576 5477 9975 5006 0600 3600 9600 1600 5600 3600 9600 1600 5600 3600 9600 "
     ]
    }
   ],
   "source": [
    "v = VN()    \n",
    "v.seed(3674)\n",
    "for _ in range(20):\n",
    "    print(v.random(), end=\" \")"
   ]
  },
  {
   "cell_type": "markdown",
   "metadata": {},
   "source": [
    "Comme les générateurs à congruence linéaire, le générateur de Von Neumann est basé sur une suite récurrente (d'ordre 1) à valeur dans un ensemble fini. Cette suite est donc nécesssairement périodique à partir d'un certains rang. Ainsi, quelle que soit la graine, le générateur de Von Neumann produit un certain nombre de valeurs différentes avant de devenir périodique et de redonner les mêmes valeurs. Evidemment, un générateur qui ne produit qu'un petit nombre de valeurs différentes n'est pas un bon générateur."
   ]
  },
  {
   "cell_type": "markdown",
   "metadata": {},
   "source": [
    "* Avec la graine 3674, combien de valeurs différentes produit le générateur de Von Neumann."
   ]
  },
  {
   "cell_type": "markdown",
   "metadata": {},
   "source": [
    "Le générateur de Von Neumann a produit 14 valeurs différentes."
   ]
  },
  {
   "cell_type": "markdown",
   "metadata": {},
   "source": [
    "- Ecrire une fonction `nvalVN` qui calcule le nombre de valeurs différentes produites par le générateur de Von Neumann pour une graine `seed` donnée."
   ]
  },
  {
   "cell_type": "code",
   "execution_count": 66,
   "metadata": {},
   "outputs": [
    {
     "data": {
      "text/plain": [
       "14"
      ]
     },
     "execution_count": 66,
     "metadata": {},
     "output_type": "execute_result"
    }
   ],
   "source": [
    "def nvalVN(graine):\n",
    "    lst_valeurs = []\n",
    "    v = VN()    \n",
    "    v.seed(graine)\n",
    "    while True:\n",
    "        val = v.random()\n",
    "        if val in lst_valeurs:\n",
    "            return len(lst_valeurs)\n",
    "        else:\n",
    "            lst_valeurs.append(val)\n",
    "            \n",
    "nvalVN(3674)"
   ]
  },
  {
   "cell_type": "markdown",
   "metadata": {},
   "source": [
    "- Ecrire un programme pour déterminer la graine qui maximise le nombre de valeurs différentes produites."
   ]
  },
  {
   "cell_type": "code",
   "execution_count": 76,
   "metadata": {},
   "outputs": [
    {
     "name": "stdout",
     "output_type": "stream",
     "text": [
      "La graine qui maximise le nombre de valeurs différentes est: 6239 \n",
      "(elle produit 110 valeurs différentes)\n"
     ]
    }
   ],
   "source": [
    "nval = 0\n",
    "graine = 0\n",
    "for i in range(10000):\n",
    "    val = nvalVN(i)\n",
    "    if val > nval:\n",
    "        nval = val\n",
    "        graine = i\n",
    "print(\"La graine qui maximise le nombre de valeurs différentes est:\", graine, \"\\n(elle produit\", nval, \"valeurs différentes)\")"
   ]
  },
  {
   "cell_type": "markdown",
   "metadata": {},
   "source": [
    "- Le générateur de Von Neumann vous semble-t-il être un bon générateur ?"
   ]
  },
  {
   "cell_type": "markdown",
   "metadata": {},
   "source": [
    "Ce générateur reste assez limité, il n'est donc pas considéré comme un bon génératuer si l'on souhaite avoir plus d'une centaine de chiffre aléatoire différent."
   ]
  }
 ],
 "metadata": {
  "kernelspec": {
   "display_name": "Python 3",
   "language": "python",
   "name": "python3"
  },
  "language_info": {
   "codemirror_mode": {
    "name": "ipython",
    "version": 3
   },
   "file_extension": ".py",
   "mimetype": "text/x-python",
   "name": "python",
   "nbconvert_exporter": "python",
   "pygments_lexer": "ipython3",
   "version": "3.8.5"
  }
 },
 "nbformat": 4,
 "nbformat_minor": 2
}
