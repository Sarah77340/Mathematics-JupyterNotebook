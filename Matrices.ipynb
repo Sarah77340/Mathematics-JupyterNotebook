{
 "cells": [
  {
   "cell_type": "markdown",
   "metadata": {},
   "source": [
    "# Problème 7 : Matrices et transformations affines du plan"
   ]
  },
  {
   "cell_type": "markdown",
   "metadata": {},
   "source": [
    "\n",
    "Dans ce problème, on s'intéresse aux application de $\\mathbb{R}^2$ dans $\\mathbb{R}^2$ de la forme\n",
    "\n",
    "$$\n",
    "x \\mapsto Ax+b,\n",
    "$$\n",
    "\n",
    "où $A$ est une matrice réelle de taille $2 \\times 2$ et $b$ un vecteur réel de taille $2$.\n",
    "\n",
    "Une application de cette forme peut s'interpréter comme une **transformation géométrique du plan**, c'est-à-dire une application qui transforme un point du plan en un autre point du plan. En effet, en munissant le plan d'un repère, on peut représenter chaque point du plan par un couple de coordonnées, c'est-à-dire par un vecteur de $\\mathbb{R}^2$.\n",
    "\n",
    "Ces applications sont plus précisément appelées **transformations affines du plan**. Parmi elles, on trouve les **translations**, les **rotations**, les **symétries axiales**, etc.\n",
    "\n",
    "Nous souhaitons programmer des classes permettant de représenter et de manipuler les transformations affines. Pour cela, nous commencerons par créer des classes pour les vecteurs et les matrices.\n",
    "\n",
    "Enfin, en guise d'application, nous utiliserons des transformations affines pour gérer le déplacement d'un vaisseau dans un jeu vidéo 2D."
   ]
  },
  {
   "cell_type": "markdown",
   "metadata": {},
   "source": [
    "## A. Classes `Vec` et `Mat`\n",
    "\n",
    "* Créer une classe `Vec` pour représenter et manipuler les vecteurs.\n",
    "    * Un objet de cette classe aura pour unique attribut :\n",
    "        * `coeff`: la liste des coefficients du vecteur.\n",
    "    * La méthode `__init__` prendra en paramètre (en plus de `self`) la liste des coefficients du vecteur.\n",
    "    * Cette classe contiendra également les méthodes suivantes :\n",
    "        * `__repr__` ;\n",
    "        * `__add__`, qui renvoie la somme de deux vecteurs ;\n",
    "        * `__neg__` qui renvoie l'opposé d'un vecteur ;\n",
    "        * `__sub__`, qui renvoie la différence de deux vecteurs ;\n",
    "        * `__mul__`, qui renvoie le produit d'un vecteur par un réel ;\n",
    "        * `norme`, qui renvoie la norme euclidienne d'un vecteur.\n",
    "        \n",
    "Pour compléter la description de cette classe, voici des exemples d'utilisation.    \n",
    "~~~py\n",
    ">>> Vec([-1, 4, 2])\n",
    "Vec([-1, 4, 2])\n",
    "\n",
    ">>> Vec([2, 0, 1]) + Vec([1, 2, -1])\n",
    "Vec([3, 2, 0])\n",
    "\n",
    ">>> Vec([1, 2, 0, -1]) * 2\n",
    "Vec([2, 4, 0, -2])\n",
    "\n",
    ">>> -Vec([1, 2])\n",
    "Vec([-1, -2])\n",
    "\n",
    ">>> Vec([2, 0, 1]) - Vec([1, 2, -1])\n",
    "Vec([1, -2, 2])\n",
    "\n",
    ">>> Vec([3, 4]).norme()\n",
    "5.0\n",
    "~~~"
   ]
  },
  {
   "cell_type": "code",
   "execution_count": 1,
   "metadata": {},
   "outputs": [],
   "source": [
    "import math\n",
    "\n",
    "class Vec:\n",
    "    def __init__ (self, coeff):\n",
    "        self.coeff = coeff\n",
    "    \n",
    "    def __repr__(self):\n",
    "        \"\"\"\n",
    "        >>> Vec([-1, 4, 2])\n",
    "        Vec([-1, 4, 2])\n",
    "        \"\"\"\n",
    "        return \"Vec(\" + str(self.coeff) + \")\"\n",
    "    \n",
    "    def __add__(self, other):\n",
    "        \"\"\"\n",
    "        Renvoie la somme de deux vecteurs\n",
    "        >>> Vec([2, 0, 1]) + Vec([1, 2, -1])\n",
    "        Vec([3, 2, 0])\n",
    "        \"\"\"\n",
    "        lst = []\n",
    "        for i in range(len(self.coeff)):\n",
    "            lst.append(self.coeff[i] + other.coeff[i])\n",
    "        return Vec(lst)\n",
    "    \n",
    "    def __neg__(self):\n",
    "        \"\"\"\n",
    "        Renvoie l'opposé d'un vecteur\n",
    "        >>> -Vec([1, 2])\n",
    "        Vec([-1, -2])\n",
    "        \"\"\"\n",
    "        lst = []\n",
    "        for i in range(len(self.coeff)):\n",
    "            lst.append(-1 *self.coeff[i])\n",
    "        return Vec(lst)\n",
    "        \n",
    "    def __sub__(self, other):\n",
    "        \"\"\"\n",
    "        Renvoie la différence de deux vecteurs\n",
    "        >>> Vec([2, 0, 1]) - Vec([1, 2, -1])\n",
    "        Vec([1, -2, 2])\n",
    "        \"\"\"\n",
    "        return Vec(self.coeff) + (- Vec(other.coeff))\n",
    "    \n",
    "    def __mul__(self, other):\n",
    "        \"\"\"\n",
    "        Renvoie le produit d'un vecteur par un réel\n",
    "        >>> Vec([1, 2, 0, -1]) * 2\n",
    "        Vec([2, 4, 0, -2])\n",
    "        \"\"\"\n",
    "        lst = []\n",
    "        for i in range(len(self.coeff)):\n",
    "            lst.append(other *self.coeff[i])\n",
    "        return Vec(lst)\n",
    "    \n",
    "    def norme(self):\n",
    "        \"\"\"\n",
    "        Renvoie la norme euclidienne d'un vecteur\n",
    "        >>> Vec([3, 4]).norme()\n",
    "        5.0\n",
    "        \"\"\"\n",
    "        resultat = 0;\n",
    "        for i in range(len(self.coeff)):\n",
    "            resultat += self.coeff[i] * self.coeff[i]\n",
    "        return math.sqrt(resultat)"
   ]
  },
  {
   "cell_type": "markdown",
   "metadata": {},
   "source": [
    "- Insérer des tests (*doctests*) dans les chaînes de documentation (*docstrings*) des différentes méthode de la classe `Vec`. Tester la classe `Vec` avec la commande `testmod` du module `doctest`."
   ]
  },
  {
   "cell_type": "code",
   "execution_count": 2,
   "metadata": {},
   "outputs": [
    {
     "data": {
      "text/plain": [
       "TestResults(failed=0, attempted=6)"
      ]
     },
     "execution_count": 2,
     "metadata": {},
     "output_type": "execute_result"
    }
   ],
   "source": [
    "from doctest import testmod\n",
    "testmod()"
   ]
  },
  {
   "cell_type": "markdown",
   "metadata": {},
   "source": [
    "* Créer une classe `Mat` pour représenter et manipuler les matrices.\n",
    "    * Un objet de cette classe aura pour unique attribut :\n",
    "        * `coeff`: les coefficients de la matrice sous forme d'une liste d'une listes (chaque sous-liste correspondant à une ligne de la matrice).\n",
    "    * La méthode `__init__` prendra en paramètre (en plus de `self`) la liste des coefficients du vecteur.\n",
    "    * Cette classe contiendra également les méthodes suivantes :\n",
    "        * `__repr__` ;\n",
    "        * `__add__`, qui renvoie la somme de deux matrices ;\n",
    "        * `__mul__`, qui renvoie le produit d'une matrice par une matrice ou par un vecteur (selon la nature de l'opérande de droite).\n",
    "        \n",
    "Indication : Dans la méthode `__init__`, utiliser la fonction `deepcopy` du module `copy` pour copier la liste de listes fournie en paramètre.\n",
    "\n",
    "Pour compléter la description de cette classe, voici des exemples d'utilisation.  \n",
    "```py\n",
    ">>> Mat([[1, 0, 1], [2, 1, 1]])\n",
    "Mat([[1, 0, 1], [2, 1, 1]])\n",
    "\n",
    ">>> A = Mat([[1, 0, 1], [2, 1, 1]])\n",
    ">>> B = Mat([[-1, 1, 0], [0, 2, -1]])  \n",
    ">>> A + B\n",
    "Mat([[0, 1, 1], [2, 3, 0]])\n",
    "\n",
    ">>> C = Mat([[1, 1], [2, 0], [1, -1]])  \n",
    ">>> A * C\n",
    "Mat([[2, 0], [5, 1]])\n",
    "\n",
    ">>> A * Vec([1, 0, 1])\n",
    "Vec([2, 3])\n",
    "```"
   ]
  },
  {
   "cell_type": "code",
   "execution_count": 3,
   "metadata": {},
   "outputs": [],
   "source": [
    "import copy \n",
    "\n",
    "class Mat:\n",
    "    def __init__ (self, coeff):\n",
    "        self.coeff = copy.deepcopy(coeff)\n",
    "         \n",
    "    def __repr__(self):\n",
    "        \"\"\"\n",
    "        >>> Mat([[1, 0, 1], [2, 1, 1]])\n",
    "        Mat([[1, 0, 1], [2, 1, 1]])\n",
    "        \"\"\"\n",
    "        return \"Mat(\" + str(self.coeff) + \")\"\n",
    "    \n",
    "    def __add__(self, other):\n",
    "        \"\"\"\n",
    "        >>> A = Mat([[1, 0, 1], [2, 1, 1]])\n",
    "        >>> B = Mat([[-1, 1, 0], [0, 2, -1]])  \n",
    "        >>> A + B\n",
    "        Mat([[0, 1, 1], [2, 3, 0]])\n",
    "        \"\"\"\n",
    "        lst = [[],[]]\n",
    "        for i in range(len(self.coeff)):\n",
    "            for j in range(len(self.coeff[0])):\n",
    "                lst[i].append(self.coeff[i][j] + other.coeff[i][j])\n",
    "        return Mat(lst)\n",
    "       \n",
    "    def __mul__(self, other):\n",
    "        \"\"\"Multiplication par un vecteur ou une matrice.\n",
    "        >>> A = Mat([[1, 0, 1], [2, 1, 1]])\n",
    "        >>> C = Mat([[1, 1], [2, 0], [1, -1]])  \n",
    "        >>> A * C\n",
    "        Mat([[2, 0], [5, 1]])\n",
    "        >>> A * Vec([1, 0, 1])\n",
    "        Vec([2, 3])\n",
    "        \"\"\"\n",
    "        if isinstance(other, Vec):\n",
    "            lst = []\n",
    "            for j in range(len(self.coeff)):\n",
    "                x = 0\n",
    "                for i in range(len(other.coeff)):\n",
    "                    x += self.coeff[j][i] * other.coeff[i]\n",
    "                lst.append(x)\n",
    "            return Vec(lst)\n",
    "            \n",
    "        elif isinstance(other, Mat):\n",
    "            lst = [[0] * len(other.coeff[0]) for i in range(len(self.coeff))]\n",
    "            for k in range(len(other.coeff[0])):\n",
    "                for j in range(len(self.coeff)):\n",
    "                    x = 0\n",
    "                    for i in range(len(other.coeff)):\n",
    "                        x += self.coeff[k][i] * other.coeff[i][j]\n",
    "                    lst[k][j] = x\n",
    "            return Mat(lst)\n"
   ]
  },
  {
   "cell_type": "markdown",
   "metadata": {},
   "source": [
    "- Insérer des tests (*doctests*) dans les chaînes de documentation (*docstrings*) des différentes méthode de la classe `Mat`. Tester la classe `Mat` avec la commande `testmod` du module `doctest`."
   ]
  },
  {
   "cell_type": "code",
   "execution_count": 4,
   "metadata": {},
   "outputs": [
    {
     "data": {
      "text/plain": [
       "TestResults(failed=0, attempted=14)"
      ]
     },
     "execution_count": 4,
     "metadata": {},
     "output_type": "execute_result"
    }
   ],
   "source": [
    "from doctest import testmod\n",
    "testmod()"
   ]
  },
  {
   "cell_type": "markdown",
   "metadata": {},
   "source": [
    "- Quelle est la complexité (en nombre d'additions/multiplications) de :\n",
    "    - la méthode `__add__` pour calculer la somme de deux matrices carrées de taille $n$ ?\n",
    "    - la méthode `__mul__` pour calculer le produit de deux matrices carrées de taille $n$ ?\n",
    "    - la méthode `__mul__` pour calculer le produit d'une matrice carrée de taille $n$ avec un vecteur de taille $n$ ?"
   ]
  },
  {
   "cell_type": "markdown",
   "metadata": {},
   "source": [
    "<div style= \"color : blue\">\n",
    "    \n",
    "- la méthode `__add__` est de complexité $n^{2}$ \n",
    "    \n",
    "- la méthode `__mul__` pour deux matrices carrée est de complexité $(2n -1) n^{2}$\n",
    "    \n",
    "- la méthode `__mul__` pour une matrice carrée et un vecteur est de complexité $(2n -1) n$\n",
    "</div>"
   ]
  },
  {
   "cell_type": "markdown",
   "metadata": {},
   "source": [
    "## B. Transformations affines"
   ]
  },
  {
   "cell_type": "markdown",
   "metadata": {},
   "source": [
    "### B.1. Quelques résultats théoriques"
   ]
  },
  {
   "cell_type": "markdown",
   "metadata": {},
   "source": [
    "- Une transformation affine du plan est-elle une application linéaire de $\\mathbb{R}^2$ dans $\\mathbb{R}^2$ ?"
   ]
  },
  {
   "cell_type": "markdown",
   "metadata": {},
   "source": [
    "<div style= \"color : blue\">\n",
    "     \n",
    "Soit $f$ une application affine du plan tel que:\n",
    "\n",
    "$$\\mathbb{R}^2 \\to \\mathbb{R}^2$$\n",
    "\n",
    "$$(x, y) \\mapsto A \\begin{pmatrix} x \\\\ y \\end{pmatrix} + b$$\n",
    "\n",
    "où $A$ est une matrice réelle de taille $2 \\times 2$ et $b$ un vecteur réel de taille $2$\n",
    "\n",
    "On pose $u=(x,y)$ et $v=(x',y')$ et $\\lambda \\in \\mathbb{K}$\n",
    "\n",
    "$f(u+\\lambda v) = A [\\begin{pmatrix} x \\\\ y \\end{pmatrix} + \\lambda \\begin{pmatrix} x' \\\\ y' \\end{pmatrix}] + b$\n",
    "\n",
    "$\\qquad\\quad = A \\begin{pmatrix} x \\\\ y \\end{pmatrix} + \\lambda A \\begin{pmatrix} x' \\\\ y' \\end{pmatrix} + b$\n",
    "\n",
    "On pose $b'$ un vecteur réel de taille 2 tel que $b' = b/2$.\n",
    "\n",
    "On a alors: \n",
    "\n",
    "$f(u+\\lambda v) = A \\begin{pmatrix} x \\\\ y \\end{pmatrix} + \\lambda A \\begin{pmatrix} x' \\\\ y' \\end{pmatrix} + 2b'$\n",
    "\n",
    "$\\qquad\\quad = A \\begin{pmatrix} x \\\\ y \\end{pmatrix} + b' + \\lambda A \\begin{pmatrix} x' \\\\ y' \\end{pmatrix} + b'$\n",
    "\n",
    "$\\qquad\\quad = f(u) + \\lambda f(v)$\n",
    "\n",
    "Donc oui une transformation affine du plan est une application linéaire de $\\mathbb{R}^2$ dans $\\mathbb{R}^2$.\n",
    "    \n",
    "</div>"
   ]
  },
  {
   "cell_type": "markdown",
   "metadata": {},
   "source": [
    "- Montrer que la composition de deux transformations affines du plan est-encore une transformation affine du plan."
   ]
  },
  {
   "cell_type": "markdown",
   "metadata": {},
   "source": [
    "<div style= \"color : blue\">\n",
    "    \n",
    "$A$ est une matrice réelle de taille $2 \\times 2$ et $b$ un vecteur réel de taille $2$\n",
    "\n",
    "Soient $f$ et $g$ deux applications linéaires:\n",
    "\n",
    "$$f:\\mathbb{R}^2 \\to \\mathbb{R}^2 \\qquad\\qquad\\qquad\\qquad\\qquad g:\\mathbb{R}^2 \\to\t\\mathbb{R}^2$$\n",
    "$$(x, y) \\mapsto A \\begin{pmatrix} x \\\\ y \\end{pmatrix} + b \\qquad\\qquad\\qquad\\qquad (x, y) \\mapsto A \\begin{pmatrix} x \\\\ y \\end{pmatrix} + b$$\n",
    "\n",
    "On a alors $g(x,y) = A\\begin{pmatrix} x \\\\ y \\end{pmatrix} + b \\qquad avec \\qquad A=\\begin{pmatrix} \\lambda_{1}&\\lambda_{2} \\\\ \\lambda_{3}&\\lambda_{4} \\end{pmatrix} \\quad et \\quad b=\\begin{pmatrix} \\eta_{1} \\\\ \\eta_{2} \\end{pmatrix} \\qquad\\qquad\\qquad\n",
    "\\lambda_{1},\\lambda_{2},\\lambda_{3},\\lambda_{4},\\eta_{1},\\eta_{2}\t\\in \\mathbb{R}$\n",
    "\n",
    "$\\qquad\\quad g(x,y) = \\begin{pmatrix} \\lambda_{1}&\\lambda_{2} \\\\ \\lambda_{3}&\\lambda_{4} \\end{pmatrix} \\begin{pmatrix} x \\\\ y \\end{pmatrix} + \\begin{pmatrix} \\eta_{1} \\\\ \\eta_{2} \\end{pmatrix}$\n",
    "\n",
    "$\\qquad\\qquad\\qquad = \\begin{pmatrix} \\lambda_{1}x+\\lambda_{2}y \\\\ \\lambda_{3}x+\\lambda_{4}y \\end{pmatrix} + \\begin{pmatrix} \\eta_{1} \\\\ \\eta_{2} \\end{pmatrix}$\n",
    "\n",
    "$\\qquad\\qquad\\qquad = \\begin{pmatrix} \\lambda_{1}x+\\lambda_{2}y+\\eta_{1} \\\\ \\lambda_{3}x+\\lambda_{4}y+\\eta_{2} \\end{pmatrix}$\n",
    "\n",
    "On pose $ x'=\\lambda_{1}x+\\lambda_{2}y+\\eta_{1} \\quad et \\quad y'= \\lambda_{3}x+\\lambda_{4}y+\\eta_{2} \\qquad\\qquad\\qquad (x',y') \\in \\mathbb{R}^2$\n",
    "\n",
    "Donc $g(x,y) = \\begin{pmatrix} x' \\\\ y' \\end{pmatrix}$\n",
    "\n",
    "$(f \\circ g)(x,y) = f(g(x,y)) = f(x',y') = A\\begin{pmatrix} x' \\\\ y' \\end{pmatrix} + b $\n",
    "\n",
    "$\\qquad\\qquad\\qquad\\qquad\\qquad\\qquad\\qquad = \\begin{pmatrix} \\lambda_{1}&\\lambda_{2} \\\\ \\lambda_{3}&\\lambda_{4} \\end{pmatrix} \\begin{pmatrix} x' \\\\ y' \\end{pmatrix} + \\begin{pmatrix} \\eta_{1} \\\\ \\eta_{2} \\end{pmatrix}$\n",
    "\n",
    "$\\qquad\\qquad\\qquad\\qquad\\qquad\\qquad\\qquad = \\begin{pmatrix} \\lambda_{1}x'+\\lambda_{2}y'+\\eta_{1} \\\\ \\lambda_{3}x'+\\lambda_{4}y'+\\eta_{2} \\end{pmatrix}$\n",
    "\n",
    "Donc la composition de deux transformations affines du plan est bien une transformation affine du plan.\n",
    "    \n",
    "</div>"
   ]
  },
  {
   "cell_type": "markdown",
   "metadata": {},
   "source": [
    "**Translations**\n",
    "\n",
    "Soit $v \\in \\mathbb{R}^2$. On appelle **translation de vecteur $v$** la transformation affine où $A$ est la matrice identité et $b =v$. On la note $T_v$.\n",
    "\n",
    "- Quelle est l'application réciproque de $T_v$ ? Justifier en vérifiant que la composée de $T_v$ et de sa réciproque est bien égale à l'application identité. (Indication : D'un point de vue géométrique, l'application réciproque \"ramène\" un point à sa position initiale.)"
   ]
  },
  {
   "cell_type": "markdown",
   "metadata": {},
   "source": [
    "<div style= \"color : blue\">\n",
    "L'application réciproque de $\\qquad T_{v}^{1}: \\mathbb{R}^2 \\to \\mathbb{R}^2\\qquad$ est $\\qquad\\qquad\\quad T_{v}^{-1}: \\mathbb{R}^2 \\to \\mathbb{R}^2$\n",
    "\n",
    "$\\qquad\\qquad\\qquad\\qquad\\qquad\\qquad x \\mapsto Ax + v \\qquad\\qquad\\qquad $ $\\qquad\\quad Ax + v \\mapsto x$\n",
    "\n",
    "Justification:\n",
    "\n",
    "$T_{v}^{-1} (T_{v}(x)) = T_{v}^{-1} (Ax + v) = x$\n",
    "\n",
    "D'après les indications: pour tout $x \\in \\mathbb{R}^2 \\qquad T_{v}^{-1} (T_{v}) = x, \\qquad T_{v}^{-1} \\circ T_{v} = Id_{x}$\n",
    "\n",
    "Donc la vérification est bonne.\n",
    "</div>"
   ]
  },
  {
   "cell_type": "markdown",
   "metadata": {},
   "source": [
    "**Rotations**\n",
    "\n",
    "On appelle **rotation de centre l'origine et d'angle $\\theta$** la transformation affine où $\\displaystyle A = \\begin{pmatrix}\n",
    "\\cos \\theta & -\\sin \\theta \\\\\n",
    "\\sin \\theta & \\cos \\theta \\\\\n",
    "\\end{pmatrix}$ et $b$ est le vecteur nul. On la note $R_\\theta$.\n",
    "\n",
    "- Quelle est l'application réciproque de $R_\\theta$ ? Justifier en vérifiant que la composée de $R_\\theta$ et de sa réciproque est bien égale à l'application identité "
   ]
  },
  {
   "cell_type": "markdown",
   "metadata": {},
   "source": [
    "<div style= \"color : blue\">\n",
    "    \n",
    "L'application réciproque de $\\qquad R_{\\theta}: \\mathbb{R}^2 \\to \\mathbb{R}^2\\qquad\\qquad\\qquad$ est $\\qquad\\qquad\\qquad\\qquad R_{\\theta}^{-1}: \\mathbb{R}^2 \\to \\mathbb{R}^2$\n",
    "\n",
    "$\\qquad\\qquad\\qquad\\qquad x \\mapsto \\begin{pmatrix}\n",
    "\\cos \\theta & -\\sin \\theta \\\\\n",
    "\\sin \\theta & \\cos \\theta \\\\\n",
    "\\end{pmatrix} x \\qquad\\qquad\\qquad $ $\\qquad\\quad \\begin{pmatrix}\n",
    "\\cos \\theta & -\\sin \\theta \\\\\n",
    "\\sin \\theta & \\cos \\theta \\\\\n",
    "\\end{pmatrix} x \\mapsto x$\n",
    "\n",
    "Justification:\n",
    "\n",
    "$R_{\\theta}^{-1} (R_{\\theta}(x)) = R_{\\theta}^{-1} [\\begin{pmatrix}\n",
    "\\cos \\theta & -\\sin \\theta \\\\\n",
    "\\sin \\theta & \\cos \\theta \\\\\n",
    "\\end{pmatrix} \\begin{pmatrix} x \\\\ y \\end{pmatrix}] = x$\n",
    "    \n",
    "Donc la vérification est bonne.\n",
    "</div>"
   ]
  },
  {
   "cell_type": "markdown",
   "metadata": {},
   "source": [
    "* La rotation de centre $C$ et d'angle $\\theta$ est l'applcation $\n",
    "T_{\\vec{OC}} \\circ R_{\\theta} \\circ T_{\\vec{CO}}$. Exprimer cette application sous la forme $x \\mapsto Ax + b$."
   ]
  },
  {
   "cell_type": "markdown",
   "metadata": {},
   "source": [
    "<div style= \"color : blue\">\n",
    "\n",
    "On a: $\\qquad T_{\\vec{CO}} (x) = x + \\vec{CO}$ \n",
    "\n",
    "$\\qquad\\qquad T_{\\vec{OC}} (x) = T_{\\vec{-OC}} = T^{-1}_{\\vec{CO}} = x - \\vec{CO} $\n",
    "\n",
    "$\\qquad\\qquad R_{\\theta} = Ax$ \n",
    "\n",
    "$ $\n",
    "\n",
    "$(T_{\\vec{OC}} \\circ R_{\\theta} \\circ T_{\\vec{CO}}) (x) = T_{\\vec{OC}}(R_{\\theta}(T_{\\vec{CO}}(x)))$\n",
    "\n",
    "$\\qquad\\qquad\\qquad\\quad = T_{\\vec{OC}}(A(x + \\vec{CO}))$\n",
    "\n",
    "$\\qquad\\qquad\\qquad\\quad = A (x + \\vec{CO}) - \\vec{CO}$\n",
    "\n",
    "Cette application sous la forme $x \\mapsto Ax + b$\n",
    "    \n",
    "</div>"
   ]
  },
  {
   "cell_type": "markdown",
   "metadata": {},
   "source": [
    "**D'autres transformations**\n",
    "\n",
    "* Comment interpréter géométriquement les transformations affines suivantes ?\n",
    "    - $\\displaystyle A = \\begin{pmatrix}\n",
    "    1 & 0 \\\\\n",
    "    0 & -1 \\\\\n",
    "    \\end{pmatrix}$ et $b$ est le vecteur nul\n",
    "    - $\\displaystyle A = \\begin{pmatrix}\n",
    "    0 & 0 \\\\\n",
    "    0 & 1 \\\\\n",
    "    \\end{pmatrix}$ et $b$ est le vecteur nul\n",
    "    - $\\displaystyle A = \\begin{pmatrix}\n",
    "    2 & 0 \\\\\n",
    "    0 & 2 \\\\\n",
    "    \\end{pmatrix}$ et $b$ est le vecteur nul"
   ]
  },
  {
   "cell_type": "markdown",
   "metadata": {},
   "source": [
    "<div style= \"color : blue\">\n",
    "\n",
    "- $ \\begin{pmatrix}\n",
    "    1 & 0 \\\\\n",
    "    0 & -1 \\\\\n",
    "    \\end{pmatrix}\n",
    "    \\begin{pmatrix} a \\\\ b \\end{pmatrix} = \\begin{pmatrix} a \\\\ -b \\end{pmatrix}$ On peut donc dire qu'il s'agit d'une symétrie axiale par rapport à l'axe des abscisses.\n",
    "    \n",
    "- $ \\begin{pmatrix}\n",
    "    0 & 0 \\\\\n",
    "    0 & 1 \\\\\n",
    "    \\end{pmatrix}\n",
    "    \\begin{pmatrix} a \\\\ b \\end{pmatrix} = \\begin{pmatrix} 0 \\\\ b \\end{pmatrix}$ On peut donc dire qu'il s'agit d'une projection sur l'axe des ordonnées.\n",
    "    \n",
    "- $ \\begin{pmatrix}\n",
    "    2 & 0 \\\\\n",
    "    0 & 2 \\\\\n",
    "    \\end{pmatrix}\n",
    "    \\begin{pmatrix} a \\\\ b \\end{pmatrix} = \\begin{pmatrix} 2a \\\\ 2b \\end{pmatrix}$ On peut donc dire qu'il s'agit d'une homothétie (transformation géométrique par agrandissement ou réduction) de rapport 2 et qui a pour centre l'origine.\n",
    "      "
   ]
  },
  {
   "cell_type": "markdown",
   "metadata": {},
   "source": [
    "### B.2. Classes pour les transformations affines\n",
    "\n",
    "Nous allons maintenant écrire des classes permettant de représenter respectivement des transformations affines quelconques, des rotations et des translations. \n",
    "\n",
    "Nous utiliserons le principe *d'héritage* (notion nouvelle) pour rassembler le code commun à plusieurs transformations (par exemple la méthode `compose`, qui est *héritée* de la classe `TransAffine2D`dans les classes `Rotation2D` et `Translation2D`).\n",
    "\n",
    "- Compléter les classes suivantes de manière à ce que tous les doctests fonctionnent.\n",
    "\n",
    "#### Classe générale"
   ]
  },
  {
   "cell_type": "code",
   "execution_count": 5,
   "metadata": {},
   "outputs": [],
   "source": [
    "class TransAffine2D:\n",
    "    \"\"\"Transformation affine (quelconque) du plan.\n",
    "    \n",
    "    >>> A = Mat([[1, -1], [1, 1]])\n",
    "    >>> b = Vec([1, -1])\n",
    "    >>> phi = TransAffine2D(A, b)\n",
    "    >>> phi.applique(Vec([0, 1]))\n",
    "    Vec([0, 0])\n",
    "    >>> phi.applique(Vec([1, 0]))\n",
    "    Vec([2, 0])\n",
    "    \n",
    "    >>> phi2 = phi.compose(phi)\n",
    "    >>> phi2.applique(Vec([1, 0]))\n",
    "    Vec([3, 1])\n",
    "    \"\"\"\n",
    "    \n",
    "    def __init__(self, mat=None, vec=None):\n",
    "        # par défaut, on construit la transformation identité\n",
    "        self.mat = Mat([[1, 0], [0, 1]]) if mat is None else mat\n",
    "        self.vec = Vec([0, 0]) if vec is None else vec\n",
    "        \n",
    "    def __repr__(self):\n",
    "        return \"TransAffine2D({}, {})\".format(\n",
    "            repr(self.mat), repr(self.vec))\n",
    "    \n",
    "    def compose(self, other):\n",
    "        \"\"\"Construit la transformation (self o other).\n",
    "        \n",
    "        Attention à l'ordre ! La transformation composée\n",
    "        revient à appliquer d'abord other, puis self.\n",
    "        \"\"\"\n",
    "        mat = self.mat * other.mat\n",
    "        vec = self.mat * other.vec + self.vec\n",
    "        return TransAffine2D(mat, vec)\n",
    "    \n",
    "    def applique(self, vecteur):\n",
    "        \"\"\"Applique la transformation self à vecteur.\"\"\"\n",
    "        return self.mat * vecteur +  self.vec "
   ]
  },
  {
   "cell_type": "code",
   "execution_count": 6,
   "metadata": {},
   "outputs": [
    {
     "data": {
      "text/plain": [
       "TestResults(failed=0, attempted=21)"
      ]
     },
     "execution_count": 6,
     "metadata": {},
     "output_type": "execute_result"
    }
   ],
   "source": [
    "from doctest import testmod\n",
    "testmod()"
   ]
  },
  {
   "cell_type": "markdown",
   "metadata": {},
   "source": [
    "#### Rotations"
   ]
  },
  {
   "cell_type": "code",
   "execution_count": 7,
   "metadata": {},
   "outputs": [],
   "source": [
    "from math import cos, sin, pi\n",
    "\n",
    "class Rotation2D(TransAffine2D):\n",
    "    \"\"\"Rotation déterminée par un centre (vecteur 2D) et un angle.\n",
    "    \n",
    "    Cette classe hérite de TransAffine2D et ses instances ont \n",
    "    les mêmes attributs mat et vec.\n",
    "    \n",
    "    >>> r = Rotation2D(Vec([1, 1]), pi/2)\n",
    "    >>> r.applique(Vec([0, 0]))\n",
    "    Vec([2.0, 0.0])\n",
    "    \n",
    "    >>> r2 = r.compose(r)\n",
    "    >>> r2.applique(Vec([0, 0]))\n",
    "    Vec([2.0, 2.0])\n",
    "    \"\"\"\n",
    "    def __init__(self, centre, angle):\n",
    "        self.centre = centre\n",
    "        self.angle = angle\n",
    "        \n",
    "        A = ([cos(self.angle), -sin(self.angle)], [sin(self.angle), cos(self.angle)])\n",
    "        self.mat = Mat(A)\n",
    "        self.vec = self.centre - (self.mat * self.centre)\n",
    "        \n",
    "    def __repr__(self):\n",
    "        return \"Rotation2D({}, {})\".format(repr(self.centre), repr(self.angle))\n"
   ]
  },
  {
   "cell_type": "markdown",
   "metadata": {},
   "source": [
    "#### Translations"
   ]
  },
  {
   "cell_type": "code",
   "execution_count": 8,
   "metadata": {},
   "outputs": [],
   "source": [
    "class Translation2D(TransAffine2D):\n",
    "    \"\"\"Translation définie par un vecteur.\n",
    "    \n",
    "    >>> t = Translation2D(Vec([1, 0]))\n",
    "    >>> t.applique(Vec([0, 0]))\n",
    "    Vec([1, 0])\n",
    "    \"\"\"\n",
    "    def __init__(self, vec):\n",
    "        self.mat = Mat(([1,0], [0, 1])) \n",
    "        self.vec = vec \n",
    "        \n",
    "    def __repr__(self):\n",
    "        return \"Translation2D({})\".format(repr(self.vec))"
   ]
  },
  {
   "cell_type": "code",
   "execution_count": 9,
   "metadata": {},
   "outputs": [
    {
     "data": {
      "text/plain": [
       "TestResults(failed=0, attempted=27)"
      ]
     },
     "execution_count": 9,
     "metadata": {},
     "output_type": "execute_result"
    }
   ],
   "source": [
    "from doctest import testmod\n",
    "testmod()"
   ]
  },
  {
   "cell_type": "markdown",
   "metadata": {},
   "source": [
    "#### Essais\n",
    "\n",
    "Pour mieux visualiser l'effet de certaines transformations affines, nous allons dessiner grâce à `matplotlib` l'effet d'une transformation sur un polygone. Pour cela, nous définissions d'abord une classe `Polygone`."
   ]
  },
  {
   "cell_type": "code",
   "execution_count": 10,
   "metadata": {},
   "outputs": [],
   "source": [
    "from matplotlib.patches import Polygon\n",
    "\n",
    "class Polygone:\n",
    "    \"\"\"Polygone composé d'une liste de Vec vus comme des points.\"\"\"\n",
    "    def __init__(self, points):\n",
    "        self.points = [] if points is None else points\n",
    "        \n",
    "    def transforme(self, trans):\n",
    "        \"\"\"Applique la transformation trans à chaque point.\"\"\"\n",
    "        points = map(trans.applique, self.points)\n",
    "        return Polygone(list(points))\n",
    "    \n",
    "    def trace(self, left=0, right=1, top=1, bottom=0):\n",
    "        \"\"\"Trace self sur un graphique matplotlib.\n",
    "        \n",
    "        Les paramètres left, right, bottom et top permettent de spécifier\n",
    "        la portion du plan dessinée.\"\"\"\n",
    "        pts  = []\n",
    "        for v in self.points:\n",
    "            pts.append((v.coeff[0], v.coeff[1]))\n",
    "        fig, ax = plt.subplots()\n",
    "        ax.set_xlim(left=left, right=right)\n",
    "        ax.set_ylim(bottom=bottom, top=top)\n",
    "        ax.grid()\n",
    "        ax.add_patch(Polygon(pts, closed=True))\n",
    "        plt.show()"
   ]
  },
  {
   "cell_type": "markdown",
   "metadata": {},
   "source": [
    " Voici un exemple de visualisation (ici avec la transformation identité) :"
   ]
  },
  {
   "cell_type": "code",
   "execution_count": 11,
   "metadata": {},
   "outputs": [
    {
     "data": {
      "image/png": "[encoded data removed]",
      "text/plain": [
       "<Figure size 432x288 with 1 Axes>"
      ]
     },
     "metadata": {
      "needs_background": "light"
     },
     "output_type": "display_data"
    }
   ],
   "source": [
    "from matplotlib import pyplot as plt\n",
    "\n",
    "p = Polygone([Vec([0, 0]), Vec([1, 0]), \n",
    "              Vec([1, 1]), Vec([0., 2]),\n",
    "              Vec([0, 1])])\n",
    "\n",
    "p.trace(left=-4, right = 4, bottom=-3, top=3)"
   ]
  },
  {
   "cell_type": "markdown",
   "metadata": {},
   "source": [
    "- En utilisant les méthodes `trace` et `transforme`, dessiner l'image du polygone `p` par :\n",
    "    - une rotation de centre $(-1, 0)$ et d'angle $\\pi/2$.\n",
    "    - une translation de vecteur $(-1, 2)$."
   ]
  },
  {
   "cell_type": "code",
   "execution_count": 12,
   "metadata": {},
   "outputs": [
    {
     "data": {
      "image/png": "[encoded data removed]",
      "text/plain": [
       "<Figure size 432x288 with 1 Axes>"
      ]
     },
     "metadata": {
      "needs_background": "light"
     },
     "output_type": "display_data"
    }
   ],
   "source": [
    "tr = Translation2D(Vec([-1, 2]))\n",
    "q = p.transforme(tr)\n",
    "q.trace(left=-4, right = 4, bottom=-3, top=3)"
   ]
  },
  {
   "cell_type": "code",
   "execution_count": 13,
   "metadata": {},
   "outputs": [
    {
     "data": {
      "image/png": "[encoded data removed]",
      "text/plain": [
       "<Figure size 432x288 with 1 Axes>"
      ]
     },
     "metadata": {
      "needs_background": "light"
     },
     "output_type": "display_data"
    }
   ],
   "source": [
    "tr = Rotation2D(Vec([-1, 0]), pi/2)\n",
    "q = p.transforme(tr)\n",
    "q.trace(left=-4, right = 4, bottom=-3, top=3)"
   ]
  },
  {
   "cell_type": "markdown",
   "metadata": {},
   "source": [
    "## C. Application : jeu de vaisseau 2D\n",
    "\n",
    "Pour terminer, voici une ébauche de code d'un petit jeu vidéo de vaisseau spatial. On utilise volontairement le module `tkinter` (et non `upemtk`) directement, pour nous rapprocher d'un fonctionnement proche de JavaScript (création d'un objet `Canvas` et mise en place de \"*listeners*\" pour les événements).\n",
    "\n",
    "Le code est intégralement fourni, il suffit de le tester."
   ]
  },
  {
   "cell_type": "markdown",
   "metadata": {},
   "source": [
    "#### Polygones\n",
    "\n",
    "Nous rédéfinissons la classe Polygone afin de pouvoir dessiner sur un canevas `tkinter`."
   ]
  },
  {
   "cell_type": "code",
   "execution_count": 14,
   "metadata": {},
   "outputs": [],
   "source": [
    "class Polygone:\n",
    "    def __init__(self, points):\n",
    "        self.points = [] if points is None else points\n",
    "        \n",
    "    def transforme(self, trans):\n",
    "        points = map(trans.applique, self.points)\n",
    "        return Polygone(list(points))\n",
    "    \n",
    "    def dessine(self, canevas, etiquette):\n",
    "        coords = []\n",
    "        for p in self.points:\n",
    "            coords.append(p.coeff[0])\n",
    "            coords.append(p.coeff[1])\n",
    "        canevas.create_polygon(\n",
    "            coords, fill=\"gray\", outline=\"black\", width=2, \n",
    "            tag=etiquette)"
   ]
  },
  {
   "cell_type": "markdown",
   "metadata": {},
   "source": [
    "#### Vaisseaux\n",
    "\n",
    "La dynamique du vaisseau obéit à la seconde loi de Newton (sous forme simplifiée) : l'accélération est proportionnelle à la somme des forces qui s'appliquent sur le vaisseau. Couplé à une boucle principale régulière, cela suffit à donner une impression de mouvement réaliste."
   ]
  },
  {
   "cell_type": "code",
   "execution_count": 15,
   "metadata": {},
   "outputs": [],
   "source": [
    "class Vaisseau:\n",
    "    coef_acceleration = 0.05\n",
    "    coef_rotation = 0.0003\n",
    "    \n",
    "    forme_defaut = Polygone([Vec([-15, 10]), Vec([20, 0]), Vec([-15, -10])])\n",
    "    \n",
    "    def __init__(self, jeu, etiquette,\n",
    "                 position=None, vitesse=None, \n",
    "                 direction=0, rotation=0,\n",
    "                 forme=None):\n",
    "        self.jeu = jeu\n",
    "        self.etiquette = etiquette\n",
    "        self.position = Vec([0, 0]) if position is None else position\n",
    "        self.vitesse = Vec([0, 0]) if vitesse is None else vitesse\n",
    "        self.direction = direction\n",
    "        self.rotation = rotation\n",
    "        self.forme = Vaisseau.forme_defaut if forme is None else forme\n",
    "    \n",
    "    def deplace(self):\n",
    "        self.position += self.vitesse\n",
    "        self.direction += self.rotation\n",
    "        \n",
    "    def accelere(self):\n",
    "        vect = Vec([cos(self.direction), sin(self.direction)])\n",
    "        self.vitesse += vect * Vaisseau.coef_acceleration            \n",
    "    \n",
    "    def babord(self):\n",
    "        self.rotation -= Vaisseau.coef_rotation\n",
    "        \n",
    "    def tribord(self):\n",
    "        self.rotation += Vaisseau.coef_rotation\n",
    "        \n",
    "    def gravite(self, other):\n",
    "        v = other.position - self.position\n",
    "        d = max(v.norme(), other.rayon)  # pour éviter des effets bizarres\n",
    "        self.vitesse += v * other.masse * (1 / d ** 3)\n",
    "    \n",
    "    def dessine(self):\n",
    "        self.jeu.canevas.delete(self.etiquette)\n",
    "        rot = Rotation2D(Vec([0, 0]), self.direction)\n",
    "        trans = Translation2D(self.position)\n",
    "        poly = self.forme.transforme(trans.compose(rot))\n",
    "        poly.dessine(self.jeu.canevas, self.etiquette)"
   ]
  },
  {
   "cell_type": "markdown",
   "metadata": {},
   "source": [
    "#### Planètes"
   ]
  },
  {
   "cell_type": "code",
   "execution_count": 16,
   "metadata": {},
   "outputs": [],
   "source": [
    "class Planete:\n",
    "    \n",
    "    def __init__(self, jeu, etiquette, position, masse, rayon):\n",
    "        self.jeu = jeu\n",
    "        self.etiquette = etiquette\n",
    "        self.position = position\n",
    "        self.masse = masse\n",
    "        self.rayon = rayon\n",
    "        \n",
    "    def dessine(self):\n",
    "        self.jeu.canevas.delete(self.etiquette)\n",
    "        x, y = self.position.coeff[0], self.position.coeff[1]\n",
    "        r = self.rayon\n",
    "        self.jeu.canevas.create_oval(x - r, y - r, x + r, y + r,\n",
    "                                     fill=\"gray\", outline=\"black\", width=2,\n",
    "                                     tag=self.etiquette)"
   ]
  },
  {
   "cell_type": "markdown",
   "metadata": {},
   "source": [
    "#### Interface et boucle principale du jeu"
   ]
  },
  {
   "cell_type": "code",
   "execution_count": 19,
   "metadata": {},
   "outputs": [],
   "source": [
    "import tkinter as tk\n",
    "\n",
    "class Jeu:\n",
    "    \n",
    "    def __init__(self, largeur, hauteur):\n",
    "        self.largeur = largeur\n",
    "        self.hauteur = hauteur\n",
    "        \n",
    "        self.racine = tk.Tk()\n",
    "        self.canevas = tk.Canvas(self.racine, width=largeur, height=hauteur)\n",
    "        self.canevas.grid(column=0, row=0, sticky=(tk.N, tk.W, tk.E, tk.S))\n",
    "        \n",
    "        self.vaisseau = Vaisseau(self, \"voyager\", \n",
    "                                 Vec([largeur/2, hauteur/3]),\n",
    "                                 Vec([1, 0]))\n",
    "        self.planete = Planete(self, \"terre\", \n",
    "                               Vec([largeur/2, hauteur/2]), 200, 20)\n",
    "\n",
    "        self.pressees = set()\n",
    "        self.keymap = {\n",
    "            \"Up\": self.vaisseau.accelere,\n",
    "            \"Left\": self.vaisseau.babord,\n",
    "            \"Right\": self.vaisseau.tribord\n",
    "        }\n",
    "        self.configure_touches()\n",
    "        \n",
    "    def configure_touches(self):\n",
    "        self.racine.bind(\"<KeyPress>\", lambda e: self.pressees.add(e.keysym))\n",
    "        self.racine.bind(\"<KeyRelease>\", lambda e: self.pressees.discard(e.keysym))\n",
    "\n",
    "    def traite_touches(self):\n",
    "        for touche in self.keymap.keys() & self.pressees:\n",
    "            self.keymap[touche]()\n",
    "        \n",
    "    def tour(self):\n",
    "        self.traite_touches()\n",
    "        self.vaisseau.deplace()\n",
    "        self.vaisseau.dessine()\n",
    "        self.vaisseau.gravite(self.planete)\n",
    "        self.racine.after(20, self.tour)\n",
    "        \n",
    "    def lance(self):\n",
    "        self.tour()\n",
    "        self.planete.dessine()\n",
    "        self.racine.mainloop()"
   ]
  },
  {
   "cell_type": "code",
   "execution_count": 21,
   "metadata": {},
   "outputs": [],
   "source": [
    "Jeu(800, 800).lance()"
   ]
  },
  {
   "cell_type": "code",
   "execution_count": null,
   "metadata": {},
   "outputs": [],
   "source": []
  }
 ],
 "metadata": {
  "kernelspec": {
   "display_name": "Python 3",
   "language": "python",
   "name": "python3"
  },
  "language_info": {
   "codemirror_mode": {
    "name": "ipython",
    "version": 3
   },
   "file_extension": ".py",
   "mimetype": "text/x-python",
   "name": "python",
   "nbconvert_exporter": "python",
   "pygments_lexer": "ipython3",
   "version": "3.8.5"
  }
 },
 "nbformat": 4,
 "nbformat_minor": 2
}
